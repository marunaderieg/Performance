{
 "cells": [
  {
   "cell_type": "code",
   "execution_count": 3,
   "metadata": {},
   "outputs": [
    {
     "name": "stdout",
     "output_type": "stream",
     "text": [
      "\n",
      "Type a float number: \n",
      "\n"
     ]
    },
    {
     "name": "stdin",
     "output_type": "stream",
     "text": [
      " 0.6\n"
     ]
    },
    {
     "name": "stdout",
     "output_type": "stream",
     "text": [
      "\n",
      "Try again...in our scenario p is 24, and the speed-up is serial time (6 hours) divided by parallel time (30 minutes).\n",
      "\n",
      "\n"
     ]
    }
   ],
   "source": [
    "print('\\nType a float number: \\n')\n",
    "x = input()\n",
    "if x=='0.5':\n",
    "    print(\"\\nVery good! \\n\\n\") \n",
    "else: \n",
    "    print(\"\\nTry again...in our scenario p is 24, and the speed-up is serial time (6 hours) divided by parallel time (30 minutes).\\n\\n\")"
   ]
  },
  {
   "cell_type": "code",
   "execution_count": null,
   "metadata": {},
   "outputs": [],
   "source": []
  }
 ],
 "metadata": {
  "kernelspec": {
   "display_name": "Python 3",
   "language": "python",
   "name": "python3"
  },
  "language_info": {
   "codemirror_mode": {
    "name": "ipython",
    "version": 3
   },
   "file_extension": ".py",
   "mimetype": "text/x-python",
   "name": "python",
   "nbconvert_exporter": "python",
   "pygments_lexer": "ipython3",
   "version": "3.8.5"
  }
 },
 "nbformat": 4,
 "nbformat_minor": 4
}
