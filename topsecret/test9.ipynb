{
 "cells": [
  {
   "cell_type": "code",
   "execution_count": null,
   "metadata": {},
   "outputs": [],
   "source": [
    "print(\"Type 'yes or 'no':\")\n",
    "x = input()\n",
    "if x=='no':\n",
    "    print(\"\\nI agree! An error of 5 miliseconds becomes insignificant in this scenario.\")\n",
    "else:\n",
    "    print(\"\\nAre you sure? Remember, the larger the runtime of a program, the more insignificant the error due to overhead becomes.\")S"
   ]
  }
 ],
 "metadata": {
  "kernelspec": {
   "display_name": "Python 3",
   "language": "python",
   "name": "python3"
  },
  "language_info": {
   "codemirror_mode": {
    "name": "ipython",
    "version": 3
   },
   "file_extension": ".py",
   "mimetype": "text/x-python",
   "name": "python",
   "nbconvert_exporter": "python",
   "pygments_lexer": "ipython3",
   "version": "3.7.9"
  }
 },
 "nbformat": 4,
 "nbformat_minor": 4
}
