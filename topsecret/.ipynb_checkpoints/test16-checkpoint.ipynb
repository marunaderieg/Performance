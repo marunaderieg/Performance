{
 "cells": [
  {
   "cell_type": "code",
   "execution_count": null,
   "metadata": {},
   "outputs": [],
   "source": [
    "print('\\nType \"weak\" or \"strong\": \\n')\n",
    "x = input()\n",
    "if x=='strong':\n",
    "    print(\"\\nVery good! With Amdahl's law we can calculate an upper bound for speed-up for a fixed problem size. Thus we look at strong scalability.\\n\\n\") \n",
    "elif x=='weak': \n",
    "    print(\"\\nTry again...maybe look at the formula of Amdahl's law again and see if you see the problem size in there (or not).\\n\\n\")\n",
    "else: \n",
    "    print('No valid answer. Type \"weak\" or \"strong\"')"
   ]
  }
 ],
 "metadata": {
  "kernelspec": {
   "display_name": "Python 3",
   "language": "python",
   "name": "python3"
  },
  "language_info": {
   "codemirror_mode": {
    "name": "ipython",
    "version": 3
   },
   "file_extension": ".py",
   "mimetype": "text/x-python",
   "name": "python",
   "nbconvert_exporter": "python",
   "pygments_lexer": "ipython3",
   "version": "3.8.5"
  }
 },
 "nbformat": 4,
 "nbformat_minor": 4
}
