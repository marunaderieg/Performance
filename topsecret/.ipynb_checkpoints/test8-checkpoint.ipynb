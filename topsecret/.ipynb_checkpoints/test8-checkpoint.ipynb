{
 "cells": [
  {
   "cell_type": "code",
   "execution_count": null,
   "metadata": {},
   "outputs": [],
   "source": [
    "print(\"Type 'yes or 'no':\")\n",
    "x = input()\n",
    "if x=='yes':\n",
    "    print(\"\\nVery Good!!!That seems like a relevant error, as we end up with a measurement double as high than the true run time. \")\n",
    "else:\n",
    "    print(\"\\nAre you sure? 5 milisecodons seem very small, but compared to the true runtime of the programm it is large. Becasue we end up with a measurement double as high than the true run time, this error is relevant.\")\n",
    "\n"
   ]
  }
 ],
 "metadata": {
  "kernelspec": {
   "display_name": "Python 3",
   "language": "python",
   "name": "python3"
  },
  "language_info": {
   "codemirror_mode": {
    "name": "ipython",
    "version": 3
   },
   "file_extension": ".py",
   "mimetype": "text/x-python",
   "name": "python",
   "nbconvert_exporter": "python",
   "pygments_lexer": "ipython3",
   "version": "3.7.9"
  }
 },
 "nbformat": 4,
 "nbformat_minor": 4
}
