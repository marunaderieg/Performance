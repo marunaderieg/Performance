{
 "cells": [
  {
   "cell_type": "code",
   "execution_count": null,
   "metadata": {},
   "outputs": [
    {
     "name": "stdout",
     "output_type": "stream",
     "text": [
      "Which value would you choose? \n",
      "\n",
      "Type 'smallest','largest' or 'average': \n"
     ]
    }
   ],
   "source": [
    "print(\"Which value would you choose? \\n\\nType 'smallest','largest' or 'average': \")\n",
    "x = input()\n",
    "if x=='smallest':\n",
    "    print(\"\\nVery Good!!!\\nAccording to Peter Pachecco[a] this is correct. Think about it this way: \\nYou have different values for the exectution time because each time you run the code, different amount of background work is happening on your system. The 'real' execution time is the one, when no background work is happening at all. So the smaller the exectuion time you measured is, the closer you are to the 'real' execution time. Therefore it makes most sense, to choose the smallest value.\\n\\n\")\n",
    "elif x=='largest':\n",
    "    print(\"\\nAre you sure?\\nAccording to Peter Pachecco[a] you should choose the smallest value instead. Think about it this way: \\nYou have different values for the exectution time because each time you run the code, different amount of background work is happening on your system. The 'real' execution time is the one, when no background work is happening at all. So the smaller the exectuion time you measured is, the closer you are to the 'real' execution time. Therefore it makes most sense, to choose the smallest value.\\n\\n\")\n",
    "elif x=='average':\n",
    "    print(\"\\nAre you sure?\\nAccording to Peter Pachecco[a] you should choose the smallest value instead. Think about it this way: \\nYou have different values for the exectution time because each time you run the code, different amount of background work is happening on your system. The 'real' execution time is the one, when no background work is happening at all. So the smaller the exectuion time you measured is, the closer you are to the 'real' execution time. Therefore it makes most sense, to choose the smallest value.\\n\\n\")\n",
    "else:\n",
    "    print(\"\\nYou did't type a valid answer.\")"
   ]
  },
  {
   "cell_type": "code",
   "execution_count": null,
   "metadata": {},
   "outputs": [],
   "source": []
  }
 ],
 "metadata": {
  "kernelspec": {
   "display_name": "Python 3",
   "language": "python",
   "name": "python3"
  },
  "language_info": {
   "codemirror_mode": {
    "name": "ipython",
    "version": 3
   },
   "file_extension": ".py",
   "mimetype": "text/x-python",
   "name": "python",
   "nbconvert_exporter": "python",
   "pygments_lexer": "ipython3",
   "version": "3.8.3"
  }
 },
 "nbformat": 4,
 "nbformat_minor": 4
}
