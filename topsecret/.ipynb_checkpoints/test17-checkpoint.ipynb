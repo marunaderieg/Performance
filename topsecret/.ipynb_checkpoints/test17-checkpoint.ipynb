{
 "cells": [
  {
   "cell_type": "code",
   "execution_count": null,
   "metadata": {},
   "outputs": [],
   "source": [
    "print('\\nType \"same\",\"smaller\",\"bigger\": \\n')\n",
    "x = input()\n",
    "if x=='same':\n",
    "    print('Are you sure? Keep reading to understand why your answer is not correct.')\n",
    "elif x=='smaller':\n",
    "    print('Very good!')\n",
    "elif x=='bigger':\n",
    "    print('Are you sure? Keep reading to understand why your answer is not correct.')\n",
    "else:\n",
    "    print('Answer not valid. Type \"same\",\"smaller\" or \"bigger\"')"
   ]
  }
 ],
 "metadata": {
  "kernelspec": {
   "display_name": "Python 3",
   "language": "python",
   "name": "python3"
  },
  "language_info": {
   "codemirror_mode": {
    "name": "ipython",
    "version": 3
   },
   "file_extension": ".py",
   "mimetype": "text/x-python",
   "name": "python",
   "nbconvert_exporter": "python",
   "pygments_lexer": "ipython3",
   "version": "3.8.5"
  }
 },
 "nbformat": 4,
 "nbformat_minor": 4
}
