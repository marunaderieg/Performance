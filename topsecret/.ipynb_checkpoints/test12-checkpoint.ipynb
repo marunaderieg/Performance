{
 "cells": [
  {
   "cell_type": "code",
   "execution_count": null,
   "metadata": {},
   "outputs": [],
   "source": [
    "print('\\nHow many hours?: \\n')\n",
    "x = input()\n",
    "if x=='5':\n",
    "    print(\"\\nVery good!\") \n",
    "else: \n",
    "    print(\"\\nTry again...remeber, we can fill up the truck and empty the truck 3 times faster thanks to our friends.\")"
   ]
  }
 ],
 "metadata": {
  "kernelspec": {
   "display_name": "Python 3",
   "language": "python",
   "name": "python3"
  },
  "language_info": {
   "codemirror_mode": {
    "name": "ipython",
    "version": 3
   },
   "file_extension": ".py",
   "mimetype": "text/x-python",
   "name": "python",
   "nbconvert_exporter": "python",
   "pygments_lexer": "ipython3",
   "version": "3.8.5"
  }
 },
 "nbformat": 4,
 "nbformat_minor": 4
}
