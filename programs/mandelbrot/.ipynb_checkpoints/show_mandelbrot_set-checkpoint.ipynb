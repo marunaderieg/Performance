{
 "cells": [
  {
   "cell_type": "code",
   "execution_count": 140,
   "metadata": {},
   "outputs": [],
   "source": [
    "import numpy as np\n",
    "import matplotlib.pyplot as plt\n",
    "\n",
    "def rgb_to_hex(rgb):\n",
    "    return '#%02x%02x%02x' % tuple(rgb)"
   ]
  },
  {
   "cell_type": "code",
   "execution_count": 141,
   "metadata": {},
   "outputs": [],
   "source": [
    "# read the rgb values from picture.txt file and m,n dimensions (first row)\n",
    "rgb = np.genfromtxt(\"picture.txt\",delimiter=\",\",dtype=int)\n",
    "m = rgb[0][0]\n",
    "n = rgb[0][1]"
   ]
  },
  {
   "cell_type": "code",
   "execution_count": 143,
   "metadata": {},
   "outputs": [],
   "source": [
    "# convert rgb to hex (ignore first line, because first line contains dimensions m and n)\n",
    "hex = []\n",
    "for i in np.arange(1,rgb.shape[0]):\n",
    "    hex.append(rgb_to_hex(rgb[i]))"
   ]
  },
  {
   "cell_type": "code",
   "execution_count": 144,
   "metadata": {},
   "outputs": [],
   "source": [
    "# create arrays x and y for the scatter plot\n",
    "x = np.arange(n)\n",
    "y = np.zeros(m)\n",
    "for i in np.arange(m-1):\n",
    "    x = np.concatenate((x,np.arange(n)))\n",
    "for j in np.arange(n-1):\n",
    "    y = np.concatenate((y,np.ones(m)*j+1))"
   ]
  },
  {
   "cell_type": "code",
   "execution_count": null,
   "metadata": {},
   "outputs": [],
   "source": [
    "# plot\n",
    "plt.scatter(x, y, c=hex);"
   ]
  }
 ],
 "metadata": {
  "kernelspec": {
   "display_name": "Python 3",
   "language": "python",
   "name": "python3"
  },
  "language_info": {
   "codemirror_mode": {
    "name": "ipython",
    "version": 3
   },
   "file_extension": ".py",
   "mimetype": "text/x-python",
   "name": "python",
   "nbconvert_exporter": "python",
   "pygments_lexer": "ipython3",
   "version": "3.7.9"
  }
 },
 "nbformat": 4,
 "nbformat_minor": 4
}
