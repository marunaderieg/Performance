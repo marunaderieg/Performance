{
 "cells": [
  {
   "cell_type": "code",
   "execution_count": 36,
   "metadata": {},
   "outputs": [],
   "source": [
    "time = []\n",
    "threads = [1,2,4,8,16,32,64]\n",
    "timeit_object = %timeit -o -n 10 -r 1 -q ! ../programms/pi/par.o 1 >/dev/null\n",
    "time.append(timeit_object.best)\n",
    "timeit_object = %timeit -o -n 10 -r 1 -q ! ../programms/pi/par.o 2 >/dev/null\n",
    "time.append(timeit_object.best)\n",
    "timeit_object = %timeit -o -n 10 -r 1 -q ! ../programms/pi/par.o 4 >/dev/null\n",
    "time.append(timeit_object.best)\n",
    "timeit_object = %timeit -o -n 10 -r 1 -q ! ../programms/pi/par.o 8 >/dev/null\n",
    "time.append(timeit_object.best)\n",
    "timeit_object = %timeit -o -n 10 -r 1 -q ! ../programms/pi/par.o 16 >/dev/null\n",
    "time.append(timeit_object.best)\n",
    "timeit_object = %timeit -o -n 10 -r 1 -q ! ../programms/pi/par.o 32 >/dev/null\n",
    "time.append(timeit_object.best) \n",
    "timeit_object = %timeit -o -n 10 -r 1 -q ! ../programms/pi/par.o 64 >/dev/null\n",
    "time.append(timeit_object.best)"
   ]
  },
  {
   "cell_type": "code",
   "execution_count": 43,
   "metadata": {},
   "outputs": [
    {
     "data": {
      "text/plain": [
       "Text(0.5, 1.0, 'Execution time with different amount of threads')"
      ]
     },
     "execution_count": 43,
     "metadata": {},
     "output_type": "execute_result"
    },
    {
     "data": {
      "image/png": "[encoded data removed]",
      "text/plain": [
       "<Figure size 504x360 with 1 Axes>"
      ]
     },
     "metadata": {
      "needs_background": "light"
     },
     "output_type": "display_data"
    }
   ],
   "source": [
    "import matplotlib as mpl\n",
    "import matplotlib.pyplot as plt\n",
    "\n",
    "#plot\n",
    "fig,ax = plt.subplots(figsize=(7,5))\n",
    "ax.scatter(threads,time)\n",
    "ax.set_xticks(threads)\n",
    "ax.set_xticklabels(threads)\n",
    "ax.set_ylabel('Execution time')\n",
    "ax.set_xlabel('Threads')\n",
    "ax.set_title('Execution time with different amount of threads')"
   ]
  },
  {
   "cell_type": "code",
   "execution_count": null,
   "metadata": {},
   "outputs": [],
   "source": []
  }
 ],
 "metadata": {
  "kernelspec": {
   "display_name": "Python 3",
   "language": "python",
   "name": "python3"
  },
  "language_info": {
   "codemirror_mode": {
    "name": "ipython",
    "version": 3
   },
   "file_extension": ".py",
   "mimetype": "text/x-python",
   "name": "python",
   "nbconvert_exporter": "python",
   "pygments_lexer": "ipython3",
   "version": "3.7.9"
  }
 },
 "nbformat": 4,
 "nbformat_minor": 4
}
