{
 "cells": [
  {
   "cell_type": "code",
   "execution_count": 8,
   "metadata": {},
   "outputs": [],
   "source": [
    "# measure time with exponentionally increasing intervals --> 1,2,4,8,16,32,64 threads\n",
    "time = []\n",
    "threads = [1,2,4,8,16,32,64]\n",
    "timeit_object = %timeit -o -n 10 -r 1 -q ! ../programms/jacobi/par.o 1 >/dev/null\n",
    "time.append(timeit_object.best)\n",
    "timeit_object = %timeit -o -n 10 -r 1 -q ! ../programms/jacobi/par.o 2 >/dev/null\n",
    "time.append(timeit_object.best)\n",
    "timeit_object = %timeit -o -n 10 -r 1 -q ! ../programms/jacobi/par.o 4 >/dev/null\n",
    "time.append(timeit_object.best)\n",
    "timeit_object = %timeit -o -n 10 -r 1 -q ! ../programms/jacobi/par.o 8 >/dev/null\n",
    "time.append(timeit_object.best)\n",
    "timeit_object = %timeit -o -n 10 -r 1 -q ! ../programms/jacobi/par.o 16 >/dev/null\n",
    "time.append(timeit_object.best)\n",
    "timeit_object = %timeit -o -n 10 -r 1 -q ! ../programms/jacobi/par.o 32 >/dev/null\n",
    "time.append(timeit_object.best) \n",
    "timeit_object = %timeit -o -n 10 -r 1 -q ! ../programms/jacobi/par.o 64 >/dev/null\n",
    "time.append(timeit_object.best)"
   ]
  },
  {
   "cell_type": "code",
   "execution_count": null,
   "metadata": {},
   "outputs": [],
   "source": [
    "# measure time with intervals of 8 --> 1,8,16,24,32,40,48,56,64 threads\n",
    "time = []\n",
    "threads = [1,8,16,24,32,40,48,56,64]\n",
    "timeit_object = %timeit -o -n 10 -r 1 -q ! ../programms/jacobi/par.o 1 >/dev/null\n",
    "time.append(timeit_object.best)\n",
    "timeit_object = %timeit -o -n 10 -r 1 -q ! ../programms/jacobi/par.o 8 >/dev/null\n",
    "time.append(timeit_object.best) \n",
    "timeit_object = %timeit -o -n 10 -r 1 -q ! ../programms/jacobi/par.o 16 >/dev/null\n",
    "time.append(timeit_object.best)\n",
    "timeit_object = %timeit -o -n 10 -r 1 -q ! ../programms/jacobi/par.o 24 >/dev/null\n",
    "time.append(timeit_object.best)\n",
    "timeit_object = %timeit -o -n 10 -r 1 -q ! ../programms/jacobi/par.o 32 >/dev/null\n",
    "time.append(timeit_object.best)\n",
    "timeit_object = %timeit -o -n 10 -r 1 -q ! ../programms/jacobi/par.o 40 >/dev/null\n",
    "time.append(timeit_object.best)\n",
    "timeit_object = %timeit -o -n 10 -r 1 -q ! ../programms/jacobi/par.o 48 >/dev/null\n",
    "time.append(timeit_object.best)\n",
    "timeit_object = %timeit -o -n 10 -r 1 -q ! ../programms/jacobi/par.o 56 >/dev/null\n",
    "time.append(timeit_object.best)\n",
    "timeit_object = %timeit -o -n 10 -r 1 -q ! ../programms/jacobi/par.o 64 >/dev/null\n",
    "time.append(timeit_object.best)"
   ]
  },
  {
   "cell_type": "code",
   "execution_count": 10,
   "metadata": {},
   "outputs": [],
   "source": [
    "# measure time with intervals of 4 --> 1,4,8,13,16,20,...,64 threads\n",
    "time = []\n",
    "threads = [1,4,8,12,16,20,24,28,32,36,40,44,48,52,56,60,64]\n",
    "timeit_object = %timeit -o -n 10 -r 1 -q ! ../programms/jacobi/par.o 1 >/dev/null\n",
    "time.append(timeit_object.best)\n",
    "timeit_object = %timeit -o -n 10 -r 1 -q ! ../programms/jacobi/par.o 4 >/dev/null\n",
    "time.append(timeit_object.best)\n",
    "timeit_object = %timeit -o -n 10 -r 1 -q ! ../programms/jacobi/par.o 8 >/dev/null\n",
    "time.append(timeit_object.best)\n",
    "timeit_object = %timeit -o -n 10 -r 1 -q ! ../programms/jacobi/par.o 12 >/dev/null\n",
    "time.append(timeit_object.best)\n",
    "timeit_object = %timeit -o -n 10 -r 1 -q ! ../programms/jacobi/par.o 16 >/dev/null\n",
    "time.append(timeit_object.best)\n",
    "timeit_object = %timeit -o -n 10 -r 1 -q ! ../programms/jacobi/par.o 20 >/dev/null\n",
    "time.append(timeit_object.best)\n",
    "timeit_object = %timeit -o -n 10 -r 1 -q ! ../programms/jacobi/par.o 24 >/dev/null\n",
    "time.append(timeit_object.best)\n",
    "timeit_object = %timeit -o -n 10 -r 1 -q ! ../programms/jacobi/par.o 28 >/dev/null\n",
    "time.append(timeit_object.best)\n",
    "timeit_object = %timeit -o -n 10 -r 1 -q ! ../programms/jacobi/par.o 32 >/dev/null\n",
    "time.append(timeit_object.best)\n",
    "timeit_object = %timeit -o -n 10 -r 1 -q ! ../programms/jacobi/par.o 36 >/dev/null\n",
    "time.append(timeit_object.best) \n",
    "timeit_object = %timeit -o -n 10 -r 1 -q ! ../programms/jacobi/par.o 40 >/dev/null\n",
    "time.append(timeit_object.best)\n",
    "timeit_object = %timeit -o -n 10 -r 1 -q ! ../programms/jacobi/par.o 44 >/dev/null\n",
    "time.append(timeit_object.best)\n",
    "timeit_object = %timeit -o -n 10 -r 1 -q ! ../programms/jacobi/par.o 48 >/dev/null\n",
    "time.append(timeit_object.best)\n",
    "timeit_object = %timeit -o -n 10 -r 1 -q ! ../programms/jacobi/par.o 52 >/dev/null\n",
    "time.append(timeit_object.best)\n",
    "timeit_object = %timeit -o -n 10 -r 1 -q ! ../programms/jacobi/par.o 56 >/dev/null\n",
    "time.append(timeit_object.best)\n",
    "timeit_object = %timeit -o -n 10 -r 1 -q ! ../programms/jacobi/par.o 60 >/dev/null\n",
    "time.append(timeit_object.best)\n",
    "timeit_object = %timeit -o -n 10 -r 1 -q ! ../programms/jacobi/par.o 64 >/dev/null\n",
    "time.append(timeit_object.best)"
   ]
  },
  {
   "cell_type": "code",
   "execution_count": 12,
   "metadata": {},
   "outputs": [
    {
     "data": {
      "text/plain": [
       "Text(0.5, 1.0, 'Execution time with different amount of threads')"
      ]
     },
     "execution_count": 12,
     "metadata": {},
     "output_type": "execute_result"
    },
    {
     "data": {
      "image/png": "[encoded data removed]",
      "text/plain": [
       "<Figure size 504x360 with 1 Axes>"
      ]
     },
     "metadata": {
      "needs_background": "light"
     },
     "output_type": "display_data"
    }
   ],
   "source": [
    "import matplotlib as mpl\n",
    "import matplotlib.pyplot as plt\n",
    "\n",
    "#plot\n",
    "fig,ax = plt.subplots(figsize=(7,5))\n",
    "ax.scatter(threads,time)\n",
    "ax.set_xticks(threads)\n",
    "ax.set_xticklabels(threads)\n",
    "ax.set_ylabel('Execution time')\n",
    "ax.set_xlabel('Threads')\n",
    "ax.set_title('Execution time with different amount of threads')"
   ]
  },
  {
   "cell_type": "code",
   "execution_count": null,
   "metadata": {},
   "outputs": [],
   "source": []
  }
 ],
 "metadata": {
  "kernelspec": {
   "display_name": "Python 3",
   "language": "python",
   "name": "python3"
  },
  "language_info": {
   "codemirror_mode": {
    "name": "ipython",
    "version": 3
   },
   "file_extension": ".py",
   "mimetype": "text/x-python",
   "name": "python",
   "nbconvert_exporter": "python",
   "pygments_lexer": "ipython3",
   "version": "3.7.9"
  }
 },
 "nbformat": 4,
 "nbformat_minor": 4
}
