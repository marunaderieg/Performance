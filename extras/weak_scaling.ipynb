{
 "cells": [
  {
   "cell_type": "markdown",
   "metadata": {},
   "source": [
    "<a id='weakscaling'></a>\n",
    "# Weak Scaling \n",
    "\n",
    "The following code measures the execution times of a certain program with an increasing number of threads. As we increase the thread number we also increase the problem size. This is called weak scaling.\n",
    "\n",
    "In the first half we make our calculations based on the program, which measures execution time on the algorithm only. In the second half we make the exact same calculations, but we measure the execution time of the entire program. "
   ]
  },
  {
   "cell_type": "markdown",
   "metadata": {},
   "source": [
    "## Which program do you want to test ?\n",
    "\n",
    "In the following code line, replace the last word `matrixmultiplication` with the program name you want to test. Then run all the code lines (and be patient). \n",
    "\n",
    "These are your options:\n",
    "- pi\n",
    "- jacobi\n",
    "- fibonacci\n",
    "- findprime\n",
    "- mandelbrot\n",
    "- quicksort\n",
    "- mergesort\n",
    "- bubblesort\n",
    "- selectionsort\n",
    "- matrixmultiplication\n",
    "\n",
    "You can also test your own program. Check the readme file to find out how to do this."
   ]
  },
  {
   "cell_type": "code",
   "execution_count": 4,
   "metadata": {},
   "outputs": [
    {
     "name": "stdout",
     "output_type": "stream",
     "text": [
      "/home/jovyan/work/Thesis/programs/matrixmultiplication\n"
     ]
    }
   ],
   "source": [
    "%cd ~/performance/programs/matrixmultiplication"
   ]
  },
  {
   "cell_type": "code",
   "execution_count": 5,
   "metadata": {},
   "outputs": [
    {
     "name": "stdout",
     "output_type": "stream",
     "text": [
      "We want to run the code with:\n",
      "1 thread and problem size 10\n",
      "2 threads and problem size 20\n",
      "4 threads and problem size 40\n",
      "8 threads and problem size 80\n",
      "16 threads and problem size 160\n",
      "32 threads and problem size 320\n",
      "64 threads and problem size 640\n"
     ]
    }
   ],
   "source": [
    "import numpy as np\n",
    "\n",
    "#start of parameters you might want to adjust (for a linear increase in problemsize)\n",
    "y = 0\n",
    "angle = 10\n",
    "threads = np.array([1,2,4,8,16,32,64])\n",
    "#end of parameters you might want to adjust\n",
    "\n",
    "problemsize = y+angle*threads\n",
    "#problemsize = np.array([10,20,40,80,160,320,640])  #if you want to set manual problem sizes for each thread\n",
    "\n",
    "print(\"We want to run the code with:\")\n",
    "print(str(threads[0])+\" thread and problem size \" + str(problemsize[0]))\n",
    "for i in range(len(threads)-1):\n",
    "    print(str(threads[i+1])+\" threads and problem size \" + str(problemsize[i+1]))"
   ]
  },
  {
   "cell_type": "markdown",
   "metadata": {},
   "source": [
    "You have to manually adjust the time measurements in the following code cell so it measures with the problem size and thread number you decided on. The values you set for the variables 'threads' and 'problem_size' in the previous code cell have to match the values you pass as arguments in the following code cell. Remember, the first argument you pass is the thread number, the second argument is the number of repeats, and the third argument is the problem size. You have to type out the full number in the terminal command; something like '1e5*8' will not work. `>/dev/null` suppresses the terminal output."
   ]
  },
  {
   "cell_type": "code",
   "execution_count": 6,
   "metadata": {},
   "outputs": [],
   "source": [
    "time_parallel = []\n",
    "time_serial = []\n",
    "\n",
    "# measure serial execution time\n",
    "! ./timing.o 1 5 10 >/dev/null\n",
    "time_serial.append(np.genfromtxt('./time.txt'))\n",
    "! ./timing.o 1 5 20 >/dev/null\n",
    "time_serial.append(np.genfromtxt('./time.txt'))\n",
    "! ./timing.o 1 5 40 >/dev/null\n",
    "time_serial.append(np.genfromtxt('./time.txt'))\n",
    "! ./timing.o 1 5 80 >/dev/null\n",
    "time_serial.append(np.genfromtxt('./time.txt'))\n",
    "! ./timing.o 1 5 160 >/dev/null\n",
    "time_serial.append(np.genfromtxt('./time.txt'))\n",
    "! ./timing.o 1 5 320 >/dev/null\n",
    "time_serial.append(np.genfromtxt('./time.txt'))\n",
    "! ./timing.o 1 5 640 >/dev/null\n",
    "time_serial.append(np.genfromtxt('./time.txt'))\n",
    "\n",
    "# measure parallel execution time\n",
    "! ./timing.o 1 5 10 >/dev/null\n",
    "time_parallel.append(np.genfromtxt('./time.txt'))\n",
    "! ./timing.o 2 5 20 >/dev/null\n",
    "time_parallel.append(np.genfromtxt('./time.txt'))\n",
    "! ./timing.o 4 5 40 >/dev/null\n",
    "time_parallel.append(np.genfromtxt('./time.txt'))\n",
    "! ./timing.o 8 5 80 >/dev/null\n",
    "time_parallel.append(np.genfromtxt('./time.txt'))\n",
    "! ./timing.o 16 5 160 >/dev/null\n",
    "time_parallel.append(np.genfromtxt('./time.txt'))\n",
    "! ./timing.o 32 5 320 >/dev/null\n",
    "time_parallel.append(np.genfromtxt('./time.txt'))\n",
    "! ./timing.o 64 5 640 >/dev/null\n",
    "time_parallel.append(np.genfromtxt('./time.txt'))\n",
    "\n",
    "# calculate speedup and efficiency\n",
    "speedup = np.array(time_serial)/np.array(time_parallel)\n",
    "efficiency = speedup/threads"
   ]
  },
  {
   "cell_type": "code",
   "execution_count": 2,
   "metadata": {},
   "outputs": [
    {
     "ename": "NameError",
     "evalue": "name 'threads' is not defined",
     "output_type": "error",
     "traceback": [
      "\u001b[0;31m---------------------------------------------------------------------------\u001b[0m",
      "\u001b[0;31mNameError\u001b[0m                                 Traceback (most recent call last)",
      "\u001b[0;32m<ipython-input-2-b883109b6dc8>\u001b[0m in \u001b[0;36m<module>\u001b[0;34m\u001b[0m\n\u001b[1;32m      7\u001b[0m \u001b[0;31m# plot\u001b[0m\u001b[0;34m\u001b[0m\u001b[0;34m\u001b[0m\u001b[0;34m\u001b[0m\u001b[0m\n\u001b[1;32m      8\u001b[0m \u001b[0mfig\u001b[0m\u001b[0;34m,\u001b[0m\u001b[0max\u001b[0m \u001b[0;34m=\u001b[0m \u001b[0mplt\u001b[0m\u001b[0;34m.\u001b[0m\u001b[0msubplots\u001b[0m\u001b[0;34m(\u001b[0m\u001b[0mfigsize\u001b[0m\u001b[0;34m=\u001b[0m\u001b[0;34m(\u001b[0m\u001b[0;36m6\u001b[0m\u001b[0;34m,\u001b[0m\u001b[0;36m4\u001b[0m\u001b[0;34m)\u001b[0m\u001b[0;34m)\u001b[0m\u001b[0;34m\u001b[0m\u001b[0;34m\u001b[0m\u001b[0m\n\u001b[0;32m----> 9\u001b[0;31m \u001b[0;32mfor\u001b[0m \u001b[0mi\u001b[0m \u001b[0;32min\u001b[0m \u001b[0mrange\u001b[0m\u001b[0;34m(\u001b[0m\u001b[0mlen\u001b[0m\u001b[0;34m(\u001b[0m\u001b[0mthreads\u001b[0m\u001b[0;34m)\u001b[0m\u001b[0;34m)\u001b[0m\u001b[0;34m:\u001b[0m\u001b[0;34m\u001b[0m\u001b[0;34m\u001b[0m\u001b[0m\n\u001b[0m\u001b[1;32m     10\u001b[0m     \u001b[0max\u001b[0m\u001b[0;34m.\u001b[0m\u001b[0mscatter\u001b[0m\u001b[0;34m(\u001b[0m\u001b[0mthreads\u001b[0m\u001b[0;34m[\u001b[0m\u001b[0mi\u001b[0m\u001b[0;34m]\u001b[0m\u001b[0;34m,\u001b[0m\u001b[0mtime_parallel\u001b[0m\u001b[0;34m[\u001b[0m\u001b[0mi\u001b[0m\u001b[0;34m]\u001b[0m\u001b[0;34m,\u001b[0m\u001b[0mlabel\u001b[0m\u001b[0;34m=\u001b[0m\u001b[0mproblemsize\u001b[0m\u001b[0;34m[\u001b[0m\u001b[0mi\u001b[0m\u001b[0;34m]\u001b[0m\u001b[0;34m)\u001b[0m\u001b[0;34m\u001b[0m\u001b[0;34m\u001b[0m\u001b[0m\n\u001b[1;32m     11\u001b[0m \u001b[0max\u001b[0m\u001b[0;34m.\u001b[0m\u001b[0mset_xticks\u001b[0m\u001b[0;34m(\u001b[0m\u001b[0mthreads\u001b[0m\u001b[0;34m)\u001b[0m\u001b[0;34m\u001b[0m\u001b[0;34m\u001b[0m\u001b[0m\n",
      "\u001b[0;31mNameError\u001b[0m: name 'threads' is not defined"
     ]
    },
    {
     "data": {
      "image/png": "[encoded data removed]",
      "text/plain": [
       "<Figure size 432x288 with 1 Axes>"
      ]
     },
     "metadata": {
      "needs_background": "light"
     },
     "output_type": "display_data"
    }
   ],
   "source": [
    "# plot results\n",
    "\n",
    "import matplotlib as mpl\n",
    "import matplotlib.pyplot as plt\n",
    "%matplotlib inline\n",
    "\n",
    "# plot\n",
    "fig,ax = plt.subplots(figsize=(6,4))\n",
    "for i in range(len(threads)):\n",
    "    ax.scatter(threads[i],time_parallel[i],label=problemsize[i])\n",
    "ax.set_xticks(threads)\n",
    "ax.set_xticklabels(threads)\n",
    "ax.set_ylabel('Execution Time')\n",
    "ax.set_xlabel('Threads')\n",
    "ax.set_title('Algorithm Only - Weak Scaling')\n",
    "ax.legend(title=\"Problem Size\")\n",
    "\n",
    "fig,ax = plt.subplots(1,2,figsize=(14,5))\n",
    "for i in range(len(threads)):\n",
    "    ax[0].scatter(threads[i],speedup[i],label=problemsize[i])\n",
    "ax[0].set_xticks(threads)\n",
    "ax[0].set_xticklabels(threads)\n",
    "ax[0].set_ylabel('Speed-up')\n",
    "ax[0].set_xlabel('Threads')\n",
    "ax[0].set_title('Algorithm Only - Weak Scaling')\n",
    "ax[0].legend(title=\"Problem Size\")\n",
    "\n",
    "for i in range(len(threads)):\n",
    "    ax[1].scatter(threads[i],efficiency[i],label=problemsize[i])\n",
    "ax[1].set_xticks(threads)\n",
    "ax[1].set_xticklabels(threads)\n",
    "ax[1].set_ylabel('Efficiency')\n",
    "ax[1].set_xlabel('Threads')\n",
    "ax[1].set_title('Algorithm Only - Weak Scaling');\n",
    "ax[1].legend(title=\"Problem Size\");"
   ]
  },
  {
   "cell_type": "markdown",
   "metadata": {},
   "source": [
    "### Measuring Elapsed Time on the Algorithm Only"
   ]
  },
  {
   "cell_type": "code",
   "execution_count": null,
   "metadata": {},
   "outputs": [],
   "source": [
    "import numpy as np\n",
    "\n",
    "#start of parameters you might want to adjust (for a linear increase in problemsize)\n",
    "y2 = 0\n",
    "angle2 = 10\n",
    "threads2 = np.array([1,2,4,8,16,32,64])\n",
    "#end of parameters you might want to adjust\n",
    "\n",
    "problemsize2 = y2+angle2*threads2\n",
    "#problemsize2 = np.array([10,20,40,80,160,320,640])  #if you want to set manual problem sizes for each thread\n",
    "\n",
    "print(\"We want to run the code with:\")\n",
    "print(str(threads2[0])+\" thread and problem size \" + str(problemsize2[0]))\n",
    "for i in range(len(threads2)-1):\n",
    "    print(str(threads2[i+1])+\" threads and problem size \" + str(problemsize2[i+1]))"
   ]
  },
  {
   "cell_type": "markdown",
   "metadata": {},
   "source": [
    "You have to manually adjust the time measurements in the following code cell, so it measures with the problem size and thread number you decided on. The values you set for the variables 'threads' and 'problem_size' in the previous code cell have to match the values you pass as arguments in the following code cell. Remember, the first argument you pass is the thread number and the second argument argument is the problem size. You have to type out the full number in the terminal command; something like '1e5*8' will not work. `>/dev/null` suppresses the terminal output."
   ]
  },
  {
   "cell_type": "code",
   "execution_count": null,
   "metadata": {},
   "outputs": [],
   "source": [
    "time_parallel2 = []\n",
    "time_serial2 = []\n",
    "\n",
    "# measure serial execution time\n",
    "timeit_object = %timeit -o -n 5 -r 1 -q ! ./notiming.o 1 10 >/dev/null\n",
    "time_serial2.append(timeit_object.best) \n",
    "timeit_object = %timeit -o -n 5 -r 1 -q ! ./notiming.o 1 20 >/dev/null\n",
    "time_serial2.append(timeit_object.best) \n",
    "timeit_object = %timeit -o -n 5 -r 1 -q ! ./notiming.o 1 40 >/dev/null\n",
    "time_serial2.append(timeit_object.best)\n",
    "timeit_object = %timeit -o -n 5 -r 1 -q ! ./notiming.o 1 80 >/dev/null\n",
    "time_serial2.append(timeit_object.best)\n",
    "timeit_object = %timeit -o -n 5 -r 1 -q ! ./notiming.o 1 160 >/dev/null\n",
    "time_serial2.append(timeit_object.best)\n",
    "timeit_object = %timeit -o -n 5 -r 1 -q ! ./notiming.o 1 320 >/dev/null\n",
    "time_serial2.append(timeit_object.best)\n",
    "timeit_object = %timeit -o -n 5 -r 1 -q ! ./notiming.o 1 640 >/dev/null\n",
    "time_serial2.append(timeit_object.best)\n",
    "\n",
    "# measure serial execution time\n",
    "timeit_object = %timeit -o -n 5 -r 1 -q ! ./notiming.o 1 10 >/dev/null\n",
    "time_parallel2.append(timeit_object.best) \n",
    "timeit_object = %timeit -o -n 5 -r 1 -q ! ./notiming.o 2 20 >/dev/null\n",
    "time_parallel2.append(timeit_object.best) \n",
    "timeit_object = %timeit -o -n 5 -r 1 -q ! ./notiming.o 4 40 >/dev/null\n",
    "time_parallel2.append(timeit_object.best)\n",
    "timeit_object = %timeit -o -n 5 -r 1 -q ! ./notiming.o 8 80 >/dev/null\n",
    "time_parallel2.append(timeit_object.best)\n",
    "timeit_object = %timeit -o -n 5 -r 1 -q ! ./notiming.o 16 160 >/dev/null\n",
    "time_parallel2.append(timeit_object.best)\n",
    "timeit_object = %timeit -o -n 5 -r 1 -q ! ./notiming.o 32 320 >/dev/null\n",
    "time_parallel2.append(timeit_object.best)\n",
    "timeit_object = %timeit -o -n 5 -r 1 -q ! ./notiming.o 64 640 >/dev/null\n",
    "time_parallel2.append(timeit_object.best)\n",
    "\n",
    "# calculate speedup and efficiency\n",
    "speedup2 = np.array(time_serial2)/np.array(time_parallel2)\n",
    "efficiency2 = speedup2/threads2"
   ]
  },
  {
   "cell_type": "code",
   "execution_count": null,
   "metadata": {},
   "outputs": [],
   "source": [
    "# plot results\n",
    "\n",
    "import matplotlib as mpl\n",
    "import matplotlib.pyplot as plt\n",
    "%matplotlib inline\n",
    "\n",
    "# plot\n",
    "fig,ax = plt.subplots(figsize=(6,4))\n",
    "for i in range(len(threads2)):\n",
    "    ax.scatter(threads2[i],time_parallel2[i],label=problemsize2[i])\n",
    "ax.set_xticks(threads2)\n",
    "ax.set_xticklabels(threads2)\n",
    "ax.set_ylabel('Execution Time')\n",
    "ax.set_xlabel('Threads')\n",
    "ax.set_title('Full Programm Run - Weak Scaling')\n",
    "ax.legend(title=\"Problem Size\")\n",
    "\n",
    "fig,ax = plt.subplots(1,2,figsize=(14,5))\n",
    "for i in range(len(threads2)):\n",
    "    ax[0].scatter(threads2[i],speedup2[i],label=problemsize2[i])\n",
    "ax[0].set_xticks(threads2)\n",
    "ax[0].set_xticklabels(threads2)\n",
    "ax[0].set_ylabel('Speed-up')\n",
    "ax[0].set_xlabel('Threads')\n",
    "ax[0].set_title('Full Programm Run - Weak Scaling')\n",
    "ax[0].legend(title=\"Problem Size\")\n",
    "\n",
    "for i in range(len(threads2)):\n",
    "    ax[1].scatter(threads2[i],efficiency2[i],label=problemsize2[i])\n",
    "ax[1].set_xticks(threads2)\n",
    "ax[1].set_xticklabels(threads2)\n",
    "ax[1].set_ylabel('Efficiency')\n",
    "ax[1].set_xlabel('Threads')\n",
    "ax[1].set_title('Full Programm Run - Weak Scaling');\n",
    "ax[1].legend(title=\"Problem Size\");"
   ]
  }
 ],
 "metadata": {
  "kernelspec": {
   "display_name": "Python 3",
   "language": "python",
   "name": "python3"
  },
  "language_info": {
   "codemirror_mode": {
    "name": "ipython",
    "version": 3
   },
   "file_extension": ".py",
   "mimetype": "text/x-python",
   "name": "python",
   "nbconvert_exporter": "python",
   "pygments_lexer": "ipython3",
   "version": "3.8.5"
  }
 },
 "nbformat": 4,
 "nbformat_minor": 4
}
