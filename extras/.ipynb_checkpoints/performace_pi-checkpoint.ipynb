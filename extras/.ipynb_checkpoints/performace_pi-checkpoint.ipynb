{
 "cells": [
  {
   "cell_type": "code",
   "execution_count": 5,
   "metadata": {},
   "outputs": [],
   "source": [
    "time_serial_pi = %timeit -o -n 5 -r 1 -q ! ../programms/pi/ser.o >/dev/null\n",
    "time_parallel_pi = %timeit -o -n 5 -r 1 -q ! ../programms/pi/par.o >/dev/null"
   ]
  },
  {
   "cell_type": "code",
   "execution_count": 4,
   "metadata": {},
   "outputs": [
    {
     "name": "stdout",
     "output_type": "stream",
     "text": [
      "2.5833056923002005\n",
      "0.5344276120886207\n"
     ]
    }
   ],
   "source": [
    "print(time_serial_pi.best)\n",
    "print(time_parallel_pi.best)"
   ]
  },
  {
   "cell_type": "code",
   "execution_count": 6,
   "metadata": {},
   "outputs": [
    {
     "name": "stdout",
     "output_type": "stream",
     "text": [
      "2.582642167061567\n",
      "0.5487357892096043\n"
     ]
    }
   ],
   "source": [
    "print(time_serial_pi.best)\n",
    "print(time_parallel_pi.best)"
   ]
  },
  {
   "cell_type": "code",
   "execution_count": 7,
   "metadata": {},
   "outputs": [
    {
     "name": "stdout",
     "output_type": "stream",
     "text": [
      "No value for number of intervals has been passed (first argument). Default length is 150'000'000.\n",
      "Number of threads used: 64Pi is: 3.141593No value for number of intervals has been passed (first argument). Default length is 150'000'000.\n",
      "Number of threads used: 64Pi is: 3.141593No value for number of intervals has been passed (first argument). Default length is 150'000'000.\n",
      "Number of threads used: 64Pi is: 3.141593No value for number of intervals has been passed (first argument). Default length is 150'000'000.\n",
      "Number of threads used: 64Pi is: 3.141593No value for number of intervals has been passed (first argument). Default length is 150'000'000.\n",
      "Number of threads used: 64Pi is: 3.141593"
     ]
    }
   ],
   "source": [
    "! export OMP_NUM_THREADS=4\n",
    "time_parallel_pi = %timeit -o -n 5 -r 1 -q ! ../programms/pi/par.o "
   ]
  },
  {
   "cell_type": "code",
   "execution_count": 8,
   "metadata": {},
   "outputs": [],
   "source": [
    "! export OMP_NUM_THREADS=4"
   ]
  },
  {
   "cell_type": "code",
   "execution_count": 21,
   "metadata": {},
   "outputs": [],
   "source": [
    "time_parallel_pi_64 = %timeit -o -n 5 -r 1 -q ! ../programms/pi/par.o 64 >/dev/null\n",
    "time_parallel_pi_8 = %timeit -o -n 5 -r 1 -q ! ../programms/pi/par.o 8 >/dev/null\n",
    "time_parallel_pi_2 = %timeit -o -n 5 -r 1 -q ! ../programms/pi/par.o 2 >/dev/null\n",
    "time_serial_pi_8 = %timeit -o -n 5 -r 1 -q ! ../programms/pi/ser.o  >/dev/null"
   ]
  },
  {
   "cell_type": "code",
   "execution_count": 22,
   "metadata": {},
   "outputs": [
    {
     "name": "stdout",
     "output_type": "stream",
     "text": [
      "0.5363459952175618\n",
      "0.6713868197053671\n",
      "1.4998673744499684\n",
      "2.582642167061567\n"
     ]
    }
   ],
   "source": [
    "print(time_parallel_pi_64.best)\n",
    "print(time_parallel_pi_8.best)\n",
    "print(time_parallel_pi_2.best)\n",
    "print(time_serial_pi.best)"
   ]
  },
  {
   "cell_type": "code",
   "execution_count": null,
   "metadata": {},
   "outputs": [],
   "source": []
  }
 ],
 "metadata": {
  "kernelspec": {
   "display_name": "Python 3",
   "language": "python",
   "name": "python3"
  },
  "language_info": {
   "codemirror_mode": {
    "name": "ipython",
    "version": 3
   },
   "file_extension": ".py",
   "mimetype": "text/x-python",
   "name": "python",
   "nbconvert_exporter": "python",
   "pygments_lexer": "ipython3",
   "version": "3.7.9"
  }
 },
 "nbformat": 4,
 "nbformat_minor": 4
}
