{
 "cells": [
  {
   "cell_type": "markdown",
   "metadata": {},
   "source": [
    "# Speed-up and Efficiency (algorithm only)\n",
    "\n",
    "The following code measures the execution times of a certain program with different numbers of threads, and calculates the speed-up and efficiency.\n",
    "\n",
    "## Which program do you want to test ?\n",
    "\n",
    "In the following code line, replace the last word `pi` with the program name you want to test. Then run all the code lines (and be patient). \n",
    "\n",
    "These are your options:\n",
    "- pi\n",
    "- jacobi\n",
    "- fibonacci\n",
    "- findprime\n",
    "- mandelbrot\n",
    "- quicksort\n",
    "- mergesort\n",
    "- bubblesort\n",
    "- selectionsort\n",
    "- matrixmultiplication\n",
    "\n",
    "You can also test your own program. Check the readme file to find out how to do this."
   ]
  },
  {
   "cell_type": "code",
   "execution_count": 6,
   "metadata": {},
   "outputs": [
    {
     "name": "stdout",
     "output_type": "stream",
     "text": [
      "/home/jovyan/work/Thesis/programs/mandelbrot\n"
     ]
    }
   ],
   "source": [
    "%cd ~/work/Thesis/programs/mandelbrot"
   ]
  },
  {
   "cell_type": "code",
   "execution_count": 7,
   "metadata": {},
   "outputs": [],
   "source": [
    "# measure time with 10 repeats\n",
    "import numpy as np\n",
    "time = []\n",
    "! ./timing.o 1 10 >/dev/null\n",
    "time.append(np.genfromtxt('./time.txt'))\n",
    "! ./timing.o 4 10 >/dev/null\n",
    "time.append(np.genfromtxt('./time.txt'))\n",
    "! ./timing.o 8 10 >/dev/null\n",
    "time.append(np.genfromtxt('./time.txt'))\n",
    "! ./timing.o 16 10 >/dev/null\n",
    "time.append(np.genfromtxt('./time.txt'))\n",
    "! ./timing.o 24 10 >/dev/null\n",
    "time.append(np.genfromtxt('./time.txt'))\n",
    "! ./timing.o 32 10 >/dev/null\n",
    "time.append(np.genfromtxt('./time.txt'))\n",
    "! ./timing.o 48 10 >/dev/null\n",
    "time.append(np.genfromtxt('./time.txt'))\n",
    "! ./timing.o 64 10 >/dev/null\n",
    "time.append(np.genfromtxt('./time.txt'))"
   ]
  },
  {
   "cell_type": "code",
   "execution_count": 8,
   "metadata": {},
   "outputs": [],
   "source": [
    "# calculate speed-up and efficiency\n",
    "threads = np.array([1,4,8,16,24,32,48,64])\n",
    "speedup = np.ones(len(threads))*time[0]/np.array(time)\n",
    "efficiency = np.ones(len(threads))*speedup/threads"
   ]
  },
  {
   "cell_type": "code",
   "execution_count": 9,
   "metadata": {},
   "outputs": [
    {
     "data": {
      "image/png": "[encoded data removed]",
      "text/plain": [
       "<Figure size 1008x360 with 2 Axes>"
      ]
     },
     "metadata": {
      "needs_background": "light"
     },
     "output_type": "display_data"
    }
   ],
   "source": [
    "import matplotlib as mpl\n",
    "import matplotlib.pyplot as plt\n",
    "%matplotlib inline\n",
    "\n",
    "# plot\n",
    "fig,ax = plt.subplots(1,2,figsize=(14,5))\n",
    "ax[0].scatter(threads,speedup)\n",
    "ax[0].set_xticks(threads)\n",
    "ax[0].set_xticklabels(threads)\n",
    "ax[0].set_ylabel('Speed-up')\n",
    "ax[0].set_xlabel('Threads')\n",
    "ax[0].set_title('Speed-up Progression - Strong Scaling')\n",
    "ax[1].scatter(threads,efficiency)\n",
    "ax[1].set_xticks(threads)\n",
    "ax[1].set_xticklabels(threads)\n",
    "ax[1].set_ylabel('Efficiency')\n",
    "ax[1].set_xlabel('Threads')\n",
    "ax[1].set_title('Efficiency Progression - Strong Scaling');"
   ]
  },
  {
   "cell_type": "code",
   "execution_count": null,
   "metadata": {},
   "outputs": [],
   "source": []
  }
 ],
 "metadata": {
  "kernelspec": {
   "display_name": "Python 3",
   "language": "python",
   "name": "python3"
  },
  "language_info": {
   "codemirror_mode": {
    "name": "ipython",
    "version": 3
   },
   "file_extension": ".py",
   "mimetype": "text/x-python",
   "name": "python",
   "nbconvert_exporter": "python",
   "pygments_lexer": "ipython3",
   "version": "3.7.9"
  }
 },
 "nbformat": 4,
 "nbformat_minor": 4
}
