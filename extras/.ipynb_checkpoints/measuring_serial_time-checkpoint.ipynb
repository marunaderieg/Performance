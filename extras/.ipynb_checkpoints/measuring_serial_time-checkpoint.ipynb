{
 "cells": [
  {
   "cell_type": "markdown",
   "metadata": {},
   "source": [
    "<a id='serialtime'></a>\n",
    "# Measuring $t_{serial}$ \n",
    "\n",
    "Let's say you parallelized your program, compiled it and want to calculate speed up. As you know, you will have to measure the execution time of the parallel program, and the execution time of the serial program. \n",
    "\n",
    "If we set the thread number to 1 in the parallel program we essentially serialize our parallel program. \n",
    "\n",
    "The question arises, whether it is even necessary to write and compile the serial version of the program. Can you just set threads=1 in your parallel program? Or does this distort our results?\n",
    "\n",
    "**Let's find out!** \n",
    "\n",
    "The following code will measure the execution time of the parallel fibonacci program with different amounts of threads. To get a more complete picture, we measure the execution time first on the full program run, and then on the algorithm only (see notebook `./compare_timemeasuring_methods`). Then we will measure the execution times of the serial program version. This will allow us to graphically compare the different calculations we get for speed-up. "
   ]
  },
  {
   "cell_type": "code",
   "execution_count": 5,
   "metadata": {},
   "outputs": [
    {
     "name": "stdout",
     "output_type": "stream",
     "text": [
      "/home/jovyan/performance/programs/fibonacci\n"
     ]
    }
   ],
   "source": [
    "cd ~/performance/programs/fibonacci"
   ]
  },
  {
   "cell_type": "code",
   "execution_count": 6,
   "metadata": {},
   "outputs": [],
   "source": [
    "# of full programm run: measure time with 5 repeats\n",
    "time1 = []\n",
    "threads = [1,4,8,16,24,32,48,64]\n",
    "timeit_object = %timeit -o -n 1 -r 5 -q ! ./notiming.o 1 >/dev/null\n",
    "time1.append(timeit_object.best)\n",
    "timeit_object = %timeit -o -n 1 -r 5 -q ! ./notiming.o 4 >/dev/null\n",
    "time1.append(timeit_object.best) \n",
    "timeit_object = %timeit -o -n 1 -r 5 -q ! ./notiming.o 8 >/dev/null\n",
    "time1.append(timeit_object.best) \n",
    "timeit_object = %timeit -o -n 1 -r 5 -q ! ./notiming.o 16 >/dev/null\n",
    "time1.append(timeit_object.best)\n",
    "timeit_object = %timeit -o -n 1 -r 5 -q ! ./notiming.o 24 >/dev/null\n",
    "time1.append(timeit_object.best)\n",
    "timeit_object = %timeit -o -n 1 -r 5 -q ! ./notiming.o 32 >/dev/null\n",
    "time1.append(timeit_object.best)\n",
    "timeit_object = %timeit -o -n 1 -r 5 -q ! ./notiming.o 48 >/dev/null\n",
    "time1.append(timeit_object.best)\n",
    "timeit_object = %timeit -o -n 1 -r 5 -q ! ./notiming.o 64 >/dev/null\n",
    "time1.append(timeit_object.best)\n",
    "\n",
    "# measure serial execution time\n",
    "timeit_object = %timeit -o -n 1 -r 5 -q ! ./notiming_serial.o >/dev/null\n",
    "serial1 = timeit_object.best"
   ]
  },
  {
   "cell_type": "code",
   "execution_count": 7,
   "metadata": {},
   "outputs": [],
   "source": [
    "# of algorithm only: measure time with 5 repeats\n",
    "import numpy as np\n",
    "time2 = []\n",
    "threads = [1,4,8,16,24,32,48,64]\n",
    "! ./timing.o 1 5 >/dev/null\n",
    "time2.append(np.genfromtxt('/tmp/time.txt'))\n",
    "! ./timing.o 4 5 >/dev/null\n",
    "time2.append(np.genfromtxt('/tmp/time.txt'))\n",
    "! ./timing.o 8 5 >/dev/null\n",
    "time2.append(np.genfromtxt('/tmp/time.txt'))\n",
    "! ./timing.o 16 5 >/dev/null\n",
    "time2.append(np.genfromtxt('/tmp/time.txt'))\n",
    "! ./timing.o 24 5 >/dev/null\n",
    "time2.append(np.genfromtxt('/tmp/time.txt'))\n",
    "! ./timing.o 32 5 >/dev/null\n",
    "time2.append(np.genfromtxt('/tmp/time.txt'))\n",
    "! ./timing.o 48 5 >/dev/null\n",
    "time2.append(np.genfromtxt('/tmp/time.txt'))\n",
    "! ./timing.o 64 5 >/dev/null\n",
    "time2.append(np.genfromtxt('/tmp/time.txt'))\n",
    "\n",
    "# measure serial execution time\n",
    "! ./timing_serial.o 5 >/dev/null\n",
    "serial2 = np.genfromtxt('/tmp/time.txt')"
   ]
  },
  {
   "cell_type": "code",
   "execution_count": 8,
   "metadata": {},
   "outputs": [
    {
     "data": {
      "image/png": "[encoded data removed]",
      "text/plain": [
       "<Figure size 504x360 with 1 Axes>"
      ]
     },
     "metadata": {
      "needs_background": "light"
     },
     "output_type": "display_data"
    },
    {
     "data": {
      "image/png": "[encoded data removed]",
      "text/plain": [
       "<Figure size 504x360 with 1 Axes>"
      ]
     },
     "metadata": {
      "needs_background": "light"
     },
     "output_type": "display_data"
    }
   ],
   "source": [
    "import matplotlib as mpl\n",
    "import matplotlib.pyplot as plt\n",
    "%matplotlib inline\n",
    "\n",
    "# calculate speed-up\n",
    "speedup1 = np.ones(len(threads))*serial1/np.array(time1)\n",
    "speedup2 = np.ones(len(threads))*serial2/np.array(time2)\n",
    "lazyspeedup1 = np.ones(len(threads))*time1[0]/np.array(time1)\n",
    "lazyspeedup2 = np.ones(len(threads))*time2[0]/np.array(time2)\n",
    "\n",
    "#plot\n",
    "fig,ax = plt.subplots(figsize=(7,5))\n",
    "ax.bar(np.array(threads)-0.4,speedup2,color='lightgreen',label='serial program', align='center', width= 0.8)\n",
    "ax.bar(np.array(threads)+0.4,lazyspeedup2,color='blue',label='parallel program with threads=1',align='center', width= 0.8)\n",
    "ax.set_xticks(threads)\n",
    "ax.set_xticklabels(threads, ha='right')\n",
    "ax.set_ylabel('Speed-Up')\n",
    "ax.set_xlabel('Threads')\n",
    "ax.set_title('Compare Speed-Up - Algorithm Only')\n",
    "ax.legend();\n",
    "fig,ax = plt.subplots(figsize=(7,5))\n",
    "ax.bar(np.array(threads)-0.4,speedup1,color='lightgreen',label='serial program', align='center', width= 0.8)\n",
    "ax.bar(np.array(threads)+0.4,lazyspeedup1,color='blue',label='parallel program with threads=1',align='center', width= 0.8)\n",
    "ax.set_xticks(threads)\n",
    "ax.set_xticklabels(threads, ha='right')\n",
    "ax.set_ylabel('Speed-Up')\n",
    "ax.set_xlabel('Threads')\n",
    "ax.set_title('Compare Speed-Up - Full Programm Run')\n",
    "ax.legend(loc=\"lower right\");"
   ]
  },
  {
   "cell_type": "markdown",
   "metadata": {},
   "source": [
    "What do you think? Is it ok to just set threads=1 in the parallel program, when measuring $t_{serial}$ ? Or do you feel we should write and compile a serial version of the program to measure $t_{serial}$?\n",
    "\n",
    "In the graphics above, we can see that the difference in speed up is small and rather constant. \n",
    "\n",
    "For educational purposes it seems to be sufficient to use the parallel version of a program with thread number set to 1. In a scientific research project however, it could be necessary to use a serial program version. "
   ]
  }
 ],
 "metadata": {
  "kernelspec": {
   "display_name": "Python 3",
   "language": "python",
   "name": "python3"
  },
  "language_info": {
   "codemirror_mode": {
    "name": "ipython",
    "version": 3
   },
   "file_extension": ".py",
   "mimetype": "text/x-python",
   "name": "python",
   "nbconvert_exporter": "python",
   "pygments_lexer": "ipython3",
   "version": "3.7.9"
  }
 },
 "nbformat": 4,
 "nbformat_minor": 4
}
