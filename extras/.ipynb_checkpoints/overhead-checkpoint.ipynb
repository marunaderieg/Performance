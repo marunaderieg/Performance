{
 "cells": [
  {
   "cell_type": "markdown",
   "metadata": {},
   "source": [
    "# Overhead\n",
    "\n",
    "In this notebook we will analyze what speed-up's we can achieve with different problem sizes. We take as an example the quicksort algorithm, and measure the speed-up with different list lengths in the range of [100,3100]. We keep the thread number constant at 64. \n",
    "\n",
    "In the general parallel program of quicksort I have implemented a threshold. If the list length is larger than the threshold value, the parallelized algorithm is called; otherwise the serial version of the algorithm. For this notebook, however, it does not make sense to use such a threshold. We want to find out how large the list has to be, in order to make the use of parallelism worth it (speed-up larger than 1).  \n",
    "\n",
    "Therefore we are not using the general program for quicksort, but a special version called `quicksort_overhead.c`. The only difference with this version is that there is no threshold. No matter how small the list length is, we will always call the parallelized algorithm."
   ]
  },
  {
   "cell_type": "code",
   "execution_count": 1,
   "metadata": {},
   "outputs": [
    {
     "name": "stdout",
     "output_type": "stream",
     "text": [
      "/home/jovyan/performance/programs/quicksort\n"
     ]
    }
   ],
   "source": [
    "%cd ~/performance/programs/quicksort\n",
    "\n",
    "import numpy as np\n",
    "list_length = np.arange(100,3300,200)"
   ]
  },
  {
   "cell_type": "code",
   "execution_count": 2,
   "metadata": {},
   "outputs": [],
   "source": [
    "time_parallel = []\n",
    "time_serial =[]\n",
    "\n",
    "# measure execution time of various list lengths, with 100 repeats and 64 threads\n",
    "! ./overhead.o 64 100 100 >/dev/null\n",
    "time_parallel.append(np.genfromtxt('./time.txt'))\n",
    "! ./overhead.o 1 100 100 >/dev/null\n",
    "time_serial.append(np.genfromtxt('./time.txt'))\n",
    "! ./overhead.o 64 100 300 >/dev/null\n",
    "time_parallel.append(np.genfromtxt('./time.txt'))\n",
    "! ./overhead.o 1 100 300 >/dev/null\n",
    "time_serial.append(np.genfromtxt('./time.txt'))\n",
    "! ./overhead.o 64 100 500 >/dev/null\n",
    "time_parallel.append(np.genfromtxt('./time.txt'))\n",
    "! ./overhead.o 1 100 500 >/dev/null\n",
    "time_serial.append(np.genfromtxt('./time.txt'))\n",
    "! ./overhead.o 64 100 700 >/dev/null\n",
    "time_parallel.append(np.genfromtxt('./time.txt'))\n",
    "! ./overhead.o 1 100 700 >/dev/null\n",
    "time_serial.append(np.genfromtxt('./time.txt'))\n",
    "! ./overhead.o 64 100 900 >/dev/null\n",
    "time_parallel.append(np.genfromtxt('./time.txt'))\n",
    "! ./overhead.o 1 100 900 >/dev/null\n",
    "time_serial.append(np.genfromtxt('./time.txt'))\n",
    "! ./overhead.o 64 100 1100 >/dev/null\n",
    "time_parallel.append(np.genfromtxt('./time.txt'))\n",
    "! ./overhead.o 1 100 1100 >/dev/null\n",
    "time_serial.append(np.genfromtxt('./time.txt'))\n",
    "! ./overhead.o 64 100 1300 >/dev/null\n",
    "time_parallel.append(np.genfromtxt('./time.txt'))\n",
    "! ./overhead.o 1 100 1300 >/dev/null\n",
    "time_serial.append(np.genfromtxt('./time.txt'))\n",
    "! ./overhead.o 64 100 1500 >/dev/null\n",
    "time_parallel.append(np.genfromtxt('./time.txt'))\n",
    "! ./overhead.o 1 100 1500 >/dev/null\n",
    "time_serial.append(np.genfromtxt('./time.txt'))\n",
    "! ./overhead.o 64 100 1700 >/dev/null\n",
    "time_parallel.append(np.genfromtxt('./time.txt'))\n",
    "! ./overhead.o 1 100 1700 >/dev/null\n",
    "time_serial.append(np.genfromtxt('./time.txt'))\n",
    "! ./overhead.o 64 100 1900 >/dev/null\n",
    "time_parallel.append(np.genfromtxt('./time.txt'))\n",
    "! ./overhead.o 1 100 1900 >/dev/null\n",
    "time_serial.append(np.genfromtxt('./time.txt'))\n",
    "! ./overhead.o 64 100 2100 >/dev/null\n",
    "time_parallel.append(np.genfromtxt('./time.txt'))\n",
    "! ./overhead.o 1 100 2100 >/dev/null\n",
    "time_serial.append(np.genfromtxt('./time.txt'))\n",
    "! ./overhead.o 64 100 2300 >/dev/null\n",
    "time_parallel.append(np.genfromtxt('./time.txt'))\n",
    "! ./overhead.o 1 100 2300 >/dev/null\n",
    "time_serial.append(np.genfromtxt('./time.txt'))\n",
    "! ./overhead.o 64 100 2500 >/dev/null\n",
    "time_parallel.append(np.genfromtxt('./time.txt'))\n",
    "! ./overhead.o 1 100 2500 >/dev/null\n",
    "time_serial.append(np.genfromtxt('./time.txt'))\n",
    "! ./overhead.o 64 100 2700 >/dev/null\n",
    "time_parallel.append(np.genfromtxt('./time.txt'))\n",
    "! ./overhead.o 1 100 2700 >/dev/null\n",
    "time_serial.append(np.genfromtxt('./time.txt'))\n",
    "! ./overhead.o 64 100 2900 >/dev/null\n",
    "time_parallel.append(np.genfromtxt('./time.txt'))\n",
    "! ./overhead.o 1 100 2900 >/dev/null\n",
    "time_serial.append(np.genfromtxt('./time.txt'))\n",
    "! ./overhead.o 64 100 3100 >/dev/null\n",
    "time_parallel.append(np.genfromtxt('./time.txt'))\n",
    "! ./overhead.o 1 100 3100 >/dev/null\n",
    "time_serial.append(np.genfromtxt('./time.txt'))"
   ]
  },
  {
   "cell_type": "code",
   "execution_count": 3,
   "metadata": {},
   "outputs": [],
   "source": [
    "speedup = np.array(time_serial)/np.array(time_parallel)"
   ]
  },
  {
   "cell_type": "code",
   "execution_count": 4,
   "metadata": {},
   "outputs": [
    {
     "data": {
      "image/png": "[encoded data removed]",
      "text/plain": [
       "<Figure size 720x432 with 1 Axes>"
      ]
     },
     "metadata": {
      "needs_background": "light"
     },
     "output_type": "display_data"
    }
   ],
   "source": [
    "import matplotlib as mpl\n",
    "import matplotlib.pyplot as plt\n",
    "%matplotlib inline\n",
    "\n",
    "# plot\n",
    "fig,ax = plt.subplots(figsize=(10,6))\n",
    "ax.scatter(list_length,speedup)\n",
    "ax.set_xticks(list_length)\n",
    "ax.set_xticklabels(list_length)\n",
    "ax.set_ylabel('Speed-Up')\n",
    "ax.set_xlabel('List Length')\n",
    "ax.set_title('Influence of List Length on Speed-Up');\n",
    "ax.plot(np.arange(0,3400,100),np.ones(34),c='red')\n",
    "ax.tick_params(rotation=45)\n",
    "ax.set_xlim([0, 3200]);"
   ]
  }
 ],
 "metadata": {
  "kernelspec": {
   "display_name": "Python 3",
   "language": "python",
   "name": "python3"
  },
  "language_info": {
   "codemirror_mode": {
    "name": "ipython",
    "version": 3
   },
   "file_extension": ".py",
   "mimetype": "text/x-python",
   "name": "python",
   "nbconvert_exporter": "python",
   "pygments_lexer": "ipython3",
   "version": "3.8.5"
  }
 },
 "nbformat": 4,
 "nbformat_minor": 4
}
