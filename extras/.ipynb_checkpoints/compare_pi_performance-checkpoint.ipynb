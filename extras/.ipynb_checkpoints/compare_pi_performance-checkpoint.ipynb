{
 "cells": [
  {
   "cell_type": "markdown",
   "metadata": {},
   "source": [
    "## Which program do you want to test ?\n",
    "\n",
    "Replace the last word `pi` with the program name you want to test.\n",
    "\n",
    "These are your options:\n",
    "- pi\n",
    "- jacobi\n"
   ]
  },
  {
   "cell_type": "code",
   "execution_count": 26,
   "metadata": {},
   "outputs": [],
   "source": [
    "cd ~/work/Thesis/programs/pi"
   ]
  },
  {
   "cell_type": "code",
   "execution_count": 16,
   "metadata": {},
   "outputs": [],
   "source": [
    "# of full programm run: measure time\n",
    "time1 = []\n",
    "threads = [1,2,4,8,16,24,32,48,64]\n",
    "timeit_object = %timeit -o -n 10 -r 1 -q ! ./notiming.o 1 >/dev/null\n",
    "time1.append(timeit_object.best)\n",
    "timeit_object = %timeit -o -n 10 -r 1 -q ! ./notiming.o 2 >/dev/null\n",
    "time1.append(timeit_object.best) \n",
    "timeit_object = %timeit -o -n 10 -r 1 -q ! ./notiming.o 4 >/dev/null\n",
    "time1.append(timeit_object.best) \n",
    "timeit_object = %timeit -o -n 10 -r 1 -q ! ./notiming.o 8 >/dev/null\n",
    "time1.append(timeit_object.best) \n",
    "timeit_object = %timeit -o -n 10 -r 1 -q ! ./notiming.o 16 >/dev/null\n",
    "time1.append(timeit_object.best)\n",
    "timeit_object = %timeit -o -n 10 -r 1 -q ! ./notiming.o 24 >/dev/null\n",
    "time1.append(timeit_object.best)\n",
    "timeit_object = %timeit -o -n 10 -r 1 -q ! ./notiming.o 32 >/dev/null\n",
    "time1.append(timeit_object.best)\n",
    "timeit_object = %timeit -o -n 10 -r 1 -q ! ./notiming.o 48 >/dev/null\n",
    "time1.append(timeit_object.best)\n",
    "timeit_object = %timeit -o -n 10 -r 1 -q ! ./notiming.o 64 >/dev/null\n",
    "time1.append(timeit_object.best)"
   ]
  },
  {
   "cell_type": "code",
   "execution_count": 17,
   "metadata": {},
   "outputs": [],
   "source": [
    "# of algorithm only: measure time\n",
    "import numpy as np\n",
    "time2 = []\n",
    "threads = [1,2,4,8,16,24,32,48,64]\n",
    "! ./timing.o 1 >/dev/null\n",
    "time2.append(np.genfromtxt('./time.txt'))\n",
    "! ./timing.o 2 >/dev/null\n",
    "time2.append(np.genfromtxt('./time.txt'))\n",
    "! ./timing.o 4 >/dev/null\n",
    "time2.append(np.genfromtxt('./time.txt'))\n",
    "! ./timing.o 8 >/dev/null\n",
    "time2.append(np.genfromtxt('./time.txt'))\n",
    "! ./timing.o 16 >/dev/null\n",
    "time2.append(np.genfromtxt('./time.txt'))\n",
    "! ./timing.o 24 >/dev/null\n",
    "time2.append(np.genfromtxt('./time.txt'))\n",
    "! ./timing.o 32 >/dev/null\n",
    "time2.append(np.genfromtxt('./time.txt'))\n",
    "! ./timing.o 48 >/dev/null\n",
    "time2.append(np.genfromtxt('./time.txt'))\n",
    "! ./timing.o 64 >/dev/null\n",
    "time2.append(np.genfromtxt('./time.txt'))"
   ]
  },
  {
   "cell_type": "code",
   "execution_count": null,
   "metadata": {},
   "outputs": [],
   "source": [
    "import matplotlib as mpl\n",
    "import matplotlib.pyplot as plt\n",
    "\n",
    "# plot\n",
    "fig,ax = plt.subplots(1,2,figsize=(14,5))\n",
    "ax[0].scatter(threads,time1)\n",
    "ax[0].set_xticks(threads)\n",
    "ax[0].set_xticklabels(threads)\n",
    "ax[0].set_ylabel('Execution time')\n",
    "ax[0].set_xlabel('Threads')\n",
    "ax[0].set_title('Execution Time of Total Program Run')\n",
    "ax[1].scatter(threads,time2)\n",
    "ax[1].set_xticks(threads)\n",
    "ax[1].set_xticklabels(threads)\n",
    "ax[1].set_ylabel('Execution time')\n",
    "ax[1].set_xlabel('Threads')\n",
    "ax[1].set_title('Exection Time of Algorithm Only')"
   ]
  },
  {
   "cell_type": "code",
   "execution_count": null,
   "metadata": {},
   "outputs": [],
   "source": [
    "# calculate speed up\n",
    "speedup1 = np.ones(9)*time1[0]/np.array(time1)\n",
    "speedup2 = np.ones(9)*time2[0]/np.array(time2)\n",
    "\n",
    "# plot\n",
    "fig,ax = plt.subplots(1,2,figsize=(14,5))\n",
    "ax[0].scatter(threads,speedup1)\n",
    "ax[0].set_xticks(threads)\n",
    "ax[0].set_xticklabels(threads)\n",
    "ax[0].set_ylabel('Speed-Up')\n",
    "ax[0].set_xlabel('Threads')\n",
    "ax[0].set_title('Speed-Up - Total Program Run')\n",
    "ax[1].scatter(threads,speedup2)\n",
    "ax[1].set_xticks(threads)\n",
    "ax[1].set_xticklabels(threads)\n",
    "ax[1].set_ylabel('Speed-Up')\n",
    "ax[1].set_xlabel('Threads')\n",
    "ax[1].set_title('Speed-Up - Algorithm Only')"
   ]
  },
  {
   "cell_type": "code",
   "execution_count": null,
   "metadata": {},
   "outputs": [],
   "source": []
  }
 ],
 "metadata": {
  "kernelspec": {
   "display_name": "Python 3",
   "language": "python",
   "name": "python3"
  },
  "language_info": {
   "codemirror_mode": {
    "name": "ipython",
    "version": 3
   },
   "file_extension": ".py",
   "mimetype": "text/x-python",
   "name": "python",
   "nbconvert_exporter": "python",
   "pygments_lexer": "ipython3",
   "version": "3.7.9"
  }
 },
 "nbformat": 4,
 "nbformat_minor": 4
}
