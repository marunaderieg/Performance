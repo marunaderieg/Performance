{
 "cells": [
  {
   "cell_type": "code",
   "execution_count": 1,
   "metadata": {},
   "outputs": [],
   "source": [
    "# Quicksort: measuring execution times for different list length\n",
    "\n",
    "# 1'000\n",
    "time_serial_quicksort_1e3 = %timeit -o -n 10 -r 1 -q ! ./programms/quicksort/ser.o 1000 >/dev/null\n",
    "time_parallel_quicksort_1e3 = %timeit -o -n 10 -r 1 -q ! ./programms/quicksort/par.o 1000 >/dev/null\n",
    "# 10'000\n",
    "time_serial_quicksort_1e4 = %timeit -o -n 10 -r 1 -q ! ./programms/quicksort/ser.o 10000 >/dev/null\n",
    "time_parallel_quicksort_1e4 = %timeit -o -n 10 -r 1 -q ! ./programms/quicksort/par.o 10000 >/dev/null\n",
    "# 100'000\n",
    "time_serial_quicksort_1e5 = %timeit -o -n 10 -r 1 -q ! ./programms/quicksort/ser.o 100000 >/dev/null\n",
    "time_parallel_quicksort_1e5 = %timeit -o -n 10 -r 1 -q ! ./programms/quicksort/par.o 100000 >/dev/null\n",
    "# 1'000'000\n",
    "time_serial_quicksort_1e6 = %timeit -o -n 10 -r 1 -q ! ./programms/quicksort/ser.o 1000000 >/dev/null\n",
    "time_parallel_quicksort_1e6 = %timeit -o -n 10 -r 1 -q ! ./programms/quicksort/par.o 1000000 >/dev/null\n",
    "# 10'000'000\n",
    "time_serial_quicksort_1e7 = %timeit -o -n 10 -r 1 -q ! ./programms/quicksort/ser.o 10000000 >/dev/null\n",
    "time_parallel_quicksort_1e7 = %timeit -o -n 10 -r 1 -q ! ./programms/quicksort/par.o 10000000 >/dev/null\n",
    "# 100'000'000\n",
    "time_serial_quicksort_1e8 = %timeit -o -n 10 -r 1 -q ! ./programms/quicksort/ser.o 100000000 >/dev/null\n",
    "time_parallel_quicksort_1e8 = %timeit -o -n 10 -r 1 -q ! ./programms/quicksort/par.o 100000000 >/dev/null"
   ]
  },
  {
   "cell_type": "code",
   "execution_count": 54,
   "metadata": {},
   "outputs": [
    {
     "data": {
      "text/plain": [
       "(array([0, 1, 2, 3, 4, 5]),\n",
       " [Text(0, 0, \"1'000\"),\n",
       "  Text(1, 0, \"10'000\"),\n",
       "  Text(2, 0, \"100'000\"),\n",
       "  Text(3, 0, \"1'000'000\"),\n",
       "  Text(4, 0, \"10'000'000\"),\n",
       "  Text(5, 0, \"100'000'000\")])"
      ]
     },
     "execution_count": 54,
     "metadata": {},
     "output_type": "execute_result"
    },
    {
     "data": {
      "image/png": "[encoded data removed]",
      "text/plain": [
       "<Figure size 1008x360 with 2 Axes>"
      ]
     },
     "metadata": {
      "needs_background": "light"
     },
     "output_type": "display_data"
    }
   ],
   "source": [
    "import numpy as np\n",
    "import matplotlib as mpl\n",
    "import matplotlib.pyplot as plt\n",
    "\n",
    "#data for diagramm about absolute speed\n",
    "serial = [time_serial_quicksort_1e3.best,time_serial_quicksort_1e4.best,time_serial_quicksort_1e5.best,time_serial_quicksort_1e6.best,time_serial_quicksort_1e7.best,time_serial_quicksort_1e8.best]\n",
    "parallel = [time_parallel_quicksort_1e3.best,time_parallel_quicksort_1e4.best,time_parallel_quicksort_1e5.best,time_parallel_quicksort_1e6.best,time_parallel_quicksort_1e7.best,time_parallel_quicksort_1e8.best]\n",
    "length = [\"1'000\",\"10'000\",\"100'000\",\"1'000'000\",\"10'000'000\",\"100'000'000\"]\n",
    "\n",
    "#data for diagramm about speed up\n",
    "speedup = np.zeros(6)\n",
    "speedup[0] = time_serial_quicksort_1e3.best/time_parallel_quicksort_1e3.best\n",
    "speedup[1] = time_serial_quicksort_1e4.best/time_parallel_quicksort_1e4.best\n",
    "speedup[2] = time_serial_quicksort_1e5.best/time_parallel_quicksort_1e5.best\n",
    "speedup[3] = time_serial_quicksort_1e6.best/time_parallel_quicksort_1e6.best\n",
    "speedup[4] = time_serial_quicksort_1e7.best/time_parallel_quicksort_1e7.best\n",
    "speedup[5] = time_serial_quicksort_1e8.best/time_parallel_quicksort_1e8.best\n",
    "\n",
    "#plot\n",
    "fig,ax = plt.subplots(1,2,figsize=(14,5))\n",
    "ax[0].bar(np.arange(len(length))-0.2,serial,color='lightgreen',label='serial', align='center', width= 0.4)\n",
    "ax[0].bar(np.arange(len(length))+0.2,parallel,color='blue',label='parallel',align='center', width= 0.4)\n",
    "ax[0].set_xticks(np.arange(len(length)))\n",
    "ax[0].set_xticklabels(length, rotation=30, ha='right')\n",
    "ax[0].set_ylabel('Speed')\n",
    "ax[0].set_xlabel('List Length')\n",
    "ax[0].set_title('Absolute Speed of Quicksort')\n",
    "ax[0].legend()\n",
    "ax[1].bar(np.arange(len(length)),speedup,color='lightblue', width= 0.4)\n",
    "ax[1].set_xticks(np.arange(len(length)))\n",
    "ax[1].set_xticklabels(length, rotation=30, ha='right')\n",
    "ax[1].set_ylabel('Speed-up')\n",
    "ax[1].set_xlabel('List Length')\n",
    "ax[1].set_title('Speed up of Parallel Quicksort')\n",
    "plt.xticks(rotation=45)"
   ]
  },
  {
   "cell_type": "code",
   "execution_count": null,
   "metadata": {},
   "outputs": [],
   "source": [
    "# mergesort: measuring execution times for different list length\n",
    "\n",
    "# 1'000\n",
    "time_serial_mergesort_1e3 = %timeit -o -n 10 -r 1 -q ! ./programms/mergesort/ser.o 1000 >/dev/null\n",
    "time_parallel_mergesort_1e3 = %timeit -o -n 10 -r 1 -q ! ./programms/mergesort/par.o 1000 >/dev/null\n",
    "# 10'000\n",
    "time_serial_mergesort_1e4 = %timeit -o -n 10 -r 1 -q ! ./programms/mergesort/ser.o 10000 >/dev/null\n",
    "time_parallel_mergesort_1e4 = %timeit -o -n 10 -r 1 -q ! ./programms/mergesort/par.o 10000 >/dev/null\n",
    "# 100'000\n",
    "time_serial_mergesort_1e5 = %timeit -o -n 10 -r 1 -q ! ./programms/mergesort/ser.o 100000 >/dev/null\n",
    "time_parallel_mergesort_1e5 = %timeit -o -n 10 -r 1 -q ! ./programms/mergesort/par.o 100000 >/dev/null\n",
    "# 1'000'000\n",
    "time_serial_mergesort_1e6 = %timeit -o -n 10 -r 1 -q ! ./programms/mergesort/ser.o 1000000 >/dev/null\n",
    "time_parallel_mergesort_1e6 = %timeit -o -n 10 -r 1 -q ! ./programms/mergesort/par.o 1000000 >/dev/null\n",
    "# 10'000'000\n",
    "time_serial_mergesort_1e7 = %timeit -o -n 10 -r 1 -q ! ./programms/mergesort/ser.o 10000000 >/dev/null\n",
    "time_parallel_mergesort_1e7 = %timeit -o -n 10 -r 1 -q ! ./programms/mergesort/par.o 10000000 >/dev/null\n",
    "# 100'000'000\n",
    "time_serial_mergesort_1e8 = %timeit -o -n 10 -r 1 -q ! ./programms/mergesort/ser.o 100000000 >/dev/null\n",
    "time_parallel_mergesort_1e8 = %timeit -o -n 10 -r 1 -q ! ./programms/mergesort/par.o 100000000 >/dev/null"
   ]
  },
  {
   "cell_type": "code",
   "execution_count": null,
   "metadata": {},
   "outputs": [],
   "source": [
    "#data for diagramm about absolute speed\n",
    "serial = [time_serial_mergesort_1e3.best,time_serial_mergesort_1e4.best,time_serial_mergesort_1e5.best,time_serial_mergesort_1e6.best,time_serial_mergesort_1e7.best,time_serial_mergesort_1e8.best]\n",
    "parallel = [time_parallel_mergesort_1e3.best,time_parallel_mergesort_1e4.best,time_parallel_mergesort_1e5.best,time_parallel_mergesort_1e6.best,time_parallel_mergesort_1e7.best,time_parallel_mergesort_1e8.best]\n",
    "length = [\"1'000\",\"10'000\",\"100'000\",\"1'000'000\",\"10'000'000\",\"100'000'000\"]\n",
    "\n",
    "#data for diagramm about speed up\n",
    "speedup = np.zeros(6)\n",
    "speedup[0] = time_serial_mergesort_1e3.best/time_parallel_mergesort_1e3.best\n",
    "speedup[1] = time_serial_mergesort_1e4.best/time_parallel_mergesort_1e4.best\n",
    "speedup[2] = time_serial_mergesort_1e5.best/time_parallel_mergesort_1e5.best\n",
    "speedup[3] = time_serial_mergesort_1e6.best/time_parallel_mergesort_1e6.best\n",
    "speedup[4] = time_serial_mergesort_1e7.best/time_parallel_mergesort_1e7.best\n",
    "speedup[5] = time_serial_mergesort_1e8.best/time_parallel_mergesort_1e8.best\n",
    "\n",
    "#plot\n",
    "fig,ax = plt.subplots(1,2,figsize=(14,5))\n",
    "ax[0].bar(np.arange(len(length))-0.2,serial,color='lightgreen',label='serial', align='center', width= 0.4)\n",
    "ax[0].bar(np.arange(len(length))+0.2,parallel,color='blue',label='parallel',align='center', width= 0.4)\n",
    "ax[0].set_xticks(np.arange(len(length)))\n",
    "ax[0].set_xticklabels(length, rotation=30, ha='right')\n",
    "ax[0].set_ylabel('Speed')\n",
    "ax[0].set_xlabel('List Length')\n",
    "ax[0].set_title('Absolute Speed of Mergesort')\n",
    "ax[0].legend()\n",
    "ax[1].bar(np.arange(len(length)),speedup,color='lightblue', width= 0.4)\n",
    "ax[1].set_xticks(np.arange(len(length)))\n",
    "ax[1].set_xticklabels(length, rotation=30, ha='right')\n",
    "ax[1].set_ylabel('Speed-up')\n",
    "ax[1].set_xlabel('List Length')\n",
    "ax[1].set_title('Speed up of Parallel Mergesort')\n",
    "plt.xticks(rotation=45)"
   ]
  }
 ],
 "metadata": {
  "kernelspec": {
   "display_name": "Python 3",
   "language": "python",
   "name": "python3"
  },
  "language_info": {
   "codemirror_mode": {
    "name": "ipython",
    "version": 3
   },
   "file_extension": ".py",
   "mimetype": "text/x-python",
   "name": "python",
   "nbconvert_exporter": "python",
   "pygments_lexer": "ipython3",
   "version": "3.7.9"
  }
 },
 "nbformat": 4,
 "nbformat_minor": 4
}
