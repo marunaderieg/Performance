{
 "cells": [
  {
   "cell_type": "markdown",
   "metadata": {},
   "source": [
    "# Compare Time Measuring Methods \n",
    "The following code measures and displays the elapesed time of complete program run versus elapsed time of algorithm only. In addition the speed up is calculated. \n",
    "\n",
    "## Which program do you want to test ?\n",
    "\n",
    "In the following code line, replace the last word `pi` with the program name you want to test. Then run all the code lines (and be patient). \n",
    "\n",
    "These are your options:\n",
    "- pi\n",
    "- jacobi\n",
    "- fibonacci\n",
    "- findprime\n",
    "- mandelbrot\n",
    "- quicksort\n",
    "- mergesort\n",
    "- bubblesort\n",
    "- selectionsort\n",
    "\n",
    "You can also test your own program. Check the readme file to find out how to do this."
   ]
  },
  {
   "cell_type": "code",
   "execution_count": 1,
   "metadata": {},
   "outputs": [
    {
     "name": "stdout",
     "output_type": "stream",
     "text": [
      "/home/jovyan/work/Thesis/programs/bubblesort\n"
     ]
    }
   ],
   "source": [
    "cd ~/work/Thesis/programs/bubblesort"
   ]
  },
  {
   "cell_type": "code",
   "execution_count": null,
   "metadata": {},
   "outputs": [],
   "source": [
    "# of full programm run: measure time\n",
    "time1 = []\n",
    "threads = [1,4,8,16,24,32,48,64]\n",
    "timeit_object = %timeit -o -n 10 -r 1 -q ! ./notiming.o 1 >/dev/null\n",
    "time1.append(timeit_object.best)\n",
    "timeit_object = %timeit -o -n 10 -r 1 -q ! ./notiming.o 4 >/dev/null\n",
    "time1.append(timeit_object.best) \n",
    "timeit_object = %timeit -o -n 10 -r 1 -q ! ./notiming.o 8 >/dev/null\n",
    "time1.append(timeit_object.best) \n",
    "timeit_object = %timeit -o -n 10 -r 1 -q ! ./notiming.o 16 >/dev/null\n",
    "time1.append(timeit_object.best)\n",
    "timeit_object = %timeit -o -n 10 -r 1 -q ! ./notiming.o 24 >/dev/null\n",
    "time1.append(timeit_object.best)\n",
    "timeit_object = %timeit -o -n 10 -r 1 -q ! ./notiming.o 32 >/dev/null\n",
    "time1.append(timeit_object.best)\n",
    "timeit_object = %timeit -o -n 10 -r 1 -q ! ./notiming.o 48 >/dev/null\n",
    "time1.append(timeit_object.best)\n",
    "timeit_object = %timeit -o -n 10 -r 1 -q ! ./notiming.o 64 >/dev/null\n",
    "time1.append(timeit_object.best)"
   ]
  },
  {
   "cell_type": "code",
   "execution_count": null,
   "metadata": {},
   "outputs": [],
   "source": [
    "# of algorithm only: measure time\n",
    "import numpy as np\n",
    "time2 = []\n",
    "threads = [1,4,8,16,24,32,48,64]\n",
    "! ./timing.o 1 >/dev/null\n",
    "time2.append(np.genfromtxt('./time.txt'))\n",
    "! ./timing.o 4 >/dev/null\n",
    "time2.append(np.genfromtxt('./time.txt'))\n",
    "! ./timing.o 8 >/dev/null\n",
    "time2.append(np.genfromtxt('./time.txt'))\n",
    "! ./timing.o 16 >/dev/null\n",
    "time2.append(np.genfromtxt('./time.txt'))\n",
    "! ./timing.o 24 >/dev/null\n",
    "time2.append(np.genfromtxt('./time.txt'))\n",
    "! ./timing.o 32 >/dev/null\n",
    "time2.append(np.genfromtxt('./time.txt'))\n",
    "! ./timing.o 48 >/dev/null\n",
    "time2.append(np.genfromtxt('./time.txt'))\n",
    "! ./timing.o 64 >/dev/null\n",
    "time2.append(np.genfromtxt('./time.txt'))"
   ]
  },
  {
   "cell_type": "code",
   "execution_count": null,
   "metadata": {},
   "outputs": [],
   "source": [
    "import matplotlib as mpl\n",
    "import matplotlib.pyplot as plt\n",
    "%matplotlib inline\n",
    "\n",
    "# plot\n",
    "fig,ax = plt.subplots(1,2,figsize=(14,5))\n",
    "ax[0].scatter(threads,time1)\n",
    "ax[0].set_xticks(threads)\n",
    "ax[0].set_xticklabels(threads)\n",
    "ax[0].set_ylabel('Execution time')\n",
    "ax[0].set_xlabel('Threads')\n",
    "ax[0].set_title('Execution Time of Total Program Run')\n",
    "ax[1].scatter(threads,time2)\n",
    "ax[1].set_xticks(threads)\n",
    "ax[1].set_xticklabels(threads)\n",
    "ax[1].set_ylabel('Execution time')\n",
    "ax[1].set_xlabel('Threads')\n",
    "ax[1].set_title('Exection Time of Algorithm Only');"
   ]
  },
  {
   "cell_type": "markdown",
   "metadata": {},
   "source": [
    "Let's also plot the execution time as a bar diagram. This allows us to directly compare the absolute execution time difference:"
   ]
  },
  {
   "cell_type": "code",
   "execution_count": null,
   "metadata": {},
   "outputs": [],
   "source": [
    "#plot\n",
    "fig,ax = plt.subplots(figsize=(7,5))\n",
    "ax.bar(np.array(threads)-0.4,time1,color='lightgreen',label='full program run', align='center', width= 0.8)\n",
    "ax.bar(np.array(threads)+0.4,time2,color='blue',label='algorithm only',align='center', width= 0.8)\n",
    "ax.set_xticks(threads)\n",
    "ax.set_xticklabels(threads, ha='right')\n",
    "ax.set_ylabel('Execution Time')\n",
    "ax.set_xlabel('Threads')\n",
    "ax.set_title('Compare Elapsed Time')\n",
    "ax.legend();"
   ]
  },
  {
   "cell_type": "code",
   "execution_count": null,
   "metadata": {},
   "outputs": [],
   "source": [
    "# calculate speed up\n",
    "speedup1 = np.ones(len(threads))*time1[0]/np.array(time1)\n",
    "speedup2 = np.ones(len(threads))*time2[0]/np.array(time2)\n",
    "\n",
    "# plot\n",
    "fig,ax = plt.subplots(1,2,figsize=(14,5))\n",
    "ax[0].scatter(threads,speedup1)\n",
    "ax[0].set_xticks(threads)\n",
    "ax[0].set_xticklabels(threads)\n",
    "ax[0].set_ylabel('Speed-Up')\n",
    "ax[0].set_xlabel('Threads')\n",
    "ax[0].set_title('Speed-Up - Full Program Run')\n",
    "ax[1].scatter(threads,speedup2)\n",
    "ax[1].set_xticks(threads)\n",
    "ax[1].set_xticklabels(threads)\n",
    "ax[1].set_ylabel('Speed-Up')\n",
    "ax[1].set_xlabel('Threads')\n",
    "ax[1].set_title('Speed-Up - Algorithm Only');"
   ]
  },
  {
   "cell_type": "markdown",
   "metadata": {},
   "source": [
    "Let's also plot the speed-up as a bar diagram. This allows us to directly compare the values:"
   ]
  },
  {
   "cell_type": "code",
   "execution_count": null,
   "metadata": {},
   "outputs": [],
   "source": [
    "#plot\n",
    "fig,ax = plt.subplots(figsize=(7,5))\n",
    "ax.bar(np.array(threads)-0.4,speedup1,color='lightgreen',label='full program run', align='center', width= 0.8)\n",
    "ax.bar(np.array(threads)+0.4,speedup2,color='blue',label='algorithm only',align='center', width= 0.8)\n",
    "ax.set_xticks(threads)\n",
    "ax.set_xticklabels(threads, ha='right')\n",
    "ax.set_ylabel('Speed-Up')\n",
    "ax.set_xlabel('Threads')\n",
    "ax.set_title('Compare Speed-Up')\n",
    "ax.legend();"
   ]
  },
  {
   "cell_type": "code",
   "execution_count": null,
   "metadata": {},
   "outputs": [],
   "source": []
  }
 ],
 "metadata": {
  "kernelspec": {
   "display_name": "Python 3",
   "language": "python",
   "name": "python3"
  },
  "language_info": {
   "codemirror_mode": {
    "name": "ipython",
    "version": 3
   },
   "file_extension": ".py",
   "mimetype": "text/x-python",
   "name": "python",
   "nbconvert_exporter": "python",
   "pygments_lexer": "ipython3",
   "version": "3.7.9"
  }
 },
 "nbformat": 4,
 "nbformat_minor": 4
}
