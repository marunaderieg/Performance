{
 "cells": [
  {
   "cell_type": "markdown",
   "metadata": {},
   "source": [
    "# What I need from you...\n",
    "\n",
    "Congratulations! You probably just opened the most interesting Jupyter Notebook ever.\n",
    "\n",
    "This Notebook is the result of many hours of hard work. \n",
    "And, I need something in return. From you. \n",
    "\n",
    "<video src=\"videos/Minions.mp4\" width=\"280\" height=\"157.5\" type=\"video/mp4\" controls>\n",
    "Your browser does not support the video tag\n",
    "</video> \n",
    "\n",
    "[[d]](#d) \n",
    " \n",
    "I created this Notebook as part of my bachelor thesis project. An evaluation of this Notebook is part of the thesis. This is why I need you to fill out a questionaire. \n",
    "\n",
    "**Duration to fill out questionaire:** A minimal evaluation takes 3 mouse clicks. In addition, if you wish to give a more detailed feedback, you can also answer the open questions. Any feedback will be very much appreciated. Answers can be in English or in German. \n",
    "\n",
    "<img src=\"figures/phone1.jpg\" width=\"500\"  alt=\"If 115 Students read this Notebook, I would need each one of them to fill out my questionaire at least 7.429 times in order to get significant results...\">\n",
    "\n",
    "Please fill out the form before the \\<date\\>. You can find the questionaire through this link: ...\n",
    "\n",
    "Thank you soooo much for your help! I hope the material presented here will help you."
   ]
  },
  {
   "cell_type": "code",
   "execution_count": 1,
   "metadata": {},
   "outputs": [
    {
     "name": "stdout",
     "output_type": "stream",
     "text": [
      "\n",
      "I promise, I will fill out the questionaire before the due date ! \n",
      "\n",
      "confirm with yes or no: \n"
     ]
    },
    {
     "name": "stdin",
     "output_type": "stream",
     "text": [
      " yes\n"
     ]
    },
    {
     "name": "stdout",
     "output_type": "stream",
     "text": [
      "\n",
      "Nice, thank you so much!\n"
     ]
    }
   ],
   "source": [
    "%run topsecret/test1.ipynb"
   ]
  },
  {
   "cell_type": "markdown",
   "metadata": {},
   "source": [
    "## Introduction\n",
    "\n",
    "Why are you looking at this notebook right now? I assume it is because you are learning about parallel programming and want to know all about it. But why is that so? Why are you bothering about learning the skill of parallel programming?\n",
    "\n",
    "<img src=\"figures/happyman.jpg\" width=\"400\"  alt=\"I always wanted to be able to say 'I once too took a course in parallel programming'...\">\n",
    "\n",
    "Well, probably you are aware of the importance of creating code with good performance, and you hope that parallel programming will help you with this. According to [[a]](#a) the main reason why we do parallel programming is to increase performance.\n",
    "\n",
    "But what is performance ? And to what extend can parallel programming help us increase performance ?\n",
    "\n",
    "When learning about parallel programming it is crucial to understand what performance is, how we can measure it, and how much improvement in performance we can expect when applying parallel programming.\n",
    "\n",
    "In this Notebook you will learn about:\n",
    "\n",
    "- [Why we Need Parallel Programming](#why)\n",
    "- [Speed up](#speedup)\n",
    "- [Efficiency](#efficiency)\n",
    "- [Measuring Execution Time](#measuring)\n",
    "- [Calculating $t_{serial}$](#calculating)\n",
    "- [Overhead](#overhead)\n",
    "- [Amdahl's Law](#amdahl)\n",
    "- [The serial fraction of a program](#serialfraction)\n",
    "- [Scalability](#scalability)\n",
    "- [Gustafson's Law](#gustafson)\n",
    "- [Summary](#summary)\n",
    "- [References](#references)\n",
    "\n",
    "This notebook is not a more complicated version of a textbook, but a tool for interactive learning instead.\n",
    "\n",
    "You will not only learn about different laws of performance but will also be able to test the validity of these laws yourself. There are a number of benchmarks for this purpose, that you can find in the `./programs` folder. Of course you can also write your own serial and parallel programs and test their performance with the code that I have provided in the `./extras` folder. More details abou thow to do this you can find in the `./readme.txt` file.\n",
    "\n",
    "Have fun!!!"
   ]
  },
  {
   "cell_type": "markdown",
   "metadata": {},
   "source": [
    "## Why we need Parallel Programming <a class=\"anchor\" id=\"why\"></a>\n",
    "\n",
    "According to [[a]](#a) the main reason why we do parallel programming is to increase performance. Intuatively we think that this means faster programs. While this is definitely one poteial benefit of parallel performance, it is not the only one. In addition to speed improvement we can also exploit paralleism to reduce power consumption [[b]](#b).\n",
    "\n",
    "In this notebook we will not analyze the improvement of performance with regards to power consumption. Nevertheless, I recommend watching the following video by Tim Mattson [[c]](#c). He will talk about why we need parallel programming, and how parallel programming is influencing not only speed but also power consumption. This is the link: https://youtu.be/cMWGeJyrc9w.\n",
    "\n",
    "What did we learn from Tim Mattson in this video?\n",
    "\n",
    "We learned that with parallel computing we can either:\n",
    "1. Execute a program in the same amount of time, but with reduced power consumption \n",
    "2. or execute a program with the same amount of power consumption, but with reduced execution time\n",
    "\n",
    "In the following sections we will only evaluate performance with regards to execution time. Keep in mind, however, that whenever you are able to reduce execution time, it means that there is also potential to reduce power consumption instead [[n]](#n)."
   ]
  },
  {
   "cell_type": "markdown",
   "metadata": {},
   "source": [
    "## Speed Up <a class=\"anchor\" id=\"speedup\"></a>\n",
    "\n",
    "The term 'speed up' is used to describe how much faster a new version of a program runs compared to the old version. This implies that we have 2 different execution times that we compare. In the case of parallel programming, it makes sense to compare \n",
    "- the execution time 'without parallelism' \n",
    "- the execution time 'with parallelism'\n",
    "\n",
    "Thus the speed up gives us a measurement for the improvement in speed that was achieved by applying parallelism to a program. \n",
    "\n",
    "We use the following formula to calculate speed up [[e]](#e):\n",
    "\n",
    "**Speed up = $\\frac{t_{serial}}{t_{parallel}}$**\n",
    "\n",
    "> $t_{serial}$ = execution time of the serial program, i.e. the program that does not use parallelism\n",
    "> <br>$t_{parallel}$ = execution time of the parallelized program \n",
    "\n",
    "**Question:**\n",
    "> Assume we have a serial program, that has an execution time of 54 seconds. Now we apply parallelism to our program. When we measure the execution time again, it is 27 seconds. \n",
    "\n",
    "> What speed up did we achieve ? "
   ]
  },
  {
   "cell_type": "code",
   "execution_count": 2,
   "metadata": {},
   "outputs": [
    {
     "name": "stdout",
     "output_type": "stream",
     "text": [
      "My answer:\n"
     ]
    },
    {
     "name": "stdin",
     "output_type": "stream",
     "text": [
      " 2\n"
     ]
    },
    {
     "name": "stdout",
     "output_type": "stream",
     "text": [
      "\n",
      "That's right!\n",
      "Because 54/27=2 we have a speed up of two. This means, that the parallel version of the programm runs two times as fast than the serial one.\n"
     ]
    }
   ],
   "source": [
    "%run topsecret/test2.ipynb"
   ]
  },
  {
   "cell_type": "markdown",
   "metadata": {},
   "source": [
    "<br><br>\n",
    "<img src='figures/race3.jpg' width='600' art='picture to illustrate speed up'>\n",
    "\n",
    "Another commonly used measurement for performance is 'efficiency'. "
   ]
  },
  {
   "cell_type": "markdown",
   "metadata": {},
   "source": [
    "## Efficiency <a class=\"anchor\" id=\"efficiency\"></a>\n",
    "\n",
    "Imagine you would try to fill up a truck with sand, and you share this task with 2 other friends. Probably you would more or less be able to do the task 3 times faster compared to doing it alone. So speed-up is 3. But what if you try to share the work with 300 of your friends? Would you be 300 times as fast? Probably not, because it would get rather chaotic and your friends would just be in the way of each other. Thus, your friends won't be able to work as efficiently as they would if there were less. \n",
    "\n",
    "Efficiency gives us a measurement for how much each parallel processing unit (friend in our example) is contributing to the speed-up. In most cases the efficiency reduces as the number of parallel processing units increases. This intuitively makes sense, if we think about the 'filling a truck with sand' example I just gave. \n",
    "\n",
    "This is the formula for efficiency [[a]](#a):\n",
    "\n",
    ">Efficiency $ = \\frac{Speed-up}{p} = \\frac{\\frac{t_{serial}}{t_{parallel}}}{p} = \\frac{t_{serial}}{p \\cdot t_{parallel}}$\n",
    "\n",
    "\n",
    "**Question:** Filling a truck with sand all by yourself, you need 6 hours. If you have 23 friends helping you, it takes only 30 minutes. With what efficiency can you load the truck with sand, if you have a team of 24 people (including you) ? "
   ]
  },
  {
   "cell_type": "code",
   "execution_count": null,
   "metadata": {},
   "outputs": [],
   "source": [
    "%run ./topsecret/test15.ipynb"
   ]
  },
  {
   "cell_type": "markdown",
   "metadata": {},
   "source": [
    "As you can see, calculating the speed-up and the efficiency is very easy.\n",
    "\n",
    "**Challenge:** Make step by step list of how you would find out speed-up and efficiency for one of the parallel programs you wrote.\n",
    "\n",
    "My list looks like this:\n",
    "1. Measure the execution time of the serial program to get $t_{serial}$.\n",
    "2. Measure the execution time of the parallelized program to get $t_{parallel}$.\n",
    "3. Calculate speed-up and efficiency with the formulas that we just discussed.\n",
    "\n",
    "It sound super easy. There are, however, a few questions that might come up: \n",
    "\n",
    "   > [1. CPU time or wall time ?](#1)<br>\n",
    "   > [2. Is it enough to measure the execution time just one time?](#2)<br>\n",
    "   > [3. How to measure the execution time from within Jupyter Notebook?](#3)<br>\n",
    "   > [4. Should you measure the execution time of the full pogramm run, or just a part of it?](#4)<br>\n",
    "\n",
    "In the following section we will answer these 4 questions one by one.\n",
    "\n",
    "## Measuring Execution Time <a class=\"anchor\" id=\"measuring\"></a>\n",
    "\n",
    "### 1. CPU time or wall time ? <a class=\"anchor\" id=\"1\"></a>\n",
    "\n",
    "There are many methods to measure exectuion time. In Jupyter Notebooks we can use the magic command `%%time` to measure the execution time of a code cell. Let's look at this example (the code is in python):"
   ]
  },
  {
   "cell_type": "code",
   "execution_count": 2,
   "metadata": {},
   "outputs": [
    {
     "name": "stdout",
     "output_type": "stream",
     "text": [
      "CPU times: user 1e+03 ns, sys: 2 µs, total: 3 µs\n",
      "Wall time: 7.87 µs\n"
     ]
    }
   ],
   "source": [
    "%%time\n",
    "a = 2\n",
    "while a<100:\n",
    "    a *= 5"
   ]
  },
  {
   "cell_type": "markdown",
   "metadata": {},
   "source": [
    "As a result we get CPU time and Wall time. Do you know the difference? \n",
    "\n",
    "`CPU time` measures the total time during which the CPU was busy executing our code, including time spent in library functions. The `wall time` on the other hand also measures the time, during which our program was idle. Wall time measures 'the time that has elapsed between the start and finish of execution of the code' [[a]](#a).\n",
    "\n",
    "**Question:** Which one do you think you need to measure, if you want to evaluate the performance of your parallel program?"
   ]
  },
  {
   "cell_type": "code",
   "execution_count": 22,
   "metadata": {},
   "outputs": [
    {
     "name": "stdout",
     "output_type": "stream",
     "text": [
      "Write 'CPU Time' or 'Wall Time':\n"
     ]
    },
    {
     "name": "stdin",
     "output_type": "stream",
     "text": [
      " CPU Time\n"
     ]
    },
    {
     "name": "stdout",
     "output_type": "stream",
     "text": [
      "\n",
      "Sorry, your answer is wrong. According to [a] we usually want to measure the 'wall time', not the 'CPU time'. Can you think of a reason why this is so?\n"
     ]
    }
   ],
   "source": [
    "%run topsecret/test3.ipynb"
   ]
  },
  {
   "cell_type": "markdown",
   "metadata": {},
   "source": [
    "**Example [[a]](#a):** Imagine you have a distributed-memory program and a process calls a receive function. Now, the process may have to wait for the sending process to execute the matching send, which is why the operation system puts that process to sleep. This idle time is not counted as CPU time, because no function that has been called by the process is active. However, we should have this idle time in our counting for the overall run-time, since it could be a real cost in our program. \"If each time the program is run, the process has to wait, ignoring the time it spends waiting would give a misleading picture of the actual run-time of the program\" [[a]](#a). \n",
    "\n",
    "### 2. How many times do you have to run the code?<a class=\"anchor\" id=\"2\"></a>\n",
    "\n",
    "**Challenge:** Run the code cell above (the one starting with %%time) multiple times. What do you observe ?\n",
    "\n",
    "You probably noticed that the wall time and CPU time differ each time you run the code. Since many other things are happening on the system while the code is executed, the exact values for CPU and wall time will differ each time we run the code. \n",
    "\n",
    "The following code will give you a graphical illustration of this effect. Note, that in the code below we measure the wall time without the help of the `%%time` magic command. This allow us to save the result of one single measurement multiple times, which we can then plot into a histogram. \n",
    "\n",
    "**Hint:** You can replace my code within the commented section with your own code if you want to graphically display the variance in wall time measurements. Should your code not be in Python, then you can make an executable of it instead, place the file in the same folder you have this notebook at, and replace my code with `! ./nameOfYourBinary`. The `!` sign is a special character used in jupyter notebooks if you want to execute a terminal command."
   ]
  },
  {
   "cell_type": "code",
   "execution_count": 23,
   "metadata": {},
   "outputs": [
    {
     "data": {
      "text/plain": [
       "Text(0.5, 0, 'micro seconds')"
      ]
     },
     "execution_count": 23,
     "metadata": {},
     "output_type": "execute_result"
    },
    {
     "data": {
      "image/png": "[encoded data removed]",
      "text/plain": [
       "<Figure size 1080x288 with 1 Axes>"
      ]
     },
     "metadata": {
      "needs_background": "light"
     },
     "output_type": "display_data"
    }
   ],
   "source": [
    "import timeit\n",
    "import matplotlib as mpl\n",
    "import matplotlib.pyplot as plt\n",
    "import numpy as np\n",
    "\n",
    "seconds = 1\n",
    "miliSeconds = 1e3\n",
    "microSeconds = 1e6\n",
    "nanoSeconds = 1e9\n",
    "\n",
    "#start of constants you might want to adjust\n",
    "timeUnit = microSeconds #determines the time Unit on the x axis of the histogramm\n",
    "label = 'micro seconds' #this should be the same as the chosen timeUnit \n",
    "iterations = 100 #amount of measurements\n",
    "#end of constants you might want to adjust\n",
    "\n",
    "times = np.zeros(iterations)\n",
    "binsInHistogramm = iterations #amount of containers in the Histogramm\n",
    " \n",
    "\n",
    "for x in range(iterations):\n",
    "    time1 = timeit.default_timer()\n",
    "\n",
    "#start of the code you want to measure execution time on\n",
    "    a = 2\n",
    "    while a<100:\n",
    "        a *= 5\n",
    "#end of the code you want to measure execution time on\n",
    "\n",
    "    time2 = timeit.default_timer()\n",
    "    times[x]=(time2-time1)*timeUnit\n",
    "\n",
    "#display histogramm\n",
    "fig,ax = plt.subplots(figsize=(15,4))\n",
    "ax.hist(times, bins=binsInHistogramm)\n",
    "ax.set_title('wall time')\n",
    "ax.set_xlabel(label);"
   ]
  },
  {
   "cell_type": "markdown",
   "metadata": {},
   "source": [
    "**Challenge:** Run the code above multiple times. What do you observe?\n",
    "\n",
    "Each time you rerun the code, the histogram will look different. However, probably you notice one single value at the very right, each time you run the code. This makes it difficult to interpret the histogram values. \n",
    "\n",
    "Do you think this is just random? Or could there be a good reason for this behavior?\n",
    "\n",
    "To answer this question, let's look at the first 20 values of our measurements:"
   ]
  },
  {
   "cell_type": "code",
   "execution_count": 3,
   "metadata": {},
   "outputs": [
    {
     "name": "stdout",
     "output_type": "stream",
     "text": [
      "[1.30571425 0.62771142 0.54761767 0.52340329 0.48428774 0.46938658\n",
      " 0.46007335 0.46752393 0.48428774 0.461936   0.48056245 0.45262277\n",
      " 0.46566129 0.46938658 0.48056245 0.46566129 0.45076013 0.47311187\n",
      " 0.45634806 0.42282045]\n"
     ]
    }
   ],
   "source": [
    "if np.size(times)>=20:\n",
    "    print(times[:20])\n",
    "else: print(times)"
   ]
  },
  {
   "cell_type": "markdown",
   "metadata": {},
   "source": [
    "Probably the first value is much higher than the following ones. This makes sense, because the first time we run the code data has to be first loaded into the cache. \n",
    "\n",
    "Let's discard the first measurement and look at our histogram again:"
   ]
  },
  {
   "cell_type": "code",
   "execution_count": 24,
   "metadata": {},
   "outputs": [
    {
     "data": {
      "text/plain": [
       "Text(0.5, 0, 'micro seconds')"
      ]
     },
     "execution_count": 24,
     "metadata": {},
     "output_type": "execute_result"
    },
    {
     "data": {
      "image/png": "[encoded data removed]",
      "text/plain": [
       "<Figure size 1080x288 with 1 Axes>"
      ]
     },
     "metadata": {
      "needs_background": "light"
     },
     "output_type": "display_data"
    }
   ],
   "source": [
    "#display histogramm without the first value\n",
    "fig,ax = plt.subplots(figsize=(15,4))\n",
    "ax.hist(times[1:], bins=binsInHistogramm)\n",
    "ax.set_title('wall time')\n",
    "ax.set_xlabel(label);"
   ]
  },
  {
   "cell_type": "markdown",
   "metadata": {},
   "source": [
    "This histogram looks much better for analysis. \n",
    "\n",
    "**Question**: Let's say you want to give one single value for the speed of your program/code section. Which value would you choose? The smallest? The biggest? An average? Would you include very large/small values when calculating the average? "
   ]
  },
  {
   "cell_type": "code",
   "execution_count": 25,
   "metadata": {},
   "outputs": [
    {
     "name": "stdout",
     "output_type": "stream",
     "text": [
      "Which value would you choose? \n",
      "\n",
      "Type 'smallest','largest' or 'average': \n"
     ]
    },
    {
     "name": "stdin",
     "output_type": "stream",
     "text": [
      " average\n"
     ]
    },
    {
     "name": "stdout",
     "output_type": "stream",
     "text": [
      "\n",
      "Are you sure?\n",
      "According to [a] and [g] you should choose the smallest value instead. Think about it this way: \n",
      "You have different values for the exectution time because each time you run the code, different amount of background work is happening on your system. The 'real' execution time is the one, when no background work is happening at all. So the smaller the exectuion time you measured is, the closer you are to the 'real' execution time. Therefore it makes most sense, to choose the smallest value.\n",
      "\n",
      "\n"
     ]
    }
   ],
   "source": [
    "%run topsecret/test4.ipynb"
   ]
  },
  {
   "cell_type": "markdown",
   "metadata": {},
   "source": [
    "What about the number of iterations? How many times should you measure the wall time on your code, to avoid random noise?"
   ]
  },
  {
   "cell_type": "code",
   "execution_count": 8,
   "metadata": {},
   "outputs": [
    {
     "name": "stdout",
     "output_type": "stream",
     "text": [
      "How many iterations would you perform? \n",
      "\n",
      "Type a positive integer:\n",
      "\n"
     ]
    },
    {
     "name": "stdin",
     "output_type": "stream",
     "text": [
      " 20\n"
     ]
    },
    {
     "name": "stdout",
     "output_type": "stream",
     "text": [
      "If you just need an aproximate estimate, that will do the job. For a more exact result you probably want to increase the number of iterations.\n"
     ]
    }
   ],
   "source": [
    "%run topsecret/test5.ipynb"
   ]
  },
  {
   "cell_type": "markdown",
   "metadata": {},
   "source": [
    "<br>Let's try a few `number of iterations` and plot the results. For iteration number x we measure the wall time x times, and save the smallest measurement. Be patient, it might take a few seconds for the time measurements to finnish.\n",
    "\n",
    "**Hint:** You could replace my code within the commented section with your own code."
   ]
  },
  {
   "cell_type": "code",
   "execution_count": 26,
   "metadata": {},
   "outputs": [],
   "source": [
    "iterations = [10,100,1000,10000,100000,1000000,10000000]\n",
    "results = []\n",
    "\n",
    "for i in iterations:\n",
    "    result = np.zeros(i)\n",
    "    for x in range(i):\n",
    "        time1 = timeit.default_timer()\n",
    "\n",
    "    #start of the code you want to measure execution time on'''\n",
    "        a = 2\n",
    "        while a<100:\n",
    "            a *= 5\n",
    "    #end of the code you want to measure execution time on'''\n",
    "\n",
    "        time2 = timeit.default_timer()\n",
    "        result[x]=(time2-time1)*1000000 #micro-seconds\n",
    "    results.append(result.min())"
   ]
  },
  {
   "cell_type": "code",
   "execution_count": 28,
   "metadata": {},
   "outputs": [
    {
     "data": {
      "text/plain": [
       "<matplotlib.legend.Legend at 0x7f87c6528f50>"
      ]
     },
     "execution_count": 28,
     "metadata": {},
     "output_type": "execute_result"
    },
    {
     "data": {
      "image/png": "[encoded data removed]",
      "text/plain": [
       "<Figure size 720x360 with 1 Axes>"
      ]
     },
     "metadata": {
      "needs_background": "light"
     },
     "output_type": "display_data"
    }
   ],
   "source": [
    "#plot results\n",
    "fig,ax = plt.subplots(figsize=(10,5)) \n",
    "for i in range(len(iterations)):\n",
    "    ax.scatter(iterations[i], results[i], s=30, label=iterations[i])\n",
    "ax.set_xlabel('number of iterations (log scale)', fontsize=12)\n",
    "ax.set_ylabel('smallest execution time', fontsize=12)\n",
    "ax.set_title('Smallest Exectuion Time per Number of Iterations')\n",
    "ax.semilogx()\n",
    "ax.legend()"
   ]
  },
  {
   "cell_type": "markdown",
   "metadata": {},
   "source": [
    "The more often you run the code, the more likely you will get a measurement during which the system is not very busy doing other things. As we can see in the plot above, whether you run the code 10 times or 10'000 times can make a big difference. At some point though, the benefit you get from further increasing the number of iterations will become insignificant. When exactly that point is reached depends on: \n",
    "- the hardware\n",
    "- the background work happening on the system\n",
    "- the code \n",
    "\n",
    "When I run the code above on my system, it looks like after 1 million iterations there is no significant improvement for the minimal execution time. The python module timeit by default also makes 1 million measurements [[e]](#e) [[g]](#g), so this seems to be a good standard practice. For code that is more time consuming you might have to adjust the number of iterations for practical reasons.\n",
    "\n",
    "<img src='figures/thinking3.jpg' width='400' art='\"I could measure the execution time of my serial programm while doing a lot of things in the background. Then when I measure the execution time of my parallel programm, I could minimize the work happening in the background. This could significantly increase my speed-up...\"'>\n",
    "\n",
    "When you want to compare the execution times of different programs (such as a serial and a parallel version) it is obviously necessary, that you measure both execution times on the same system and with similar amount of background work happening on the system. There are multiple ways of how one could influence the measurements and thus distort the calculations of speed-up. If you are interested in this topic, I recommend you read the following article \"Misleading Performance Reporting in the Supercomputing Field\" by David H. Bailey [[f]](#f).\n",
    " \n",
    "\n",
    "### 3. How to measure execution time ? <a class=\"anchor\" id=\"3\"></a>\n",
    "\n",
    "You might have noticed, that the wall time that we measured in the beginning with the magic command `%%time` differs from the time we measured manually with the use of the `timeit.default_timer()` function.\n",
    "\n",
    "There are many different ways of measuring wall time, and each methods will give slightly different results. The explanation for this is `overhead`. We will talk more about overhead later. As long as you are consistent with the method you use for measuring time, it doesn't matter so much which one you choose.\n",
    "\n",
    "**Timeit Magic Command:** The probably most used method to measure execution time in Jupyter Notebooks is with the built-in magic command `%timeit`. You might want to play around with the following options [[h]](#f):\n",
    "\n",
    "- -o allows you to save the `TimeitResult` object. This also gives you the chance to access some interesting attributes \n",
    "- -q silences the output\n",
    "- -r sets the number of repeats\n",
    "- -n sets the number of loops for each repeat\n",
    "\n",
    "Maybe you feel confused about the difference between repeats and loops (I was). Just think of loops as 'repeats during each repeat'. In each repeat the code is executed n times (n=number set for loops), and the accumluated time measurement value of all loop runs is saved for every repeat. When you call the attribute `all_runs` you get the accumulated loop times for each 'repeat'. If you want to get the smallest non-accumulated time that was measured in all individual runs, you can use the attribute `best`.\n",
    "\n",
    "**Example:** To give an example, we are going to run a paralellized sorting program written in c, and measure the total execution time with `%timeit`. You can find the code for this progam in `./programs/quicksort`. The program is sorting an array of 1000 random numbers with the quicksort algorithm, using 8 threads. We pass the number of threads to be used as the first argument, and the length of the array to be sorted as the second argument. The option `>/dev/null` silences the output of the program in the terminal. "
   ]
  },
  {
   "cell_type": "code",
   "execution_count": 30,
   "metadata": {},
   "outputs": [],
   "source": [
    "time = %timeit -o -n 3 -r 9 -q ! ./programs/quicksort/notiming.o 8 1000 >/dev/null"
   ]
  },
  {
   "cell_type": "markdown",
   "metadata": {},
   "source": [
    "\n"
   ]
  },
  {
   "cell_type": "markdown",
   "metadata": {},
   "source": [
    "**Question:** How many times did we run the program?"
   ]
  },
  {
   "cell_type": "code",
   "execution_count": 7,
   "metadata": {},
   "outputs": [
    {
     "name": "stdout",
     "output_type": "stream",
     "text": [
      "Type a number:\n"
     ]
    },
    {
     "name": "stdin",
     "output_type": "stream",
     "text": [
      " seventy\n"
     ]
    },
    {
     "name": "stdout",
     "output_type": "stream",
     "text": [
      "\n",
      "Sorry, that is not correct. The option n tells us how many times the code is run during each repeat. The option r tells us how many repeats we have. Try again...\n"
     ]
    }
   ],
   "source": [
    "%run ./topsecret/test6.ipynb"
   ]
  },
  {
   "cell_type": "markdown",
   "metadata": {},
   "source": [
    "**Question:** Out of all these program runs, what is the value of the fastest run we measured? What code do you have to run to find out?"
   ]
  },
  {
   "cell_type": "code",
   "execution_count": 19,
   "metadata": {},
   "outputs": [
    {
     "name": "stdout",
     "output_type": "stream",
     "text": [
      "Type the code you would run, to find out the smallest execution time?\n"
     ]
    },
    {
     "name": "stdin",
     "output_type": "stream",
     "text": [
      " time.best\n"
     ]
    },
    {
     "name": "stdout",
     "output_type": "stream",
     "text": [
      "\n",
      "Very Good!!!\n",
      "\n",
      "\n"
     ]
    }
   ],
   "source": [
    "%run ./topsecret/test7.ipynb"
   ]
  },
  {
   "cell_type": "markdown",
   "metadata": {},
   "source": [
    "### 4. Do we want to measure the execution time of the entire program ? <a class=\"anchor\" id=\"4\"></a>\n",
    "\n",
    "In the method we used so far to measure the execution time of a program, we measured the time of the entire program run. Time consuming tasks that we might not necessarily want to include in our measurements are:\n",
    "- loading the program\n",
    "- loading runtime libraries\n",
    "- initializing data\n",
    "- allocating memory\n",
    "- testing if the calculated solution is correct\n",
    "- output of the result\n",
    "- ect.\n",
    "\n",
    "Be aware, that measuring execution time on the entire program is not standard practise [[a]](#a)! \n",
    "\n",
    "So how is it usually done? Well...different programmers do different things. Some will start measuring execution time right before the parallel region is entered and stop immedietly after the parallel region is left. Others will start timing when a function containing the main algorithm (e.g.Quicksort Alrgorithm) is entered, and stop timing upon return from this function. In both of these two scenarios data is usually initialized and memeory allocated before the timing phase begins, and any output or error testing will happen after the timing phase has stopped. \n",
    "\n",
    "In the folder `./programs` you can find various programs which can be used to evaluate speed-up, efficiency, scalability. Each algorithm that you can find there has two different implementation versions. \n",
    "\n",
    "1. The parallel algorithm without any program internal time measuring \n",
    "2. The same parallel algorithm, but measuing the execution only on the parallel algorithm itself\n",
    "\n",
    "With the second option we don't measure the time for loading the program and runtime libraries, as well as the initialization of data, output of the program, validation of the solution, etc. All the binaries of the first option are called `notiming.o`, whereas the binaries of the second option are called `timing.o`.\n",
    "\n",
    "Passed arguments for the `notiming.o` programms are: 1.Number of threads that should be used in the parallel regions, 2.Arguments for the algorithm (e.g list length for soriting algoirhtms). Passed arguments for the `timing.o` programs are: 1. Number of threads, 2. Number of Repeats, 3. Arguments for the algorithm. The `timing.o` versions will save the smallest measured execution time in a text file called `time.txt`. The programs also work without passing any arguments, since there are default values set for all of them. \n",
    "\n",
    "Let's do a quick comparison of the execution times we get, depending on which program version we use. Here we have to make sure, that we use the same amount of repeats for each version. For the `notiming.o` version we set the number of repeats by setting the %timeit parameter `r` to the number of repeats we want. The `timing.o` programs take the number of repeats as the second argument when running it in the terminal.\n",
    "\n",
    "The graphics below display the difference of time measurment and speed up for the calculation of the Mandelbrot set. You can find the code for the graphics in the notebook ['./extras/compare_timemeasuring_methods'](./extras/compare_timemeasuring_methods.ipynb#compare). In that extra notebook you can very easily create analog graphics for any algoirthm in the `./programs` section, even for your own programs if you add them (see `./readme.txt` file for details). \n",
    "\n",
    "<img src='figures/compare1.PNG' width='900' art='\"compare execution times of two different measuring methods.\"'>\n",
    "\n",
    "For both time mesuring options we see a simillilar trend: the more threads we have, the faster runs the program/algorithm. Further, the benefit from further increasing the number of threads seems to get smaller as the thread number increases. We will talk more about his in the section about Amdahl's law.\n",
    "\n",
    "If we don't pay much attention to the numbers on the y-axis we might think that we get more or less the same results. Be careful here, a more detailed analiyzis can change this first impression. \n",
    "\n",
    "Let's directly compare the absolute execution times:\n",
    "\n",
    "<img src='figures/compare2.PNG' width='450' art='\"compare execution times of two different measuring methods.\"'>\n",
    "\n",
    "It looks like the overhead we get from running the full program instead of only the algorithm is roughly the same for all thread numbers, with a slight increase as the thread number gets bigger. \n",
    "\n",
    "Since we are interessted in speed-up and how different factors like thread number and problem size (more about this later) influence speed-up, we should also look at the speed-up calculations:\n",
    "\n",
    "<img src='figures/compare3.PNG' width='900' art='\"compare execution times of two different measuring methods.\"'>\n",
    "\n",
    "Well that is very interessting! On the two graphics further above we got the impression that we get more or less the same picture, regardless of which time measuring method we use. When we calcualte the speed up, however, we can see 2 things:\n",
    "1. The speed-ups we get, if we only measure the execution time on the algorithm, are much higher.\n",
    "2. The two curves have a different shape. On the left graph we can observe, that with the increased number of threads, the additional speed up gets smaller and smaller, and eventially plataoes. On the right graph we can also see a plateoing of the curve, this seems to be happening at a much higher number of threads, however.\n",
    "\n",
    "As for now we don't understand yet why this is happening. Once you learn about Amdahl's Law it will make more sense. \n",
    "\n",
    "Let's also directly compare the speed-ups:\n",
    "\n",
    "<img src='figures/compare4.PNG' width='450' art='\"compare execution times of two different measuring methods.\"'>\n",
    "\n",
    "We see very different calculations results for speed-up. This holds espcially true, as the number of thread increases. It seems surprising, that there could be such a big difference. This really shows, how easily we can influence the calculations of speed-up by adjusting how we measure time. It is thus important to have a critical mindset when reading about other researchers results regarding speed-up. \n",
    "\n",
    "Further we need to keep in mind, that we did all the calculations with only 10 repeats. As we have already found out earlier, this does not reduce random noise very much and thus gives us only approximate results (which is ok, if we are just exploring things and not writting a research paper...)."
   ]
  },
  {
   "cell_type": "markdown",
   "metadata": {},
   "source": [
    "## Calculating $t_{serial}$  <a class=\"anchor\" id=\"calculating\"></a>\n",
    "\n",
    "Let's say we have some algorithm, for example the bubblesort algorithm for sorting a list of integers, and we wish to make it faster. What an excellent opportuniy to apply what we have learned about parallel programming. After parallelizing the bubblesort algorithm, we wish to examine the speed-up that we achieved. \n",
    "\n",
    "As a quick reminder, speed up is calculated like this:\n",
    "\n",
    "Speed up = $\\frac{t_{serial}}{t_{parallel}}$\n",
    "\n",
    "- To calculate $t_{parallel}$ we simply measure the time spent in the parallelized mergesort function\n",
    "\n",
    "- What about $t_{serial}$? You might think this is a question with an obvious answer: of course you would just take the serial version of your bubblesort program, and measure the execution time. \n",
    "\n",
    "Let's have a look at the speed-up that we can achieve by calculating it this way. We are going to sort a list of 1000 random numbers, set repeats to 100 and the thread number to 8 in the parallel program."
   ]
  },
  {
   "cell_type": "code",
   "execution_count": 31,
   "metadata": {},
   "outputs": [
    {
     "name": "stdout",
     "output_type": "stream",
     "text": [
      "/home/jovyan/work/Thesis/programs/bubblesort\n",
      "\n",
      "Speed up of Bubblesort with 8 Threads:\n",
      "2.1985138004246285\n"
     ]
    }
   ],
   "source": [
    "%cd ~/work/Thesis/programs/bubblesort\n",
    "! ./timing.o 8 100 1000 >/dev/null\n",
    "time_parallel_bubblesort = np.genfromtxt('./time.txt')\n",
    "! ./timing.o 1 100 1000 >/dev/null\n",
    "time_serial_bubblesort = np.genfromtxt('./time.txt')\n",
    "print(\"\\nSpeed up of Bubblesort with 8 Threads:\")\n",
    "print(time_serial_bubblesort/time_parallel_bubblesort)"
   ]
  },
  {
   "cell_type": "markdown",
   "metadata": {},
   "source": [
    "As we can't wait all day, we ran the code only 100 times. This means that the speed-up we end up calculating can vary quite a bit, if we run the code cell above multiple times. \n",
    "\n",
    "The speed up I got when I ran the cell was 2.15.\n",
    "\n",
    "So that's it, pretty easy and straight forward, right? Well...\n",
    "\n",
    "**Add picture: ** someone saying \"It looks easy, but you could make it much more complicated...\"\n",
    "\n",
    "One could argue, that $t_{serial}$ should be measured with the best possible algorithm for a specific problem. There are many sorting algorithms, and the fastest one for our specific list of numbers might not necessarily be bubblesort. Quicksort and Mergesort  are other sorting algorithms, which could be more efficient for our specific problem. Let's compare the performance of these other sorting algorithms (serial version):"
   ]
  },
  {
   "cell_type": "code",
   "execution_count": 32,
   "metadata": {},
   "outputs": [
    {
     "name": "stdout",
     "output_type": "stream",
     "text": [
      "/home/jovyan/work/Thesis/programs/bubblesort\n",
      "/home/jovyan/work/Thesis/programs/quicksort\n",
      "/home/jovyan/work/Thesis/programs/mergesort\n",
      "\n",
      "serial bubblesort: 0.004142\n",
      "serial quicksort: 8.2e-05\n",
      "serial mergesort: 0.000107\n"
     ]
    }
   ],
   "source": [
    "%cd ~/work/Thesis/programs/bubblesort\n",
    "! ./timing.o 1 100 1000 >/dev/null\n",
    "time_serial_selectionsort = np.genfromtxt('./time.txt')\n",
    "\n",
    "%cd ~/work/Thesis/programs/quicksort\n",
    "! ./timing.o 1 100 1000 >/dev/null\n",
    "time_serial_quicksort = np.genfromtxt('./time.txt')\n",
    "\n",
    "%cd ~/work/Thesis/programs/mergesort\n",
    "! ./timing.o 1 100 1000 >/dev/null\n",
    "time_serial_mergesort = np.genfromtxt('./time.txt')\n",
    "\n",
    "print('\\nserial bubblesort: '+ str(time_serial_bubblesort))\n",
    "print('serial quicksort: '+ str(time_serial_quicksort))\n",
    "print('serial mergesort: '+ str(time_serial_mergesort))"
   ]
  },
  {
   "cell_type": "markdown",
   "metadata": {},
   "source": [
    "When sorting a list of 1000 random numbers, we achieved much better performance with our serial quicksort and mergesort algorithm, than with the serial bubblesort algorithm. Would it not make more sense, to compare the parallel bubblesort programm  with the most efficient serial sorting algorithm?\n",
    "\n",
    "One might think this way, if the focus is on the problem of sorting 1'000 numbers. Were we to solve this problem on a serial machine, we would probably choose quicksort. So the imporvement we get by parallelizing bubblesort should be compared to the algorithm we would actually end up using on a serial machine. \n",
    "\n",
    "According to [[a]](#a) there are two different practices when measuring $t_{serial}$:\n",
    "1. take the best available serial algorithm (quicksort in our case)\n",
    "2. take the serial implementation of the algorithm you parallelized (bubblesort in our case)\n",
    "\n",
    "Let's have a look at the different speed-up's achieved:"
   ]
  },
  {
   "cell_type": "code",
   "execution_count": 24,
   "metadata": {},
   "outputs": [
    {
     "name": "stdout",
     "output_type": "stream",
     "text": [
      "Speed-up with Option 1:\n",
      "0.04385026737967915\n",
      "\n",
      "Speed-up with Option 2:\n",
      "2.2155080213903746\n"
     ]
    }
   ],
   "source": [
    "print(\"Speed-up with Option 1:\")\n",
    "print(time_serial_quicksort/time_parallel_bubblesort)\n",
    "print(\"\\nSpeed-up with Option 2:\")\n",
    "print(time_serial_bubblesort/time_parallel_bubblesort)"
   ]
  },
  {
   "cell_type": "markdown",
   "metadata": {},
   "source": [
    "Depending on which option we choose, we get a different speed-up. In our example we get a speed-up smaller than 1 if we use option 1 for calculations. This means that we are much slower with the parallel program compared to the serial one. When we just compare the bubblesort algoirhtm with itself (with and without parallelization) we get a speed up of +2.\n",
    "\n",
    "The option used most commonly is the second one [[a]](#a), which is also what we will be doing throughout the rest of this notebook. It is up to you to decide which option is best for your situaton. You must ensure, however, that other people know what serial algorithm you choose in your calculations of speed-up.\n",
    "\n",
    "If you looked at my code very alertly, you might have noticed, that I calculated the serial execution time by setting the number of threads to 1. I have in fact used the exact same exectuable than I used for measuring parallel execution time. Is this ok? Or would it be more accurate to write a sparate program for the measurement of serial execution time? In the folder `./extras` you can find a notebook ['measuring_serial_time'](./extras/measuring_serial_time.ipynb#serialtime), which analyses exactly that. Feel free to have a look, if you are interessted. The conclution basically is, that it is ok to just set thread number to 1, if you don't write a scientific paper and just want to explore things.\n",
    "\n",
    "In that extra Notebook you will also come across the term 'overhead'. I think it is time, to define what we mean with overhead."
   ]
  },
  {
   "cell_type": "markdown",
   "metadata": {},
   "source": [
    "## Overhead <a class=\"anchor\" id=\"overhead\"></a>\n",
    "\n",
    "In the previous section we compared the execution time of parallel bubblesort to serial quicksort. We saw, that when we focus on the problem of sorting a list of 1000 elements, it makes no sense to use bubblesort, because quicksort is so much faster. \n",
    "\n",
    "Do you wonder, if you could speed up things even more, by parallelizing quicksort? If serial quicksort was so much faster than parallel bubblesort, the parallel quicksort must be super super fast. Let's find out..."
   ]
  },
  {
   "cell_type": "code",
   "execution_count": 26,
   "metadata": {},
   "outputs": [
    {
     "name": "stdout",
     "output_type": "stream",
     "text": [
      "/home/jovyan/work/Thesis/programs/quicksort\n",
      "\n",
      "Speed up of Quicksort with 64 Threads:\n",
      "0.5364238410596026\n"
     ]
    }
   ],
   "source": [
    "%cd ~/work/Thesis/programs/quicksort\n",
    "! ./timing.o 64 100 1000 >/dev/null\n",
    "time_parallel_quicksort = np.genfromtxt('./time.txt')\n",
    "! ./timing.o 1 100 1000 >/dev/null\n",
    "time_serial_quicksort = np.genfromtxt('./time.txt')\n",
    "print(\"\\nSpeed up of Quicksort with 64 Threads:\")\n",
    "print(time_serial_quicksort/time_parallel_quicksort)"
   ]
  },
  {
   "cell_type": "markdown",
   "metadata": {},
   "source": [
    "We can see, that with a list length of 1000 and threads set to 64 we get a speed up smaller than 1. This means, that our serial version of the programm is faster than the parallel version. \n",
    "\n",
    "How can that be? Shouldn't parallelism make our programm run faster? The explanation for this is overhead. \n",
    "\n",
    "Creating parallel regions, loading the openmp runtime library, synchronization of threads, communication between threads, ... all this requires time. We don't need to spend any time on this in our serial version of the programm. The extra executation time due to parallelization we call 'paralleization overhead'. In most cases paralleization only makes sense for larger problem sizes [[a]]. \n",
    "\n",
    "Günther Bengel [[i]](#i) divides the total execution time of a programm into the following blocks:\n",
    "- $t_{cpu}$ : time used for calculations (using data in the local memory of the processors)\n",
    "- $t_{com}$ : time used for exchanging data beetween processors\n",
    "- $t_{wait}$ : waiting time (for example due to uneven loads on the different processors)\n",
    "- $t_{syn}$ : time used for synchronization of the used processors\n",
    "- $t_{place}$ : time used for allocating tasks to individual processors\n",
    "- $t_{start}$ : time used to stat the parallel tasks on all processors\n",
    "\n",
    "Günther Bengel [[i]](#i) further defines:\n",
    "- setup time = $t_{place} + t_{start}$\n",
    "- overhead = $t_{com} + t_{wait} + t_{syn}$\n",
    "\n",
    "Other authors define the setup time as part of the parallel overhead. According to [[a]](#a) parallel overhead is *'the part of the parallel run-time that’s due to any additional work that isn’t done by the serial program'*.\n",
    "\n",
    "There are many different kinds of overhead. In our case we have an overhead because we use Jupyter Notebook. For convenience we access the terminal through the Jupyter Notebook API, which results in a small overhead. Further we use the python module `timeit` for the time measurement, which again leads to some overhead. And we have a operation system overhead as well [[j]](#j). The bigger the execution time of the programm, the more insiginificant these kinds of overheads become [[i]](#i). \n",
    "\n",
    "**Example:** Let's assume that the `OS`, `Jupyter Notebook API`, and the `pyhton module timeit` result in an overhead of 5 miliseconds. If the true execution time of our programm is also 5 miliseconds, then we would get a time measurement of 10 miliseconds with `timeit`. So we are 5 miliseconds off (because of the overhead).\n",
    "\n",
    "**Question:** Do you feel like this is error is relevant ?"
   ]
  },
  {
   "cell_type": "code",
   "execution_count": 9,
   "metadata": {},
   "outputs": [
    {
     "name": "stdout",
     "output_type": "stream",
     "text": [
      "Type 'yes or 'no':\n"
     ]
    },
    {
     "name": "stdin",
     "output_type": "stream",
     "text": [
      " yes\n"
     ]
    },
    {
     "name": "stdout",
     "output_type": "stream",
     "text": [
      "\n",
      "Very Good!!!That seems like a relevant error, as we end up with a measurement double as high than the true run time. \n"
     ]
    }
   ],
   "source": [
    "%run ./topsecret/test8.ipynb"
   ]
  },
  {
   "cell_type": "markdown",
   "metadata": {},
   "source": [
    "**Question:** What if we measure the performance of a larger program, that has a true runtime of 5 seconds? The time measurement we get with timeit would be 5 seconds and 5 milliseconds (because of overhead), so again we are 5 miliseconds off. Do yo feel like this error is relevant ?"
   ]
  },
  {
   "cell_type": "code",
   "execution_count": 7,
   "metadata": {},
   "outputs": [
    {
     "name": "stdout",
     "output_type": "stream",
     "text": [
      "Type 'yes or 'no':\n"
     ]
    },
    {
     "name": "stdin",
     "output_type": "stream",
     "text": [
      " kjoi\n"
     ]
    },
    {
     "name": "stdout",
     "output_type": "stream",
     "text": [
      "Not a valid answer.\n"
     ]
    }
   ],
   "source": [
    "%run ./topsecret/test9.ipynb"
   ]
  },
  {
   "cell_type": "markdown",
   "metadata": {},
   "source": [
    "So, we learned that overhead matters. In fact, it can matter so much, that you might not even want to use your parallelized program version. In general we can say, that the bigger the problem size, the more likely it will be worth it using parallelization. In the case of sorting algorithms, the problem size can be increased by increasing the list length. \n",
    "\n",
    "Let's look again at the quicksort algorithm. This time we are going to use the parallel quicksort with 64 threads to sort different lengths of lists. We want to find out, how long our list has to be, so that it is worth it to use the parallel implementation with 64 threads. You can find the code for the graph below in the notebook ['./extras/overhead'](./extras/overhead.ipynb).\n",
    "\n",
    "This is my result:\n",
    "\n",
    "<img src='figures/overhead.PNG' width='700' art='When is it worth it using the parallel program instead of the serial one....\"'>\n",
    "\n",
    "We can see, that for all list length smaller than 1900 we get a speed-up smaller 1. Thus, it only makes sense for us to use the parallel implementaiton of quicksort with 64 threads, if our list is at least 1900 elements long. The reason for this is parallel overhead.\n",
    "\n",
    "**Tipp:** It is a comman technique in parallel programming to set a threshold for when to use the serial implementation instead of the parallel one [[k]](#k). In our example we would set the threshold to 1900. If the list length is smaller than the threshold, a serial implementation of the algorithm can be used, otherwise a parallel one. This is especially useful in 'divide and conquer' algorithms, where the problem size often changes with each internal call of the function. To set a good value for the threshold you can do the kind of analyzis I did with the quicksort algorithm."
   ]
  },
  {
   "cell_type": "markdown",
   "metadata": {},
   "source": [
    "## Amdahl's Law <a class=\"anchor\" id=\"amdahl\"></a>\n",
    "\n",
    "Amdahl's Law allows us to calculate the maximum speed-up possible, for a specific program and a given number of processors. \n",
    "\n",
    "The question we can answer with the help of Amdahl's law is: \"With p processors, what is the maximum possible speed-up for this program?\"\n",
    "\n",
    "With the help of Amdahl's Law we can answer this question. However, we can only use Amdahl's Law if we know how many percent of the total program is inherently serial and which percentage of the program is parallelizable. \n",
    "\n",
    "We define:\n",
    "- $W_{ser}$ = total wall time of the serial part of the program\n",
    "- $W_{par}$ = total wall time of the parallelizable part of the program (executed with 1 thread)\n",
    "\n",
    "Let's give a small example with a story. Let's say we want to build a beach at our home. We rent one truck, and ask all our friends to help us bring the sand from the beach to our home. We tell half of our friends to hang out at the beach, the other half of our friends we ask to hang out at our house. With the help of our friends at the beach we shuffle as much sand into the truck as fits in there. Then we drive the truck to our home, and spread all the sand at the new 'home beach'. \n",
    "\n",
    "<img src='figures/beachstory.PNG' width='400' art='Story....\"'>\n",
    "\n",
    "Assuming we don't have any friends and have to do it all by ourselves, we need the following times:\n",
    "- filling the truck with sand: **6 hours**\n",
    "- driving the truck home: **2 hours**\n",
    "- spreading the sand at home: **3 hours**\n",
    "\n",
    "**Question:** What is $W_{ser}$ in this example?"
   ]
  },
  {
   "cell_type": "code",
   "execution_count": 9,
   "metadata": {},
   "outputs": [
    {
     "name": "stdout",
     "output_type": "stream",
     "text": [
      "\n",
      "How many hours? \n",
      "\n"
     ]
    },
    {
     "name": "stdin",
     "output_type": "stream",
     "text": [
      " 2\n"
     ]
    },
    {
     "name": "stdout",
     "output_type": "stream",
     "text": [
      "\n",
      "Nice, very good!\n"
     ]
    }
   ],
   "source": [
    "%run ./topsecret/test10.ipynb"
   ]
  },
  {
   "cell_type": "markdown",
   "metadata": {},
   "source": [
    "**Question:** What is $W_{par}$ in this example?"
   ]
  },
  {
   "cell_type": "code",
   "execution_count": 10,
   "metadata": {},
   "outputs": [
    {
     "name": "stdout",
     "output_type": "stream",
     "text": [
      "\n",
      "How many hours?: \n",
      "\n"
     ]
    },
    {
     "name": "stdin",
     "output_type": "stream",
     "text": [
      " 9\n"
     ]
    },
    {
     "name": "stdout",
     "output_type": "stream",
     "text": [
      "\n",
      "Nice, very good!\n"
     ]
    }
   ],
   "source": [
    "%run ./topsecret/test11.ipynb"
   ]
  },
  {
   "cell_type": "markdown",
   "metadata": {},
   "source": [
    "We can share the work of filling the truck with sand and unloading the truck with our friends, so this work is parallelizable. However, regardless of how many friends we have, we won't be able to speed up the task of driving the truck back home. \n",
    "\n",
    "**Question:** With 3 friends at the beach and 3 friends at home, what is the minimal amount of hours we need for our project?"
   ]
  },
  {
   "cell_type": "code",
   "execution_count": 11,
   "metadata": {},
   "outputs": [
    {
     "name": "stdout",
     "output_type": "stream",
     "text": [
      "\n",
      "How many hours?: \n",
      "\n"
     ]
    },
    {
     "name": "stdin",
     "output_type": "stream",
     "text": [
      " 5\n"
     ]
    },
    {
     "name": "stdout",
     "output_type": "stream",
     "text": [
      "\n",
      "Very good!\n"
     ]
    }
   ],
   "source": [
    "%run ./topsecret/test12.ipynb"
   ]
  },
  {
   "cell_type": "markdown",
   "metadata": {},
   "source": [
    "Of course, we will need a little bit more time than this, because of overhead. Yet, we can give a lower bound for the execution time, which is:\n",
    "\n",
    "$t_{parallel} >= \\frac{W_{par}}{friends} + W_{ser}$\n",
    "\n",
    "Do you remember the question we ask with Amdahl's Law?  It is: \"With p processors, what is the maximum possible speed-up?\"\n",
    "\n",
    "Since $t_{serial}$ is 11 hours, and $t_{parallel}$ 5 or more, we get a speed up of maximum $\\frac{11}{5}$ = 2.2  if 3 friends come to help us at the beach and at home.\n",
    "\n",
    "**Question:** What if we are super popular, and we have an infinite number of friends? We will still need at least how many hours for our 'home beach' project?"
   ]
  },
  {
   "cell_type": "code",
   "execution_count": 12,
   "metadata": {},
   "outputs": [
    {
     "name": "stdout",
     "output_type": "stream",
     "text": [
      "\n",
      "Minimal amount of hours needed: \n",
      "\n"
     ]
    },
    {
     "name": "stdin",
     "output_type": "stream",
     "text": [
      " 2\n"
     ]
    },
    {
     "name": "stdout",
     "output_type": "stream",
     "text": [
      "\n",
      "Very good! \n",
      "\n",
      "\n"
     ]
    }
   ],
   "source": [
    "%run ./topsecret/test13.ipynb"
   ]
  },
  {
   "cell_type": "markdown",
   "metadata": {},
   "source": [
    "**Question:** What is the maximum possible speed-up, if we have an infinite amount of friends?"
   ]
  },
  {
   "cell_type": "code",
   "execution_count": 1,
   "metadata": {},
   "outputs": [
    {
     "name": "stdout",
     "output_type": "stream",
     "text": [
      "\n",
      "Maximum possible speed-up: \n",
      "\n"
     ]
    },
    {
     "name": "stdin",
     "output_type": "stream",
     "text": [
      " 6\n"
     ]
    },
    {
     "name": "stdout",
     "output_type": "stream",
     "text": [
      "\n",
      "Try again...you need to divide t_serial (which is 11) by the smallest possible execution time.\n",
      "\n",
      "\n"
     ]
    }
   ],
   "source": [
    "%run ./topsecret/test14.ipynb"
   ]
  },
  {
   "cell_type": "markdown",
   "metadata": {},
   "source": [
    "Wow. You just understood the basics of Amdahl's Law!!! <br>\n",
    "Yes, it really is that simple. Bascially what Amdahl's law says, is: \n",
    "\n",
    "<blockquote>\"No matter how many processors we can use for running our program in parallel, the maximum speed-up we can achieve is limited by $W_{ser}$ (the wall time of the part of the program, which cannot be parallelized).\" </blockquote> <br>\n",
    "\n",
    "<img src='figures/GeneAmdahl1960.jpg' width='400' art='Amdahl....\"'> [[i]](#i)\n",
    "\n",
    "<sub>Picture edited by Maruna Derieg.</sub>\n",
    "\n",
    "Let's go over Amdahl's Law again, but with a little bit more mathematics involved. "
   ]
  },
  {
   "cell_type": "markdown",
   "metadata": {},
   "source": [
    "In the calculations for speed-up we used the notation $t_{serial}$ and $t_{parallel}$ for the execution times of the serial and parallel program run. From now onward, we will write the execution time of the full program run as W (like wall time) and the number in the subscript describes the amount of processors used [[n]](#n). Thus:\n",
    "\n",
    ">$W_{1} = t_{serial}$ <br>\n",
    ">$W_{64} = t_{parallel}$ with 64 processors used\n",
    "\n",
    "The formula for speed up with this new notation is [[n]](#n):<br>\n",
    ">Speed-up $ = \\frac{t_{serial}}{t_{parallel}} = \\frac{W_{1}}{W_{p}}$\n",
    "\n",
    "Further we can say, that if we add up $W_{ser}$ and $W_{par}$ we get the wall time of the full program run (without using parallelism)[[n]](#n).\n",
    "\n",
    ">$W_{1} = W_{ser} + W_{par}$  \n",
    "<sub>with $W_{1}$ = wall time of the total program run with number of processors set to 1\n",
    "\n",
    "If we increase the number of processors from 1 to 8, then the workload of the pararellizable part of the program can be shared amongst 8 threads. Thus $W_{par}$ would decrease to $W_{par}/8$ in the best case scenario. As we already know, there will be an overhead, so $W_{par}/8$ is just a lower bound. Therefor we don't use the 'equal' sign but the 'bigger-equal' sign instead:\n",
    "\n",
    ">$W_{8} >= W_{ser} + \\frac{W_{par}}{8}$  \n",
    "    \n",
    "And more generalized for any amount of processors [[n]](#n):\n",
    ">$W_{p} >= W_{ser} + \\frac{W_{par}}{p}$  \n",
    "<sub>with p = number of processors\n",
    "    \n",
    "<img src='figures/amdahlslaw.PNG' width='600' art='Amdahl....\"'> [[i]](#i)    \n",
    "    \n",
    "**Maximum Speedup:**\n",
    "To get the maximum possible speed-up we can just insert these new terms into the speed-up function above, and we get [[n]](#n):<br>\n",
    ">Speed-up $ <= \\frac{W_{ser}+W_{par}}{W_{ser} + \\frac{W_{par}}{p}}$     \n",
    "    \n",
    "Since we are having so much fun with all these formulas, we are going to make it even more fancy looking!\n",
    "Instead of using the absolute values of '$W_{ser}$' and '$W_{par}$' we will replace these terms with a fraction value: <br>\n",
    ">f = fraction of total program which is inherently serial <br>\n",
    ">1 - f = fraction of total program which can be parallelized \n",
    "    \n",
    "In our 'home-beach' example above the fraction of the inherently serial part is 2/11 and for the parallelizable part it is 1-(2/11) = 9/11. \n",
    "    \n",
    "In order to eliminate the absolute values of '$W_{ser}$' and '$W_{par}$' we set :\n",
    ">$W_{ser} = W_{1} \\cdot f$<br>\n",
    ">$W_{par} = W_{1} \\cdot (1-f)$\n",
    "    \n",
    "**Amdahl's Law**: Inserting this into the formula above for 'maximum speed-up' we get [[m]](#m):<br>\n",
    ">Speed-up $ <=  \\frac{W_{ser}+W_{par}}{W_{ser} + \\frac{W_{par}}{p}}\n",
    "= \\frac{ W_{1} \\cdot f+W_{1} \\cdot (1-f)}{W_{1} \\cdot f + \\frac{W_{1} \\cdot (1-f)}{p}} = \\frac{f+(1-f)}{f+\\frac{(1-f)}{p}} = \\frac{1}{f+\\frac{(1-f)}{p}}$   \n",
    "    \n",
    "Let's go back to our 'home-beach' example and calculate the different maximum speed-up's depending on how many friends we have. For the calculations we use Amdahl's Law like we have just defined it.\n",
    "    \n",
    "**Tipp:** You can adjust the values in my code, if you want to create an analog graphic for your own program. For this you need to know f (the fraction of the inherently serial part of your program). "
   ]
  },
  {
   "cell_type": "code",
   "execution_count": 10,
   "metadata": {},
   "outputs": [],
   "source": [
    "# parameters for you to adjust\n",
    "f = 2/11\n",
    "max_p = 128"
   ]
  },
  {
   "cell_type": "code",
   "execution_count": 20,
   "metadata": {},
   "outputs": [
    {
     "data": {
      "image/png": "[encoded data removed]",
      "text/plain": [
       "<Figure size 1008x360 with 2 Axes>"
      ]
     },
     "metadata": {
      "needs_background": "light"
     },
     "output_type": "display_data"
    }
   ],
   "source": [
    "%run ./graphs/amdahl.ipynb"
   ]
  },
  {
   "cell_type": "markdown",
   "metadata": {},
   "source": [
    "**Challenge:** Play around with different values for f and max_p to see how the graphic changes.\n",
    "    \n",
    "You will notice, that no matter what the fraction f for the non-parallelizable part is, we can never reach a maximum speed-up higher than the red boundary. \n",
    "\n",
    "If the number of processors is infinite, then we get the following limit [n]: <br>\n",
    ">$\\lim_{p \\to \\infty} \\frac{1}{f+\\frac{(1-f)}{p}} = \\frac{1}{f}$ \n",
    "\n",
    "**Conclusion:** The conclusion we can draw from this is, that no matter how powerful our machine is, the speed-up will never be more than $\\frac{1}{f}$. This can be considered the 'bottleneck' of parallel computing. \n",
    "\n",
    "**Limitations of Amdahl' Law**:  \n",
    "- Amdahl's Law does not give us any information about what happens, if we vary the problem size. Do you remeber the graphic we calculated in the section about overhead? There we saw, that the problem size has an influence on speed-up. The larger the list of random numbers to be sorted by quicksort, the more speed-up could we observe (while keeping the thread number constant). Amdahl's law fails to look into the effects of varying problem sizes. \n",
    "- Amdahl's Law assumes that all parallel regions use the same amount of threads. In practice this is not always the case. Each parallel region might have a different amount of threads. Another common scenario is to have a loop, and a different amount of threads for each run of the loop. The upper-bound for speed-up calculated with Amdahl's Law is still correct in these cases, because we only give an 'upper-bound'. Howeer, we could give a more precise upper-bound by adjusting the formula of Amdahl's Law so that it considers different amount of threads for different parallel regions. \n",
    "- Amdahl's Law only gives an upper bound for speed-up. It does not give an approximation for the true speed-up. The speed-up we end up measuring can vary greatly from the one that is in theory possible (if there was no parallel overhead and if all parallel regions use the same amount of threads). \n",
    "- Amdahl's Law assumes that f is fixed. In practice, however, we can observe that the ration of the parallelizable part of the program to the non-parallelizable one changes, as we change the problem size. If we want to calculate the upper-bound of speed-up for various problem sizes, Amdahl's Law is not suitable (unless we change f for each calculation).\n",
    "\n",
    "In case you find it difficult to understand this list about limitations of Amdahl's Law, don't worry. Keep reading, and come back to it again later. It will make more sense once you learned about scalability and Gustafson's law. "
   ]
  },
  {
   "cell_type": "markdown",
   "metadata": {},
   "source": [
    "## What is the serial fraction of a program ?  <a class=\"anchor\" id=\"serialfraction\"></a>\n",
    "\n",
    "Have you wondered, how you would be able to find out what fraction of the program is inherently serial? If you want to use Amdahl's Law and Gustafson's Law for calculations you need to know `f` (the serial fraction of the program). \n",
    "\n",
    "One way to get f is by measuring the wall time of all the program parts which you believe to be non-parallelizable, and the wall time of the parts which you believe can be parallized. Doing this will give you a rough idea about the value of f. The challenge with this approach is to get all the serial parts together, that are hiding within the parallel region. Let's say you have a code block which is executed by only one thread (e.g. OMP single), then you have to add that to the serial execution time, even if the code lies within a region that can be parallelized. \n",
    "\n",
    "Another way of calculating f is by using Amdahl's Law. \n",
    "We know from Amdahl's Law that if we keep the problem size fixed, and we measure the execution time with an increasing number of threads, then the maximum speed-up will diverge towards 1/f. Do you already see where this goes?\n",
    "\n",
    "Let's say you measured the execution time of your 'mandelsort' program with different numbers of threads. Then you calculate the speed-up for each thread number and plot the result: \n",
    "\n",
    "<img src='figures/Mandelbrot_fullProgram.PNG' width='400' art='Mandelbrot....\"'> \n",
    "\n",
    "**Question:** What could be an approximate value for f in the mandelbrot-set programm?"
   ]
  },
  {
   "cell_type": "code",
   "execution_count": null,
   "metadata": {},
   "outputs": [],
   "source": [
    "%run ./topsecret/test18.ipynb"
   ]
  },
  {
   "cell_type": "markdown",
   "metadata": {},
   "source": [
    "We can visually analyze what an approximate value for the maximum possible speed-up could be for an infinite number of processing units. This gives as a value for '1/f'. Calculating f is then really easy, as $\\frac{1/f}{1} = f$. So all we have to do is find out the limit that the graph is diverging to, and divide that value by 1. Instead of doing the analysis visually we can also use some fancy python modules that allow us to fit a graph to a set of data points and then we can calculate the limit of that graph for an infinite number of p. \n",
    "\n",
    "**Challenge:** You can try this method with any of the programs in the `./programs` folder. Just open the notebook `compare_timemeasuingmethods.ipynb` in the folder `./extras` and calculate the speed-up progression for the program you are interessted in. \n",
    "\n",
    "You might notice two interessting things:\n",
    "1. If we measure the execution time on the algorithm only instead of the full program run, it is much harder for us to guess what the maximum possible speed-up for an infinte number of threads could be. \n",
    "2. The speed-up progression is most of the time not monotoniously increasing. Instead it often drops again with a higher number of threads. \n",
    "\n",
    "The speed-up progression for the Mandelbrot-set Program in the picture above is based on measurements made on the full programm run. How does the graphic look if we measure execution time on the algorithm only? Here is the graphic:\n",
    "\n",
    "<img src='figures/Mandelbrot_algorithmOnly.PNG' width='400' art='Mandelbrot....\"'> \n",
    "\n",
    "It looks like we get a linear speed-up progression, but Amdahl's Law has tought us that this is not possible if the problem size is fixed. The reason why we don't see a logarithmic curve is that we don't have enough threads available. If we had a more powerful machine that allows us to use more than 64 threads, we would eventually notice a logaritimic curve pattern (if the number of threads is high enough). Because the fraction of the inherently serial part of the program is much smaller if we measure the execution time on the algoirthm only, we can achieve much higher speed-ups. Further, it takes a higher amount of threads until we can see the curve flattening. You can test this out yourself if you go to the section of Amdahl's Law. There you see some code with which you can create the graph of Amdahl's Law with different values for f. \n",
    "\n",
    "The second observation is that when we actually measure the execution time of our program with different thread numbers, and plot the results, we might get very different results than what Amdahl's Law would make us believe we should get. The reason for this is parallel overhead. Amdahl's Law does not account for any parallel overhead, which is why we only get a 'upper bound' for speed-up. The actual speed-up however can vary greatly from the upper bound of speed-up calculated with Amdahl's Law. If the parallel overhead is a constant value for any thread number, then we get a curve that resembles the curve we can calculate with Amdahl's Law. Anyhow, most of the time the parallel overhead is not a constant value, but grows as the number of threads grows. \n",
    "\n",
    "We can see this for example if we calculate the speed-up and efficiency progression for the 'bubblesort' program:\n",
    "\n",
    "<img src='figures/bubblesort_performance.png' width='800' art='Bubblesort....\"'> \n",
    "\n",
    "If we use more than 32 threads in the bubblesort program our speed-up decreases! This is because the parallel overhead increases if we use more threads. We have to be careful not to confuse the true speed-up with the speed-up that would in theory be possible if there was no parallel overhead. \n",
    "\n",
    "Yet another possible method to calculate f is with one or multiple speed-up measurements. With Amdahl's Law we can calculate an upper bound for speed-up: $\\frac{1}{f+\\frac{(1-f)}{p}}$. If we isolate f, we get $f = \\frac{p - s}{s \\cdot (p-1)}$ with s=upper bound for speed-up.\n",
    "\n",
    "Does this mean we can just do any measurement for speed-up, plug it into the formula just mentioned, and get f? \n",
    "This will not work because of two reasons:\n",
    "1. Random Noise: If we calculate f with the formula above with different measurements, we will always get a different value for f. \n",
    "2. Difference between upper-bound and true speed-up: By now you should know that Amdahl's Law gives us only an upper bound for speed-up, not the actual speed-up. The method just mentined would work fine if you knew the upper bound for speed-up. But you don't. You only know the true speed-up. Therefore, the f you calculate with this method is not the true f. The upper bound for speed-up for a certain thread number is higher than the actual speed-up you measured. Therefor, the true f is smaller than the f you end up calculating, when you plug the 'measured speed-up' into the formula above. \n",
    "\n",
    "**Conclution:** There is not one satisfying method to calculate f. Depending on the program one or the other method will be most suitable. Another thing to consider is that no matter what method you choose to calculate f, the result will only be an approximation to the true value of f [[o]](#o)."
   ]
  },
  {
   "cell_type": "markdown",
   "metadata": {},
   "source": [
    "## Scalability <a class=\"anchor\" id=\"scalability\"></a>\n",
    "\n",
    "In the context of computer science the term \"scalability or scaling\" is generally used to indicate the \"ability of hardware and software to deliver greater computational power when the amount of resources is increased\" [[o]](#o). When we increase the number of threads in our program and as a result we observe an increase in speed-up, then we can say that our program scales. Now, we maybe want to give a more detailed report by explaining 'how' our program scales. That's where it can get a little tricky, as you will see...\n",
    "\n",
    "In the context of parallel programming and performance you will often hear the terms \"weakly scalable\" and \"strongly scalable\". This can be quite confusing, because scientist also talk about programs that are \"poorly scalable\" and \"highly scalable\" [[j]](#j), which sounds like it should be the same, but isn't. \n",
    "\n",
    "Strong and weak scalability refer to two different types of scaling:\n",
    "\n",
    "**Strong Scalability - Strong Scaling:**\n",
    "If we increase the number of processors, but keep the problem size fixed, then we analyze strong scalability. For example you could measure speed-up of a 'matrix-matrix mulitplication' with different numbers of threads, while keeping the matrix size constant at a certain size (i.e. 64). We ask the question: \"How does speed-up/efficiency change, if I increase the number of threads while keeping the problem size constant?\"\n",
    "\n",
    "**Weak Scalability - Weak Scaling:** \n",
    "If we increase the problem size at a consistent rate, and at the same time we increase the number of threads at a consistent rate, then we analyze weak scalability. For example you could first measure the speed-up of a 'matrix-matrix multiplication' with 8 threads and matrix size 8, then with 16 threads and matrix size 16, then with 32 threads and matrix size 32, ... We ask the question: How does speed-up/efficiency change, if I increase the number of threads, and simmultaniously increase the problem size?\n",
    "\n",
    "Do you remember what we mean with problem size? I give you a few examples. If you have a sorting algorithm, the problem size is the length of the list to be sorted. If you want to calculate the Mandelbrot Set, the problem size is the height or width or number of pixels of the picture you want to create. In the programs you can find in the `./programs` section, I have adjusted all the code so that the last argument that is passed to the program is the problem size. This allows us to play around with different problem sizes and investigate how that influences speed-up. \n",
    "\n",
    "**Question:** Do we analyze weak or strong scalability with Amdahl's law?"
   ]
  },
  {
   "cell_type": "code",
   "execution_count": 6,
   "metadata": {},
   "outputs": [
    {
     "name": "stdout",
     "output_type": "stream",
     "text": [
      "\n",
      "Type \"weak\" or \"strong\": \n",
      "\n"
     ]
    },
    {
     "name": "stdin",
     "output_type": "stream",
     "text": [
      " awoei\n"
     ]
    },
    {
     "name": "stdout",
     "output_type": "stream",
     "text": [
      "No valid answer. Type \"weak\" or \"strong\"\n"
     ]
    }
   ],
   "source": [
    "%run ./topsecret/test16.ipynb"
   ]
  },
  {
   "cell_type": "markdown",
   "metadata": {},
   "source": [
    "What about \"poorly scalable\" and \"highly scalable\"? Intuitively it would make sense, if poorly scalable is a synonim of weakly scalable, and highly scalable a synonim for strongy scalable. Be careful, because it is not. Instead, the terms \"poorly scalable\" and \"highly scalable\" are used with respect to different degrees of scalability.\n",
    "\n",
    "No matter whether you analyze weak or strong scalability like we have just defined it, a program can scale or not scale. If you calculate the speed-up with an increasing number of threads (keeping the problem size the same) and you don't observe an increase in speed-up, then you can conclude that the program does not scale. On the other hand, you could observe a small increase in speed-up, which you might describe as poor scaling. In the best case scenario you observe an almost linear speed-up, which means that you got almost no parallel overhead. Then you can say that the program is highly scalable. \n",
    "\n",
    "The same kind of scaling description you can give when you do weak scaling (increasing problem size and thread number simultaniously). Regardless of whether you analyze strong scaling or weak scaling; in both cases you can end up with a program that does not scale at all, scales poorly, highly or something in between.  \n",
    "\n",
    "I hope everything makes sense to you until now. Now we get to the part that is confusing. Try not to get confused.\n",
    "\n",
    "**When do we call a program strongly scalable or weakly scalable?** \n",
    "\n",
    "<blockquote>\"If when we increase the number of processes/threads, we can keep the efficiency fixed without increasing the\n",
    "problem size, the program is said to be strongly scalable. If we can keep the efficiency\n",
    "fixed by increasing the problem size at the same rate as we increase the number of\n",
    "processes/threads, then the program is said to be weakly scalable [a].\" </blockquote>\n",
    "\n",
    "**Let's say you analyse a program for \"strong scalability\"**. According to the above definition you can only say that your program \"scales strongly\", if the efficiency remains the same, despite increasing the thread number. Even though you analyze a program for strong scalability, most likely you will come to the conclusion that the program does not \"scale strongly\". That is, because you always have a part of the program which is inherently serial. Amdahl's Law has shown us, that speed-up cannot be linear but diverges towards 1/f instead. Therefore the efficiency will never remain fixed (compare with the graphic we calculated in the previous section about efficiency). What this indicates is, that a program can never achieve \"strong scalability\". \n",
    "Anyhow, this does not mean that the program does not \"scale\". Remember the general definition I gave you about \"scalability\"? In the context of computer science the term \"scalability or scaling\" is generally used to indicate the \"ability of hardware and software to deliver greater computational power when the amount of resources is increased\" [[o]](#o). As long as we see an increase in speed-up when increasing thread number, our program still scales. But be careful, you can't say that it \"scales weakly\", because that would imply that you analysed the program for \"weak scalability\". \n",
    "\n",
    "**Now let's look at a different scenario, where you analyze your program for \"weak scalability\"**. How to do that you will learn in the next section about Gustafson's Law. Here it is definitely possible to come to the conclusion that the program \"scales weakly\". I will demonstrate this to you in the next section. Anyhow, when we say that a program \"scales weakly\", it does by no means indicates poor scalability. According to [[j]](#j) a program that achieves \"weak scalability\" scales \"poorly\", if we have to increase the problem size exponentially in order to maintain the efficiency fixed. On the other hand, if we have a program where we only need to increase the problem size with a linear function in order to maintain the efficiency fixed, then we have a program with \"weak scalability\" that scales \"highly\". Thus the degree of scalability depends on how much we have to increase the problem size, in order to maintain the efficiency constant.\n",
    "\n",
    "Wow. This was a lot of theory all at once. It is time that we try out what we just learned and do some experiments. In the folder `./extras` you find a notebook called ['weak_scaling'](./extras/weak_scaling.ipynb#weakscaling). In that notebook you can play around with different problem sizes and analyse weak scaling. It is whith that noebook that I analyzed weak scalbility for the program `matrix matrix multiplication`. I measured the execution time of that program with different matrix sizes and thread numbers. This is the result I got:\n",
    "\n",
    "<img src='figures/matrixmatrixmultiplication_weakscaling.PNG' width='800' art='weak scaling....\"'> \n",
    "\n",
    "For the lower thread numbers, the efficiency is almost 1. So if we wouldn't have the measurements with thread number 32 and 64 we could say that our program is weakly scalable. As you can see in the legend of the graph, I increased the problem size with the linear function $problemsize = threads \\cdot 10$. \n",
    "\n",
    "Do you wonder if we could could change that function in a way, so that we get efficiency close to one even for the thread numbers 32 and 64? It can help to analyze how the efficiency changes with different problem sizes for a fixed number of threads. You can do this in the notebook ['./extras/problemsize'](./extras/problemsize.ipynb#problemsize). This is the result I got for 64 threads:"
   ]
  },
  {
   "cell_type": "markdown",
   "metadata": {},
   "source": [
    "## Gustafson's Law <a class=\"anchor\" id=\"gustafson\"></a>\n",
    "\n",
    "Amdahl's law does not consider any change in problem size, but keeps it fixed instead. What we can observe in real life, however, is a general trend for the problem size of applications to adjusts to the hardware capacities. An obvious example for this is the gaming industry. The computer games that are developed nowadays leverage hardware to its maximum, and would often run poorly on hardware that was developed 5 years ago, and not work at all on hardware that was developed 10 years ago. This can be observed not only with computer games, but with a wide range of applications [[n]](#n). As the hardware becomes more powerful, the programs we develop to run on that hardware is designed to handle bigger problem sizes. \n",
    "\n",
    "It is this observation that has let Gustafson to the following suggestion:\n",
    "\n",
    "<blockquote>\". . . speedup should be measured by scaling the problem to the number of processors, not by fixing the problem size\" <sub>Gustafson 1988, cited in [n]</sub> </blockquote> \n",
    "    \n",
    "Gustafson's Law gives us a formula for calculating the 'scaled speed-up'. That is the speed-up we achieve if we increase the problem size at the same rate as we increase the number of processors.\n",
    "The deriviation of the formula for scaled speed-up might take same time to understand. If you your eyes don't start shining when you hear the word 'mathematics', then just skip all the calculations and go straight to the final formula which is Gustafson's Law. The final formula for scaled speed-up is in fact super simple. Understanding how to get to that formula is the more challenging part. \n",
    "    \n",
    "In the section about Amdahl's law we learned, that a program can be divided into two parts: \n",
    "1. the part that is inherently serial\n",
    "2. the part that is paralellizable\n",
    "    \n",
    "The fraction of the first part we call f, and the fraction of the second part we call 1-f. \n",
    "\n",
    "**Question:** What happens to the value of f (the fraction of the inherently serial part of the program) if we increase the problem size? Does it stay the same? Does it get smaller? Does it get bigger?"
   ]
  },
  {
   "cell_type": "code",
   "execution_count": 4,
   "metadata": {},
   "outputs": [
    {
     "name": "stdout",
     "output_type": "stream",
     "text": [
      "\n",
      "Type \"same\",\"smaller\",\"bigger\": \n",
      "\n"
     ]
    },
    {
     "name": "stdin",
     "output_type": "stream",
     "text": [
      " lij\n"
     ]
    },
    {
     "name": "stdout",
     "output_type": "stream",
     "text": [
      "\n",
      "Answer not valid. Type \"same\",\"smaller\" or \"bigger\"\n"
     ]
    }
   ],
   "source": [
    "%run ./topsecret/test17.ipynb"
   ]
  },
  {
   "cell_type": "markdown",
   "metadata": {},
   "source": [
    "When we increase the problem size we can usually observe, that the execution time of the parllelizable part of the program increases much more than the execution time of the inherently serial part of the program. Because of this, the value for f changes, if we change the problem size! As the problem size increases, f decreases. How much exactly will depend on the program. \n",
    "\n",
    "We define:\n",
    "- $\\alpha$ = \"scaling function of the part of the program that does not benefit from parallelization with respect to the complexity of the problem size\" [[m]](#m)\n",
    "- $\\beta$ = \"scaling function of the part of the program that benefits from parallelization with respect to the complexity of the problem size\" [[m]](#m)\n",
    "\n",
    "The scaling functions $\\alpha$ and $\\beta$ take as input the problem size, and return the factor by which the inherently serial part and parallelizable part decrease/increase.\n",
    "\n",
    "With the use of $\\alpha$ and $\\beta$ we can give a more generalized calculation of the serial execution time, which accounts for different problem sizes[[m]](#m):\n",
    "<blockquote> $T_{\\alpha \\beta}(1) = \\alpha \\cdot t_{ser} + \\beta \\cdot t_{par} = \\alpha \\cdot f \\cdot T(1) + \\beta \\cdot (1-f) \\cdot T(1)$ </blockquote>\n",
    "\n",
    "This is how you can calculate the execution time of a program that does not apply parallelism (number of processors is set to 1), but has various problem sizes. The problem size will be the input of the scaling functions $\\alpha$ and $\\beta$. The output of these functions will determine the factor by which the execution time of the two program parts have to increase, in order to account for the in increased problem size. \n",
    "\n",
    "**Question:** How would you adjust this formula, in order to calculate the execution time of a parallized program using p processors?\n",
    "\n",
    "Just like we did in the section about Amdahl's Law, we can divide the execution time of the parallizable part by p, which gives us a lower bound for the execution time of that part of the program. The lower bound is there because of the additional overhead due to parallelism. This is why we now have a 'bigger-equal' sign instead of the 'eqal' sign we used in the formula above. We get the following formula for calculating the execution time of a program, in dependence of problem size and the number of processors used:\n",
    "\n",
    "<blockquote> $T_{\\alpha \\beta}(p) >= \\alpha \\cdot t_{ser} + \\frac{\\beta \\cdot t_{par}}{p} = \\alpha \\cdot f \\cdot T(1) + \\frac{\\beta \\cdot (1-f) \\cdot T(1)}{p}$ </blockquote>\n",
    "\n",
    "**Question:** How would you calculate speed-up with that formula ?\n",
    "\n",
    "Dividing $T_{\\alpha \\beta}(1)$ by $T_{\\alpha \\beta}(p)$ gives us a scaled upper bound for speed-up [[m]](#m):\n",
    "\n",
    "<blockquote> Speed-up$_{\\alpha \\beta}(p) = \\frac{T_{\\alpha \\beta}(1)}{T_{\\alpha \\beta}(p)} <= \\frac{\\alpha \\cdot t_{ser} + \\beta \\cdot t_{par}}{\\alpha \\cdot t_{ser} + \\frac{\\beta \\cdot t_{par}}{p}} = \\frac{ \\alpha \\cdot f \\cdot T(1) + \\beta \\cdot (1-f) \\cdot T(1)}{\\alpha \\cdot f \\cdot T(1) + \\frac{\\beta \\cdot (1-f) \\cdot T(1)}{p}} = \n",
    "\\frac{\\alpha \\cdot f + \\beta \\cdot (1-f)}{\\alpha \\cdot f+\\frac{\\beta \\cdot (1-f)}{p}}$</blockquote>\n",
    "\n",
    "We can simplify this formula a little bit. Instead of using two separate scaling functions $\\alpha$ and $\\beta$ we can can just look at the ration of the two. This makes sense, because at the end we are only interessted in the ratio. We want to know how much faster the parallelizable part of the program grows compared to the part that is inherently serial. Thus, we define [[m]](#m):\n",
    "\n",
    "<blockquote>$\\gamma = \\frac{\\alpha}{\\beta}$ </blockquote>\n",
    "\n",
    "and the according function for the scaled upper bound of speed-up is:\n",
    "\n",
    "<blockquote> Speed-up$_{\\gamma}(p) <= \\frac{f + \\gamma \\cdot (1-f)}{f+\\frac{\\gamma \\cdot (1-f)}{p}}$</blockquote>\n",
    "\n",
    "Wow, that was a lot of work! But what about Gustafson't Law? Isn't that what we are talking about? Be patient, we are almost there...\n",
    "\n",
    "The value for $\\gamma$ can either be [[m]](#m):\n",
    "- $\\gamma = 1$ (i.e. $\\alpha=\\beta$) → Amdahl's Law\n",
    "- $\\gamma = p$ (i.e. $\\alpha=1$ and $\\beta=p$) → Gustafson's Law\n",
    "- $\\gamma = $ any other function depending on p\n",
    "\n",
    "In the first case of $\\gamma = 1$ we end up with Amdahl's Law. Just test it. Replace $\\gamma$ with 1 in the formula above and you end up with the formula for 'upper-bound speed-up' like we defined it in the section about Amdahl's Law. Thus, if you analyze your program for 'weak scalability' and you notice that $\\alpha=\\beta$, then that means that you have the exact same restrictions on speed-up that apply to Amdahl's Law.\n",
    "\n",
    "The second case where $\\gamma = p$ is where Gustafson's Law can be used. If  $\\gamma = p$ then we can simplify the formula for upper-bound scaled speed-up even more. We replace $\\gamma$ with p, and end up with Gustafson's Law [[m]](#m):\n",
    "\n",
    "**Gustafson's Law:** <blockquote> Scaled Speed-up(p) $ <= \\frac{f + p \\cdot (1-f)}{f+\\frac{p \\cdot (1-f)}{p}} = f + p \\cdot (1-f) $</blockquote>\n",
    "\n",
    "and the efficency in the case of Gustafson's Law:\n",
    "\n",
    "<blockquote> Efficiency(p) $ <= \\frac{f + p \\cdot (1-f)}{p} = \\frac{f}{p} + (1-f) $</blockquote>\n",
    "\n",
    "Gustafson's Law only holds true, if $\\gamma = p$. What if that is not the case? Well, no one is going to stop us from using Gustafson's law nevertheless, but the calculated result for scaled speedup will not reflect reality. \n",
    "\n",
    "So, the challenge is to find a function $\\gamma$ which returns p. Many people think that if they increase the problem size at the same rate as they increase p, then Gustafson's law can be used. Be careful, this is not necesarily the case. Instead, you need to increase the problem size in a manner, so that the execution time of the parallelizable part increases at rate p (assuming that the the serial part remains unaffected by an increase of the problem size). If you know at what rate to increase the problem size so that $\\gamma = p$, then you can apply Gustafson's Law to calculate a scaled upper bound for speed-up. \n",
    "\n",
    "Just like we did with Amdahl's Law, we can calculate the progression of scaled upper bound for speed-up and efficiency using Gustafson's Law:"
   ]
  },
  {
   "cell_type": "code",
   "execution_count": 1,
   "metadata": {},
   "outputs": [],
   "source": [
    "# parameters for you to adjust\n",
    "f_1 = 0.2\n",
    "f_2 = 0.1\n",
    "f_3 = 0.05\n",
    "max_p = 128"
   ]
  },
  {
   "cell_type": "code",
   "execution_count": 21,
   "metadata": {},
   "outputs": [
    {
     "data": {
      "image/png": "[encoded data removed]",
      "text/plain": [
       "<Figure size 1008x360 with 2 Axes>"
      ]
     },
     "metadata": {
      "needs_background": "light"
     },
     "output_type": "display_data"
    }
   ],
   "source": [
    "%run ./graphs/gustafson.ipynb"
   ]
  },
  {
   "cell_type": "markdown",
   "metadata": {},
   "source": [
    "**Challenge:** Adjust the values for f in the code above to see how this chages the graphic.\n",
    "\n",
    "Keep in mind, that with Gustafson's Law we assume that the problem size is increased correspondently to the number of processors. That is the reason why see a linear speed-up progression with Gustafon's Law.\n",
    "\n",
    "**Question:** What speed up can you in theory achieve, if you have an infinite amount of processors ? "
   ]
  },
  {
   "cell_type": "code",
   "execution_count": 25,
   "metadata": {},
   "outputs": [
    {
     "name": "stdout",
     "output_type": "stream",
     "text": [
      "\n",
      "Choose one of the following options: \"zero\",\"1/f\",\"f\",\"p\",\"infinite\"\n",
      "\n"
     ]
    },
    {
     "name": "stdin",
     "output_type": "stream",
     "text": [
      " zero\n"
     ]
    },
    {
     "name": "stdout",
     "output_type": "stream",
     "text": [
      "\n",
      "Sorry, that is wrong.\n"
     ]
    }
   ],
   "source": [
    "%run ./topsecret/test19.ipynb"
   ]
  },
  {
   "cell_type": "markdown",
   "metadata": {},
   "source": [
    "## Summary <a class=\"anchor\" id=\"summary\"></a>\n",
    "    \n",
    "We have seen, that ...\n",
    "\n",
    "So why would anyone choose to use Amdahl's Law, if we can in theory achieve an infinite speed-up by using Gustafson's Law?"
   ]
  },
  {
   "cell_type": "markdown",
   "metadata": {},
   "source": [
    "## References <a class=\"anchor\" id=\"references\"></a>\n",
    "\n",
    "[a] An introduction to parallel prgoramming. Peter Pachecco 2011.<a class=\"anchor\" id=\"a\"></a>\n",
    "\n",
    "[b] Introduction to Parallel Computing. From Algorithms to Programming on State-of-the-Art Platforms (2018) page 11? <a class=\"anchor\" id=\"b\"></a>\n",
    "\n",
    "[c] Time Mattson. Youtube Video \"Introduction to OpenMP: 02 part 1 Module 1\"  https://youtu.be/cMWGeJyrc9w <a class=\"anchor\" id=\"c\"></a>\n",
    "\n",
    "[d] Depicable Me. Youtube Video. \"Minions - WHAT ?!\" https://www.youtube.com/watch?v=MfylJy_nMbM <a class=\"anchor\" id=\"d\"></a>\n",
    "\n",
    "[e] Python Cookbook <a class=\"anchor\" id=\"e\"></a>\n",
    "\n",
    "[f] Misleading Performance Reporting in the Supercomputing Field, David H. Bailey <a class=\"anchor\" id=\"f\"></a>\n",
    "\n",
    "[g] Python Documentation. Timeit Module. https://docs.python.org/3/library/timeit.html <a class=\"anchor\" id=\"g\"></a>\n",
    "\n",
    "[h] Documentation about magic commands. https://ipython.readthedocs.io/en/stable/interactive/magics.html <a class=\"anchor\" id=\"h\"></a>\n",
    "\n",
    "[i] Masterkurs Parallele und verteilte Systeme.  <a class=\"anchor\" id=\"i\"></a>\n",
    "\n",
    "[j] introduction to parallel computing - from algorithm... <a class=\"anchor\" id=\"j\"></a>\n",
    "\n",
    "[k] patterns for parallel programming by tim mattson <a class=\"anchor\" id=\"k\"></a>\n",
    "\n",
    "[l] Picture of Gene Amdahl. https://cioperu.pe/fotoreportaje/15674/la-generalmente-interesante-historia-del-mainframe-de-ibm/?foto=5 <a class=\"anchor\" id=\"l\"></a>\n",
    "\n",
    "[m] Parallel Programming - Concepts and practice...  <a class=\"anchor\" id=\"m\"></a>\n",
    "\n",
    "[n] Parallel Programming - Patterns for efficent com.... <a class=\"anchor\" id=\"n\"></a>\n",
    "\n",
    "[o] Scalability: strong and ... https://www.kth.se/blogs/pdc/2018/11/scalability-strong-and-weak-scaling/ <a class=\"anchor\" id=\"o\"></a>"
   ]
  },
  {
   "cell_type": "code",
   "execution_count": null,
   "metadata": {},
   "outputs": [],
   "source": []
  }
 ],
 "metadata": {
  "kernelspec": {
   "display_name": "Python 3",
   "language": "python",
   "name": "python3"
  },
  "language_info": {
   "codemirror_mode": {
    "name": "ipython",
    "version": 3
   },
   "file_extension": ".py",
   "mimetype": "text/x-python",
   "name": "python",
   "nbconvert_exporter": "python",
   "pygments_lexer": "ipython3",
   "version": "3.7.9"
  }
 },
 "nbformat": 4,
 "nbformat_minor": 4
}
