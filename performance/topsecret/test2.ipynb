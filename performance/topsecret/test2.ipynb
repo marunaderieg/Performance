{
 "cells": [
  {
   "cell_type": "code",
   "execution_count": null,
   "metadata": {},
   "outputs": [
    {
     "name": "stdout",
     "output_type": "stream",
     "text": [
      "My answer:\n"
     ]
    }
   ],
   "source": [
    "print('My answer:')\n",
    "x = input()\n",
    "if x=='2':\n",
    "    print('\\nThat\\'s right!\\nBecause 54/27=2 we have a speed up of two. This means, that the parallel version of the programm runs two times as fast than the serial one.')\n",
    "else:\n",
    "    print('\\nWrong...\\nYou either made a typo or you should consider studying something more basic first, as this notebook will probably be too difficult for you.')"
   ]
  },
  {
   "cell_type": "code",
   "execution_count": null,
   "metadata": {},
   "outputs": [],
   "source": []
  }
 ],
 "metadata": {
  "kernelspec": {
   "display_name": "Python 3",
   "language": "python",
   "name": "python3"
  },
  "language_info": {
   "codemirror_mode": {
    "name": "ipython",
    "version": 3
   },
   "file_extension": ".py",
   "mimetype": "text/x-python",
   "name": "python",
   "nbconvert_exporter": "python",
   "pygments_lexer": "ipython3",
   "version": "3.8.3"
  }
 },
 "nbformat": 4,
 "nbformat_minor": 4
}
