{
 "cells": [
  {
   "cell_type": "code",
   "execution_count": 1,
   "metadata": {},
   "outputs": [
    {
     "name": "stdout",
     "output_type": "stream",
     "text": [
      "\n",
      "Type a float number for f: \n",
      "\n"
     ]
    },
    {
     "name": "stdin",
     "output_type": "stream",
     "text": [
      " 2\n"
     ]
    },
    {
     "name": "stdout",
     "output_type": "stream",
     "text": [
      "Sorry that's wrong... f has to be a float number between 0 and 1\n"
     ]
    }
   ],
   "source": [
    "print('\\nType a float number for f: \\n')\n",
    "x = float(input())\n",
    "if (x<0) or (x>1):\n",
    "    print('Sorry that\\'s wrong... f has to be a float number between 0 and 1')\n",
    "elif 0.1 <=x<=0.19:\n",
    "    print('\\n Very good. That seems to be a good approximation...')\n",
    "elif x<0.1:\n",
    "    print('\\n That seems quite small. Try a larger value for f...')\n",
    "else:\n",
    "    print('\\n That seems quite large. Try a smaller value for f...')"
   ]
  },
  {
   "cell_type": "code",
   "execution_count": null,
   "metadata": {},
   "outputs": [],
   "source": []
  }
 ],
 "metadata": {
  "kernelspec": {
   "display_name": "Python 3",
   "language": "python",
   "name": "python3"
  },
  "language_info": {
   "codemirror_mode": {
    "name": "ipython",
    "version": 3
   },
   "file_extension": ".py",
   "mimetype": "text/x-python",
   "name": "python",
   "nbconvert_exporter": "python",
   "pygments_lexer": "ipython3",
   "version": "3.8.10"
  }
 },
 "nbformat": 4,
 "nbformat_minor": 4
}
