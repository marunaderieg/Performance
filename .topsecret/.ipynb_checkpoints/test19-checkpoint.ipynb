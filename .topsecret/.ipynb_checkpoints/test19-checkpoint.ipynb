{
 "cells": [
  {
   "cell_type": "code",
   "execution_count": null,
   "metadata": {},
   "outputs": [
    {
     "name": "stdout",
     "output_type": "stream",
     "text": [
      "\n",
      "Choose one of the following options: \"zero\",\"1/f\",\"f\",\"p\",\"infinite\"\n",
      "\n"
     ]
    }
   ],
   "source": [
    "print('\\nChoose one of the following options: \"zero\",\"1/f\",\"f\",\"p\",\"infinite\"\\n')\n",
    "x = input()\n",
    "if (x==\"infinite\"):\n",
    "    print(\"That's right! With Gustafson's Law the upper-bound for speed-up is infinite, if we have an infinite number of processors\".\\n\\n')\n",
    "elif (x==\"zero\") or (x==\"1/f\") or (x==\"f\") or (x==\"p\"):\n",
    "    print('\\nSorry, that is wrong. Look at the graph again and use your imagination skills...\\n\\n')\n",
    "else:\n",
    "    print('\\nInvalid input.\\n\\n')"
   ]
  },
  {
   "cell_type": "code",
   "execution_count": null,
   "metadata": {},
   "outputs": [],
   "source": []
  }
 ],
 "metadata": {
  "kernelspec": {
   "display_name": "Python 3",
   "language": "python",
   "name": "python3"
  },
  "language_info": {
   "codemirror_mode": {
    "name": "ipython",
    "version": 3
   },
   "file_extension": ".py",
   "mimetype": "text/x-python",
   "name": "python",
   "nbconvert_exporter": "python",
   "pygments_lexer": "ipython3",
   "version": "3.7.9"
  }
 },
 "nbformat": 4,
 "nbformat_minor": 4
}
