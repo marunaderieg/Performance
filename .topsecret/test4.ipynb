{
 "cells": [
  {
   "cell_type": "code",
   "execution_count": null,
   "metadata": {},
   "outputs": [
    {
     "name": "stdout",
     "output_type": "stream",
     "text": [
      "Which value would you choose? \n",
      "\n",
      "Type 'largest', 'average', or 'smallest': \n"
     ]
    }
   ],
   "source": [
    "print(\"Which value would you choose? \\n\\nType 'largest', 'average', or 'smallest': \")\n",
    "x = input()\n",
    "if x=='smallest' or x=='Smallest':\n",
    "    print(\"\\nVery Good!!!\\nAccording to [a] and [g] this is correct. Think about it this way: \\nYou have different values for the execution time because each time you run the code, different amount of background work is happening on your system. The 'real' execution time is the one, when no background work is happening at all. So the smaller the execution time you measured is, the closer you are to the 'real' execution time. Therefore it makes most sense to choose the smallest value.\\n\\n\")\n",
    "elif x=='largest' or x=='Largest':\n",
    "    print(\"\\nAre you sure?\\nAccording to [a] and [g] you should choose the smallest value instead. Think about it this way: \\nYou have different values for the execution time because each time you run the code, different amount of background work is happening on your system. The 'real' execution time is the one, when no background work is happening at all. So the smaller the execution time you measured is, the closer you are to the 'real' execution time. Therefore it makes most sense to choose the smallest value.\\n\\n\")\n",
    "elif x=='average' or x=='Average':\n",
    "    print(\"\\nAre you sure?\\nAccording to [a] and [g] you should choose the smallest value instead. Think about it this way: \\nYou have different values for the execution time because each time you run the code, different amount of background work is happening on your system. The 'real' execution time is the one, when no background work is happening at all. So the smaller the execution time you measured is, the closer you are to the 'real' execution time. Therefore it makes most sense to choose the smallest value.\\n\\n\")\n",
    "else:\n",
    "    print(\"\\nYou did't type a valid answer.\")"
   ]
  },
  {
   "cell_type": "code",
   "execution_count": null,
   "metadata": {},
   "outputs": [],
   "source": []
  }
 ],
 "metadata": {
  "kernelspec": {
   "display_name": "Python 3",
   "language": "python",
   "name": "python3"
  },
  "language_info": {
   "codemirror_mode": {
    "name": "ipython",
    "version": 3
   },
   "file_extension": ".py",
   "mimetype": "text/x-python",
   "name": "python",
   "nbconvert_exporter": "python",
   "pygments_lexer": "ipython3",
   "version": "3.8.10"
  }
 },
 "nbformat": 4,
 "nbformat_minor": 4
}
