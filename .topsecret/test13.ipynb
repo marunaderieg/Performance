{
 "cells": [
  {
   "cell_type": "code",
   "execution_count": null,
   "metadata": {},
   "outputs": [],
   "source": [
    "print('\\nMinimal amount of hours needed: \\n')\n",
    "x = input()\n",
    "if x=='2':\n",
    "    print(\"\\nVery good! \\n\\n\") \n",
    "else: \n",
    "    print(\"\\nTry again...remember, if the denominator is infinitely large, then the full term becomes zero.\\n\\n\")"
   ]
  }
 ],
 "metadata": {
  "kernelspec": {
   "display_name": "Python 3",
   "language": "python",
   "name": "python3"
  },
  "language_info": {
   "codemirror_mode": {
    "name": "ipython",
    "version": 3
   },
   "file_extension": ".py",
   "mimetype": "text/x-python",
   "name": "python",
   "nbconvert_exporter": "python",
   "pygments_lexer": "ipython3",
   "version": "3.8.10"
  }
 },
 "nbformat": 4,
 "nbformat_minor": 4
}
