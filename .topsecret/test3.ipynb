{
 "cells": [
  {
   "cell_type": "code",
   "execution_count": 7,
   "metadata": {},
   "outputs": [
    {
     "name": "stdout",
     "output_type": "stream",
     "text": [
      "Write 'CPU Time' or 'Wall Time':\n"
     ]
    },
    {
     "name": "stdin",
     "output_type": "stream",
     "text": [
      " ajijw\n"
     ]
    },
    {
     "name": "stdout",
     "output_type": "stream",
     "text": [
      "You did't type a valid answer. Write 'CPU Time' or 'Wall Time'.\n"
     ]
    }
   ],
   "source": [
    "print(\"Write 'CPU Time' or 'Wall Time':\")\n",
    "x = input()\n",
    "if x=='Wall Time' or x=='wall time' or x=='Wall time':\n",
    "    print(\"\\nThat's right! We usually want to measure the 'wall time', not the 'CPU time' [a]. Can you think of a reason why this is so?\")\n",
    "elif x=='CPU Time' or x=='CPU time':\n",
    "    print(\"\\nSorry, your answer is wrong. We usually want to measure the 'wall time', not the 'CPU time' [a]. Can you think of a reason why this is so?\")\n",
    "else:\n",
    "    print(\"You did't type a valid answer. Write 'CPU Time' or 'Wall Time'.\")"
   ]
  }
 ],
 "metadata": {
  "kernelspec": {
   "display_name": "Python 3",
   "language": "python",
   "name": "python3"
  },
  "language_info": {
   "codemirror_mode": {
    "name": "ipython",
    "version": 3
   },
   "file_extension": ".py",
   "mimetype": "text/x-python",
   "name": "python",
   "nbconvert_exporter": "python",
   "pygments_lexer": "ipython3",
   "version": "3.8.10"
  }
 },
 "nbformat": 4,
 "nbformat_minor": 4
}
