{
 "cells": [
  {
   "cell_type": "code",
   "execution_count": 7,
   "metadata": {},
   "outputs": [
    {
     "name": "stdout",
     "output_type": "stream",
     "text": [
      "\n",
      "I promise, I will fill out the questionaire before the due date ! \n",
      "\n",
      "confirm with yes or no: \n"
     ]
    },
    {
     "name": "stdin",
     "output_type": "stream",
     "text": [
      " j\n"
     ]
    },
    {
     "name": "stdout",
     "output_type": "stream",
     "text": [
      "\n",
      "This answer is invalid...Run the cell again and type 'yes' or 'no'.\n"
     ]
    }
   ],
   "source": [
    "print('\\nI promise, I will fill out the questionaire before the due date ! \\n')\n",
    "print('confirm with yes or no: ')\n",
    "x = input()\n",
    "if x=='yes':\n",
    "    print(\"\\nNice, thank you so much!\") \n",
    "elif x=='no':\n",
    "    print(\"\\nThat's a shame...\")\n",
    "else: \n",
    "    print(\"\\nThis answer is invalid...Run the cell again and type 'yes' or 'no'.\")"
   ]
  },
  {
   "cell_type": "code",
   "execution_count": null,
   "metadata": {},
   "outputs": [],
   "source": []
  }
 ],
 "metadata": {
  "kernelspec": {
   "display_name": "Python 3",
   "language": "python",
   "name": "python3"
  },
  "language_info": {
   "codemirror_mode": {
    "name": "ipython",
    "version": 3
   },
   "file_extension": ".py",
   "mimetype": "text/x-python",
   "name": "python",
   "nbconvert_exporter": "python",
   "pygments_lexer": "ipython3",
   "version": "3.8.5"
  }
 },
 "nbformat": 4,
 "nbformat_minor": 4
}
