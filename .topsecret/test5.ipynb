{
 "cells": [
  {
   "cell_type": "code",
   "execution_count": 27,
   "metadata": {},
   "outputs": [
    {
     "name": "stdout",
     "output_type": "stream",
     "text": [
      "How many iterations would you perform? \n",
      "\n",
      "Type a positive integer:\n",
      "\n"
     ]
    },
    {
     "name": "stdin",
     "output_type": "stream",
     "text": [
      " 1000000\n"
     ]
    },
    {
     "name": "stdout",
     "output_type": "stream",
     "text": [
      "Very good. With this many iterations, you likely get an execution time which is as small as it can get. Further increasing the number of iterations would probably not give much improvements. Consider, that you might not need that many iterations after all.\n"
     ]
    }
   ],
   "source": [
    "print(\"How many iterations would you perform? \\n\\nType a positive integer:\\n\")\n",
    "string = input()\n",
    "try:\n",
    "    x = int(string)\n",
    "    if x<=0:\n",
    "        print(\"That is not a valid input.\")\n",
    "    elif x<=1000:\n",
    "        print(\"If you just need an approximate estimate, that will do the job. For a more exact result you probably want to increase the number of iterations.\")\n",
    "    elif x<=100000:\n",
    "        print(\"Not bad. You might get better results though, if you further increase the number of iterations.\")\n",
    "    elif x<=10000000:\n",
    "        print(\"Very good. With this many iterations, you likely get an execution time which is as small as it can get. Further increasing the number of iterations would probably not give much improvements. Consider, that you might not need that many iterations after all.\")\n",
    "    else: \n",
    "        print(\"Wow, that is a lot! Do you really need that many? You will probably get just as good results with much less iterations.\")\n",
    "except:\n",
    "    print(\"\\nYou did't type a valid answer.\")"
   ]
  },
  {
   "cell_type": "code",
   "execution_count": null,
   "metadata": {},
   "outputs": [],
   "source": []
  }
 ],
 "metadata": {
  "kernelspec": {
   "display_name": "Python 3",
   "language": "python",
   "name": "python3"
  },
  "language_info": {
   "codemirror_mode": {
    "name": "ipython",
    "version": 3
   },
   "file_extension": ".py",
   "mimetype": "text/x-python",
   "name": "python",
   "nbconvert_exporter": "python",
   "pygments_lexer": "ipython3",
   "version": "3.8.10"
  }
 },
 "nbformat": 4,
 "nbformat_minor": 4
}
