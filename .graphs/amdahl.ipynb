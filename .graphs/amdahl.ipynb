{
 "cells": [
  {
   "cell_type": "code",
   "execution_count": null,
   "metadata": {},
   "outputs": [],
   "source": [
    "import numpy as np\n",
    "import matplotlib as mpl\n",
    "import matplotlib.pyplot as plt\n",
    "\n",
    "# calculate speed-up\n",
    "p = np.arange(1,max_p+1) \n",
    "max_speedup = []\n",
    "for i in range(max_p):\n",
    "    max_speedup.append(1/(f+((1-f)/p[i])))\n",
    "    \n",
    "# calculate efficiency    \n",
    "efficiency = np.array(max_speedup)/p\n",
    "    \n",
    "# calculate speed-up for p=infinite\n",
    "p_infinite = 1/f\n",
    "    \n",
    "# plot results\n",
    "fig,ax = plt.subplots(1,2,figsize = (14,5))\n",
    "ax[0].plot(p,max_speedup, c='blue', label='Maximum Speed-Up')\n",
    "ax[0].set_xlabel(\"Number of Processors\")\n",
    "ax[0].set_ylabel(\"Maximum Speed-up\")\n",
    "ax[0].set_title(\"Amdahl's Law - Speed-up\")\n",
    "ax[0].plot(np.arange(0,max_p+1),np.ones(max_p+1)*p_infinite,c='red',label='Maximum Speed-up is diverging towards '+ str(p_infinite))\n",
    "ax[0].set_ylim([1, p_infinite+0.7])\n",
    "ax[0].set_xlim([0, max_p])\n",
    "ax[0].legend();\n",
    "ax[1].plot(p,efficiency)\n",
    "ax[1].set_xlabel(\"Number of Processors\")\n",
    "ax[1].set_ylabel(\"Maximum Efficiency\")\n",
    "ax[1].set_title(\"Amdahl's Law - Efficinecy\")\n",
    "ax[1].set_xlim([1, max_p]);"
   ]
  }
 ],
 "metadata": {
  "kernelspec": {
   "display_name": "Python 3",
   "language": "python",
   "name": "python3"
  },
  "language_info": {
   "codemirror_mode": {
    "name": "ipython",
    "version": 3
   },
   "file_extension": ".py",
   "mimetype": "text/x-python",
   "name": "python",
   "nbconvert_exporter": "python",
   "pygments_lexer": "ipython3",
   "version": "3.8.5"
  }
 },
 "nbformat": 4,
 "nbformat_minor": 4
}
