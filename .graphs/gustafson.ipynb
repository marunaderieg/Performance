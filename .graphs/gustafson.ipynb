{
 "cells": [
  {
   "cell_type": "code",
   "execution_count": null,
   "metadata": {},
   "outputs": [],
   "source": [
    "import numpy as np\n",
    "import matplotlib as mpl\n",
    "import matplotlib.pyplot as plt\n",
    " \n",
    "# calculate speed-up\n",
    "p = np.arange(1,max_p+1) \n",
    "max_speedup_1 = []\n",
    "max_speedup_2 = []\n",
    "max_speedup_3 = []\n",
    "for i in range(max_p):\n",
    "    max_speedup_1.append(f_1+p[i]*(1-f_1))\n",
    "    max_speedup_2.append(f_2+p[i]*(1-f_2))    \n",
    "    max_speedup_3.append(f_3+p[i]*(1-f_3))\n",
    "    \n",
    "# calculate efficiency\n",
    "max_efficiency_1 = max_speedup_1/p\n",
    "max_efficiency_2 = max_speedup_2/p\n",
    "max_efficiency_3 = max_speedup_3/p\n",
    "\n",
    "# plot results\n",
    "fig,ax = plt.subplots(1,2, figsize = (14,5))\n",
    "ax[0].plot(p,max_speedup_1,label=\"f = \"+str(f_1))\n",
    "ax[0].plot(p,max_speedup_2,label=\"f = \"+str(f_2))\n",
    "ax[0].plot(p,max_speedup_3,label=\"f = \"+str(f_3))\n",
    "ax[0].set_xlabel(\"Number of Processors\")\n",
    "ax[0].set_ylabel(\"Maximum Scaled Speed-up\")\n",
    "ax[0].set_title(\"Gustafson's Law - Speed-up\")\n",
    "ax[0].set_xlim([0, max_p])\n",
    "ax[0].legend()\n",
    "ax[1].plot(p, max_efficiency_1, label=\"f = \"+str(f_1))\n",
    "ax[1].plot(p, max_efficiency_2, label=\"f = \"+str(f_2))\n",
    "ax[1].plot(p, max_efficiency_3, label=\"f = \"+str(f_3))\n",
    "ax[1].set_xlabel(\"Number of Processors\")\n",
    "ax[1].set_ylabel(\"Maximum Scaled Efficiency\")\n",
    "ax[1].set_title(\"Gustafson's Law - Efficiency\")\n",
    "ax[1].set_xlim([0, max_p])\n",
    "ax[1].legend();"
   ]
  }
 ],
 "metadata": {
  "kernelspec": {
   "display_name": "Python 3",
   "language": "python",
   "name": "python3"
  },
  "language_info": {
   "codemirror_mode": {
    "name": "ipython",
    "version": 3
   },
   "file_extension": ".py",
   "mimetype": "text/x-python",
   "name": "python",
   "nbconvert_exporter": "python",
   "pygments_lexer": "ipython3",
   "version": "3.8.10"
  }
 },
 "nbformat": 4,
 "nbformat_minor": 4
}
