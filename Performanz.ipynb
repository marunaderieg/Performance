{
 "cells": [
  {
   "cell_type": "markdown",
   "metadata": {},
   "source": [
    "# What I need from you\n",
    "\n",
    "Congratulations! You probably just opened the most interesting Jupyter Notebook you have ever read.\n",
    "\n",
    "This Notebook is the result of many hours of hard work. \n",
    "And, I need something in return. From you. \n",
    "\n",
    "<video src=\"videos/Minions.mp4\" width=\"280\" height=\"157.5\" type=\"video/mp4\" controls>\n",
    "Your browser does not support the video tag\n",
    "</video> \n",
    " [d] \n",
    "\n",
    "I created this Notebook as part of my bachelor thesis project. An evaluation of this Notebook is part of the thesis. This is why I need you to fill out a questionaire. It will take you about **15 Minutes** to answer all the questions. Your answers can be in English or in German. \n",
    "\n",
    "<img src=\"figures/phone1.jpg\" width=\"500\"  alt=\"If 115 Students read this Notebook, I would need each one of them to fill out my questionaire at least 7.429 times in order to get significant results...\">\n",
    "\n",
    "Please fill out the form before the \\<date\\>. You can find the questionaire through this link: ...\n",
    "\n",
    "Thank you very much for your help! I hope the material presented here will help you deepening your understanding of performance in parallel programming."
   ]
  },
  {
   "cell_type": "code",
   "execution_count": null,
   "metadata": {},
   "outputs": [],
   "source": [
    "%run topsecret/test1.ipynb"
   ]
  },
  {
   "cell_type": "markdown",
   "metadata": {},
   "source": [
    "# Introduction\n",
    "\n",
    "Why are you looking at this notebook right now? I assume it is because you are learning about parallel programming and want to know all about it. But why is that so? Why are you bothering about learning the skill of parallel programming?\n",
    "\n",
    "<img src=\"figures/happyman.jpg\" width=\"400\"  alt=\"I always wanted to be able to say 'I once too took a course in parallel programming'...\">\n",
    "\n",
    "Well, probably you are aware of the importance of creating code with good performance, and you hope that parallel programming will help you with this. According to [[a]](#a) the main reason why we do parallel programming is to increase performance.\n",
    "\n",
    "But what is performance ? And to what extend can parallel programming help us increase performance ?\n",
    "\n",
    "When learning about parallel programming it is crucial to understand what performance is and how we can increase and measure it. \n",
    "\n",
    "In this Notebook you will learn about:\n",
    "\n",
    "- Performance\n",
    "- [Speed up](#speedup)\n",
    "- Efficiency\n",
    "- Overheads\n",
    "- Scalability\n",
    "- Amdahl's Law\n",
    "- Gustafson's Law\n",
    "\n",
    "This notebook is not a more complicated version of a textbook, but a tool for interactive learning instead. You can write and execute your own code in code cells, and adjust the values of parameters I have defined in my code. You will not only learn about different laws of performance but will also be able to test the validity of these laws yourself. There are a number of benchmarks for this purpose, that you can find in the home-folder of this notebook. Of course you can also write your own serial and parallel programs and test their performance within this notebook. \n",
    "\n",
    "Should you have any suggestions of how this notebook could be extended, you can either write me an email and pray for a reply, or simply do it yourself.\n",
    "\n",
    "Have fun!!!"
   ]
  },
  {
   "cell_type": "markdown",
   "metadata": {},
   "source": [
    "# Why Parallel Programming ?\n",
    "\n",
    "With the use of parallel programming we can not only speed up our programs, but we can also use the increased performance to reduce power consumption [[b]](#b):\n",
    "\n",
    "In this notebook we will not analyze the improvement of performance with regards to power consumption. Nevertheless, I recommend watching the following video by Tim Mattson [[c]](#c). He will talk about why we need parallel programming, and how parallel programming is influencing not only speed but also power consumption.\n",
    "\n",
    "**Video about power and performance**\n",
    "\n",
    "<video src=\"videos/Performance.mp4\" width=\"560\" height=\"315\" type=\"video/mp4\" controls>\n",
    "Your browser does not support the video tag\n",
    "</video>\n",
    "\n",
    "What did we learn from Tim Mattson in this video?\n",
    "\n",
    "We learned that with parallel computing we can either:\n",
    "1. Execute a program in the same amount of time, but with reduced power consumption\n",
    "2. or execute a program with the same amount of power consumption, but with reduced execution time\n",
    "\n",
    "In the following sections we will only evaluate performance with regards to execution time. "
   ]
  },
  {
   "cell_type": "markdown",
   "metadata": {},
   "source": [
    "## Speed Up <a class=\"anchor\" id=\"speedup\"></a>\n",
    "\n",
    "The term 'speed up' is used to describe how much faster a new version of a program runs compared to the old version. This implies that we have 2 different execution times that we compare. In the case of parallel programming, it makes sense to compare \n",
    "- the execution time 'without parallelism' \n",
    "- the execution time 'with parallelism'\n",
    "\n",
    "Thus the speed up gives us a measurement for the improvement in speed that was achieved by applying parallelism to a program. \n",
    "\n",
    "We use the following formula to calculate speed up [[e]](#e):\n",
    "\n",
    "**Speed up = $\\frac{t_{serial}}{t_{parallel}}$**\n",
    "\n",
    "> $t_{serial}$ = execution time of the serial program, i.e. the program that does not use parallelism\n",
    "> <br>$t_{parallel}$ = execution time of the parallelized program \n",
    "\n",
    "**Question:**\n",
    "> Assume we have a serial program, that has an execution time of 54 seconds. Now we apply parallelism to our program. When we measure the execution time again, it is 27 seconds. \n",
    "\n",
    "> What speed up did we achieve ? "
   ]
  },
  {
   "cell_type": "code",
   "execution_count": 2,
   "metadata": {},
   "outputs": [
    {
     "name": "stdout",
     "output_type": "stream",
     "text": [
      "My answer:\n"
     ]
    },
    {
     "name": "stdin",
     "output_type": "stream",
     "text": [
      " 2\n"
     ]
    },
    {
     "name": "stdout",
     "output_type": "stream",
     "text": [
      "\n",
      "That's right!\n",
      "Because 54/27=2 we have a speed up of two. This means, that the parallel version of the programm runs two times as fast than the serial one.\n"
     ]
    }
   ],
   "source": [
    "%run topsecret/test2.ipynb"
   ]
  },
  {
   "cell_type": "markdown",
   "metadata": {},
   "source": [
    "<br><br>\n",
    "<img src='figures/race3.jpg' width='600' art='picture to illustrate speed up'>\n",
    "\n",
    "As you can see, calculating the speed up is pretty straight forward. There are, however, two questions you need to ask yourself:\n",
    "1. How should you measure the execution time ?\n",
    "2. For a given problem, which serial problem solution should you use to measure $t_{serial}$ ?\n",
    "\n",
    "## Measuring Execution Time \n",
    "\n",
    "In Jupyter Notebooks we can use the magic command `%%time` to measure the execution time of a code cell. Let's look at this example (the Code is in Python):"
   ]
  },
  {
   "cell_type": "code",
   "execution_count": 2,
   "metadata": {},
   "outputs": [
    {
     "name": "stdout",
     "output_type": "stream",
     "text": [
      "CPU times: user 1e+03 ns, sys: 2 µs, total: 3 µs\n",
      "Wall time: 7.87 µs\n"
     ]
    }
   ],
   "source": [
    "%%time\n",
    "a = 2\n",
    "while a<100:\n",
    "    a *= 5"
   ]
  },
  {
   "cell_type": "markdown",
   "metadata": {},
   "source": [
    "As a result we get CPU time and Wall time. Do you know the difference? \n",
    "\n",
    "`CPU time` measures the total time during which the CPU was busy executing our code, including time spent in library functions. The `wall time` on the other hand also measures the time, during which our program was idle. Wall time measures 'the time that has elapsed between the start and finish of execution of the code' [[a]](#a).\n",
    "\n",
    "**Question:** Which one do you think you need to measure, if you want to evaluate the performance of your parallel program?"
   ]
  },
  {
   "cell_type": "code",
   "execution_count": 5,
   "metadata": {},
   "outputs": [
    {
     "name": "stdout",
     "output_type": "stream",
     "text": [
      "Write 'CPU Time' or 'Wall Time':\n"
     ]
    },
    {
     "name": "stdin",
     "output_type": "stream",
     "text": [
      " sda\n"
     ]
    },
    {
     "name": "stdout",
     "output_type": "stream",
     "text": [
      "You did't type a valid answer. Write 'CPU Time' or 'Wall Time'.\n"
     ]
    }
   ],
   "source": [
    "%run topsecret/test3.ipynb"
   ]
  },
  {
   "cell_type": "markdown",
   "metadata": {},
   "source": [
    "**Example:** \n",
    "\"For example, in a distributed-memory program, a process that calls a receive function may have to wait for the sending process to execute the matching send, and the operating system might put the receiving process to sleep while it waits. This idle time wouldn't be counted as CPU time, since no function that's been called by the process is active. However, it should count in our evaluation of the overall run-time, since it may be a real cost in our program. If each time the program is run, the process has to wait, ignoring the time it spends waiting would give a misleading picture of the actual run-time of the program \" [[a]](#a).\n",
    "\n",
    "**Challenge:** Run the code cell above (the one starting with %%time) multiple times. What do you observe ?\n",
    "\n",
    "You probably noticed that the wall time and CPU time differ each time you run the code. Since many other things are happening on the system while the code is executed, the exact values for CPU and wall time will differ each time we run the code. \n",
    "\n",
    "The following code will give you a graphical illustration of this effect. Note, that in the code below we measure the wall time without the help of the `%%time` magic command. This allow us to save the result of one single measurement multiple times, which we can then plot into a histogram. \n",
    "\n",
    "**Hint:** You can replace my code within the commented section with your own code if you want to graphically display the variance in wall time measurements. Should your code not be in Python, then you can make an executable of it instead, place the file in the same folder you have this notebook at, and replace my code with <br>`! ./nameOfYourBinary`. "
   ]
  },
  {
   "cell_type": "code",
   "execution_count": 1,
   "metadata": {},
   "outputs": [
    {
     "data": {
      "text/plain": [
       "Text(0.5, 0, 'micro seconds')"
      ]
     },
     "execution_count": 1,
     "metadata": {},
     "output_type": "execute_result"
    },
    {
     "data": {
      "image/png": "[encoded data removed]",
      "text/plain": [
       "<Figure size 1080x288 with 1 Axes>"
      ]
     },
     "metadata": {
      "needs_background": "light"
     },
     "output_type": "display_data"
    }
   ],
   "source": [
    "import timeit\n",
    "import matplotlib as mpl\n",
    "import matplotlib.pyplot as plt\n",
    "import numpy as np\n",
    "\n",
    "seconds = 1\n",
    "miliSeconds = 1e3\n",
    "microSeconds = 1e6\n",
    "nanoSeconds = 1e9\n",
    "\n",
    "#start of constants you might want to adjust\n",
    "timeUnit = microSeconds #determines the time Unit on the x axis of the histogramm\n",
    "label = 'micro seconds' #this should be the same as the chosen timeUnit \n",
    "iterations = 100 #amount of measurements\n",
    "binsInHistogramm = 100 #amount of containers in the Histogramm\n",
    "#end of constants you might want to adjust\n",
    "\n",
    "times = np.zeros(iterations) \n",
    "\n",
    "for x in range(iterations):\n",
    "    time1 = timeit.default_timer()\n",
    "\n",
    "#start of the code you want to measure execution time on'''\n",
    "    a = 2\n",
    "    while a<100:\n",
    "        a *= 5\n",
    "#end of the code you want to measure execution time on'''\n",
    "\n",
    "    time2 = timeit.default_timer()\n",
    "    times[x]=(time2-time1)*timeUnit\n",
    "\n",
    "#display histogramm\n",
    "fig,ax = plt.subplots(figsize=(15,4))\n",
    "ax.hist(times, bins=binsInHistogramm)\n",
    "ax.set_title('wall time')\n",
    "ax.set_xlabel(label)"
   ]
  },
  {
   "cell_type": "markdown",
   "metadata": {},
   "source": [
    "Each time you rerun the code, the histogram will look different. However, probably you notice one single value at the very right, each time you run the code. This makes it difficult to interpret the histogram values. \n",
    "\n",
    "**Question:** Do you think this is just random? Or could there be a good reason for this behavior?\n",
    "\n",
    "To answer this question, let's look at the first 20 values of our measurements:"
   ]
  },
  {
   "cell_type": "code",
   "execution_count": 2,
   "metadata": {},
   "outputs": [
    {
     "name": "stdout",
     "output_type": "stream",
     "text": [
      "[3.40000042 1.50000051 1.29999898 1.29999898 1.30000262 1.29999898\n",
      " 1.19999822 1.29999898 1.29999898 1.19999822 1.29999898 1.20000186\n",
      " 1.30000262 1.30000262 1.20000186 1.29999898 1.29999898 1.29999898\n",
      " 1.29999898 1.20000186]\n"
     ]
    }
   ],
   "source": [
    "if np.size(times)>=20:\n",
    "    print(times[:20])\n",
    "else: print(times)"
   ]
  },
  {
   "cell_type": "markdown",
   "metadata": {},
   "source": [
    "Probably the first value is much higher than the following ones. This makes sense, because the first time we run the code data has to be first loaded into the cache. \n",
    "\n",
    "Let's discard the first measurement and look at our histogram again:"
   ]
  },
  {
   "cell_type": "code",
   "execution_count": 5,
   "metadata": {},
   "outputs": [
    {
     "data": {
      "text/plain": [
       "Text(0.5, 0, 'micro seconds')"
      ]
     },
     "execution_count": 5,
     "metadata": {},
     "output_type": "execute_result"
    },
    {
     "data": {
      "image/png": "[encoded data removed]",
      "text/plain": [
       "<Figure size 1080x288 with 1 Axes>"
      ]
     },
     "metadata": {
      "needs_background": "light"
     },
     "output_type": "display_data"
    }
   ],
   "source": [
    "seconds = 1\n",
    "miliSeconds = 1000\n",
    "microSeconds = 1000000\n",
    "nanoSeconds = 1000000000\n",
    "\n",
    "#start of constants you might want to adjust\n",
    "timeUnit = microSeconds #determines the time Unit on the x axis of the histogramm\n",
    "label = 'micro seconds' #this should be the same as the chosen timeUnit \n",
    "iterations = 100 #amount of measurements\n",
    "binsInHistogramm = 100 #amount of containers in the Histogramm\n",
    "#end of constants you might want to adjust\n",
    "\n",
    "times = np.zeros(iterations) \n",
    "\n",
    "for x in range(iterations):\n",
    "    time1 = timeit.default_timer()\n",
    "\n",
    "#start of the code you want to measure execution time on'''\n",
    "    a = 2\n",
    "    while a<100:\n",
    "        a *= 5\n",
    "#end of the code you want to measure execution time on'''\n",
    "\n",
    "    time2 = timeit.default_timer()\n",
    "    times[x]=(time2-time1)*timeUnit\n",
    "\n",
    "#display histogramm\n",
    "fig,ax = plt.subplots(figsize=(15,4))\n",
    "ax.hist(times[1:], bins=binsInHistogramm)\n",
    "ax.set_title('wall time')\n",
    "ax.set_xlabel(label)"
   ]
  },
  {
   "cell_type": "markdown",
   "metadata": {},
   "source": [
    "This histogram looks much better for analysis. \n",
    "\n",
    "**Question**: Let's say you want to give one single value for the speed of your program/code section. Which value would you choose? The smallest? The biggest? An average? Would you include very large/small values when calculating the average? "
   ]
  },
  {
   "cell_type": "code",
   "execution_count": 7,
   "metadata": {},
   "outputs": [
    {
     "name": "stdout",
     "output_type": "stream",
     "text": [
      "Which value would you choose? \n",
      "\n",
      "Type 'smallest','largest' or 'average': \n"
     ]
    },
    {
     "name": "stdin",
     "output_type": "stream",
     "text": [
      " smallest\n"
     ]
    },
    {
     "name": "stdout",
     "output_type": "stream",
     "text": [
      "\n",
      "Very Good!!!\n",
      "According to Peter Pachecco[a] this is correct. Think about it this way: \n",
      "You have different values for the exectution time because each time you run the code, different amount of background work is happening on your system. The 'real' execution time is the one, when no background work is happening at all. So the smaller the exectuion time you measured is, the closer you are to the 'real' execution time. Therefore it makes most sense, to choose the smallest value.\n",
      "\n",
      "\n"
     ]
    }
   ],
   "source": [
    "%run topsecret/test4.ipynb"
   ]
  },
  {
   "cell_type": "markdown",
   "metadata": {},
   "source": [
    "What about the number of iterations? How many times should you measure the wall time on your code, to avoid random noise?"
   ]
  },
  {
   "cell_type": "code",
   "execution_count": 8,
   "metadata": {},
   "outputs": [
    {
     "name": "stdout",
     "output_type": "stream",
     "text": [
      "How many iterations would you perform? \n",
      "\n",
      "Type a positive integer:\n",
      "\n"
     ]
    },
    {
     "name": "stdin",
     "output_type": "stream",
     "text": [
      " 10\n"
     ]
    },
    {
     "name": "stdout",
     "output_type": "stream",
     "text": [
      "If you just need an aproximate estimate, that will do the job. For a more exact result you probably want to increase the number of iterations.\n"
     ]
    }
   ],
   "source": [
    "%run topsecret/test5.ipynb"
   ]
  },
  {
   "cell_type": "markdown",
   "metadata": {},
   "source": [
    "<br>Let's try a few `number of iterations` and plot the results. For iteration number x we measure the wall time x times, and save the smallest measurement.\n",
    "\n",
    "**Hint:** You could replace my code within the commented section with your own code."
   ]
  },
  {
   "cell_type": "code",
   "execution_count": 6,
   "metadata": {},
   "outputs": [],
   "source": [
    "iterations = [10,100,1000,10000,100000,1000000,10000000]\n",
    "results = []\n",
    "\n",
    "for i in iterations:\n",
    "    result = np.zeros(i)\n",
    "    for x in range(i):\n",
    "        time1 = timeit.default_timer()\n",
    "\n",
    "    #start of the code you want to measure execution time on'''\n",
    "        a = 2\n",
    "        while a<100:\n",
    "            a *= 5\n",
    "    #end of the code you want to measure execution time on'''\n",
    "\n",
    "        time2 = timeit.default_timer()\n",
    "        result[x]=(time2-time1)*1000000 #micro-seconds\n",
    "    results.append(result.min())"
   ]
  },
  {
   "cell_type": "code",
   "execution_count": 7,
   "metadata": {},
   "outputs": [
    {
     "data": {
      "text/plain": [
       "<matplotlib.legend.Legend at 0x7fd200414d90>"
      ]
     },
     "execution_count": 7,
     "metadata": {},
     "output_type": "execute_result"
    },
    {
     "data": {
      "image/png": "[encoded data removed]",
      "text/plain": [
       "<Figure size 720x360 with 1 Axes>"
      ]
     },
     "metadata": {
      "needs_background": "light"
     },
     "output_type": "display_data"
    }
   ],
   "source": [
    "#plot results\n",
    "fig,ax = plt.subplots(figsize=(10,5)) \n",
    "for i in range(len(iterations)):\n",
    "    ax.scatter(iterations[i], results[i], s=30, label=iterations[i])\n",
    "ax.set_xlabel('number of iterations', fontsize=12)\n",
    "ax.set_ylabel('smallest execution time', fontsize=12)\n",
    "ax.set_title('Smallest Exectuion Time per Number of Iterations')\n",
    "ax.legend()"
   ]
  },
  {
   "cell_type": "markdown",
   "metadata": {},
   "source": [
    "The more often you run the code, the more likely you will get a measurement during which the system is not very busy doing other things. As we can see in the plot above, whether you run the code 100 times or 100'000 times can make a big difference. At some point though, the benefit you get from further increasing the number of iterations will become insignificant. When exactly that point is reached depends on: \n",
    "- the system\n",
    "- the background work happening on the system\n",
    "- the code \n",
    "\n",
    "When I run the code above on my system, it looks like after 1 million iterations there is no significant improvement for the minimal execution time. The python module timeit by default also makes 1 million measurements [[e]](#e) [[g]](#g), so this seems to be a good standard practice. For code that is more time consuming you might have to adjust the number of iterations for practical reasons.\n",
    "\n",
    "<img src='figures/thinking3.jpg' width='400' art='\"I could measure the execution time of my serial programm while doing a lot of things in the background. Then when I measure the execution time of my parallel programm, I could minimize the work happening in the background. This could significantly increase my speed-up...\"'>\n",
    "\n",
    "When you want to compare the execution times of different programs (such as a serial and a parallel version) it is obviously necessary, that you measure both execution times on the same system and with similar amount of background work happening on the system. There are multiple ways of how one could influence the measurements and thus distort the calculations of speed up. If you are interested in this topic, I recommend you read the following article \"Misleading Performance Reporting in the Supercomputing Field\" by David H. Bailey [[f]](#f).\n",
    "\n",
    "You might have noticed, that the wall time that we measured in the beginning with the magic command `%%time` differs from the time we measured manually with the use of `timeit.default_timer()`. \n",
    "\n",
    "There are many different ways of measuring the wall time, and each methods will give slightly different results. The explanation for this is `overhead`. We will talk more about overhead later. Some functions will also by default make multiple measurements of the execution time, and output the acumulated time of all repeats. As long as you are consistent with the method you use for measuring time, it doesn't matter so much which one you choose.\n",
    "\n",
    "**Timeit Magic Command:** The probably most used method to measure execution time in Jupyter Notebooks is with the built-in magic command `timeit`. You might want to play around with the following options [[h]](#f):\n",
    "\n",
    "- -o allows you to save the `TimeitResult` object. This also gives you the chance to access some interesting attributes of the TimeitResult object \n",
    "- -q silences the output\n",
    "- -r sets the number of repeats\n",
    "- -n sets the number of loops for each repeat\n",
    "\n",
    "Maybe you feel confused about the difference between repeats and loops (I was). Just think of loops as 'repeats during each repeat'. In each repeat the code is executed n times (n=number set for loops), and the accumluated time measurement value of all loop runs is saved for every repeat. When you call the attribute `all_runs` you get the accumulated loop times for each 'repeat'. If you want to get the smallest non-accumulated time that was measured in all individual runs, you can use the attribute `best`.\n",
    "\n",
    "**Example:** To give an example, we are going to run a sorting program written in c, and measure the total execution time with `%timeit`. The program is sorting an array of 1 million random numbers with the quicksort algorithm. We pass the length of the array to be sorted as an argument, and the option `>/dev/null` silences the output of the program in the terminal. "
   ]
  },
  {
   "cell_type": "code",
   "execution_count": 1,
   "metadata": {},
   "outputs": [],
   "source": [
    "time = %timeit -o -n 3 -r 9 -q ! ./programms/quicksort/par.o 100 >/dev/null"
   ]
  },
  {
   "cell_type": "markdown",
   "metadata": {},
   "source": [
    "\n"
   ]
  },
  {
   "cell_type": "markdown",
   "metadata": {},
   "source": [
    "**Question:** How many times did we run the program?"
   ]
  },
  {
   "cell_type": "code",
   "execution_count": 7,
   "metadata": {},
   "outputs": [
    {
     "name": "stdout",
     "output_type": "stream",
     "text": [
      "Type a number:\n"
     ]
    },
    {
     "name": "stdin",
     "output_type": "stream",
     "text": [
      " seventy\n"
     ]
    },
    {
     "name": "stdout",
     "output_type": "stream",
     "text": [
      "\n",
      "Sorry, that is not correct. The option n tells us how many times the code is run during each repeat. The option r tells us how many repeats we have. Try again...\n"
     ]
    }
   ],
   "source": [
    "%run ./topsecret/test6.ipynb"
   ]
  },
  {
   "cell_type": "markdown",
   "metadata": {},
   "source": [
    "**Question:** Out of all these program runs, what is the value of the fastest run we measured? What code do you have to run to find out?"
   ]
  },
  {
   "cell_type": "code",
   "execution_count": null,
   "metadata": {},
   "outputs": [
    {
     "name": "stdout",
     "output_type": "stream",
     "text": [
      "Type the code you would run, to find out the smallest execution time?\n"
     ]
    }
   ],
   "source": [
    "%run ./topsecret/test7.ipynb"
   ]
  },
  {
   "cell_type": "markdown",
   "metadata": {},
   "source": [
    "## Which code should be chosen to calculate $t_{serial}$ ?:\n",
    "Let's say, we want to use parallel programming to sort a very long array of integer numbers. The problem of 'sorting integers' can be solved with many different algorithms (quicksort, bubblesort, heapsort, mergesort, selectionsort, ...)."
   ]
  },
  {
   "cell_type": "code",
   "execution_count": 10,
   "metadata": {},
   "outputs": [
    {
     "name": "stdout",
     "output_type": "stream",
     "text": [
      "Performanz.ipynb  figures  programms  topsecret  videos\n"
     ]
    }
   ],
   "source": [
    "! ls"
   ]
  },
  {
   "cell_type": "code",
   "execution_count": 17,
   "metadata": {},
   "outputs": [],
   "source": [
    "time = %timeit -o -n 1 -r 100 -q ! ./programms/quicksort/par.o 10000 >/dev/null"
   ]
  },
  {
   "cell_type": "markdown",
   "metadata": {},
   "source": [
    "# References\n",
    "\n"
   ]
  },
  {
   "cell_type": "markdown",
   "metadata": {},
   "source": [
    "[a] An introduction to parallel prgoramming. Peter Pachecco 2011.<a class=\"anchor\" id=\"a\"></a>\n",
    "\n",
    "[b] Introduction to Parallel Computing. From Algorithms to Programming on State-of-the-Art Platforms (2018) page 11? <a class=\"anchor\" id=\"b\"></a>\n",
    "\n",
    "[c] Time Mattson. Youtube Video \"Introduction to OpenMP: 02 part 1 Module 1\"  https://youtu.be/cMWGeJyrc9w <a class=\"anchor\" id=\"c\"></a>\n",
    "\n",
    "[d] Depicable Me. Youtube Video. \"Minions - WHAT ?!\" https://www.youtube.com/watch?v=MfylJy_nMbM <a class=\"anchor\" id=\"d\"></a>\n",
    "\n",
    "[e] Python Cookbook <a class=\"anchor\" id=\"e\"></a>\n",
    "\n",
    "[f] Misleading Performance Reporting in the Supercomputing Field, David H. Bailey <a class=\"anchor\" id=\"f\"></a>\n",
    "\n",
    "[g] Python Documentation. Timeit Module. https://docs.python.org/3/library/timeit.html <a class=\"anchor\" id=\"g\"></a>\n",
    "\n",
    "[h] Documentation about magic commands. https://ipython.readthedocs.io/en/stable/interactive/magics.html <a class=\"anchor\" id=\"h\"></a>"
   ]
  }
 ],
 "metadata": {
  "kernelspec": {
   "display_name": "Python 3",
   "language": "python",
   "name": "python3"
  },
  "language_info": {
   "codemirror_mode": {
    "name": "ipython",
    "version": 3
   },
   "file_extension": ".py",
   "mimetype": "text/x-python",
   "name": "python",
   "nbconvert_exporter": "python",
   "pygments_lexer": "ipython3",
   "version": "3.8.5"
  }
 },
 "nbformat": 4,
 "nbformat_minor": 4
}
